{
  "nbformat": 4,
  "nbformat_minor": 0,
  "metadata": {
    "colab": {
      "provenance": []
    },
    "kernelspec": {
      "name": "python3",
      "display_name": "Python 3"
    },
    "language_info": {
      "name": "python"
    }
  },
  "cells": [
    {
      "cell_type": "code",
      "execution_count": 1,
      "metadata": {
        "colab": {
          "base_uri": "https://localhost:8080/"
        },
        "id": "LjzaUloUa3s9",
        "outputId": "801b96f6-3ac3-4b41-fca8-0023f69c3471"
      },
      "outputs": [
        {
          "output_type": "stream",
          "name": "stdout",
          "text": [
            "Mounted at /content/drive\n"
          ]
        }
      ],
      "source": [
        "from google.colab import drive\n",
        "drive.mount('/content/drive')"
      ]
    },
    {
      "cell_type": "code",
      "source": [
        "drive_dir = '/content/drive/MyDrive/Clarifying_Questions_GPT_Research'"
      ],
      "metadata": {
        "id": "zvL0PUiwbE0H"
      },
      "execution_count": 2,
      "outputs": []
    },
    {
      "cell_type": "code",
      "source": [
        "!cd {drive_dir} && pip install -r requirements_2.txt"
      ],
      "metadata": {
        "colab": {
          "base_uri": "https://localhost:8080/"
        },
        "id": "_LzfNhgzbH6U",
        "outputId": "4703effa-c462-4e7a-f498-eb7ead085063"
      },
      "execution_count": 3,
      "outputs": [
        {
          "output_type": "stream",
          "name": "stdout",
          "text": [
            "Requirement already satisfied: matplotlib in /usr/local/lib/python3.10/dist-packages (from -r requirements_2.txt (line 1)) (3.7.1)\n",
            "Requirement already satisfied: matplotlib-inline in /usr/local/lib/python3.10/dist-packages (from -r requirements_2.txt (line 2)) (0.1.6)\n",
            "Requirement already satisfied: numpy in /usr/local/lib/python3.10/dist-packages (from -r requirements_2.txt (line 3)) (1.23.5)\n",
            "Collecting openai (from -r requirements_2.txt (line 4))\n",
            "  Downloading openai-0.27.9-py3-none-any.whl (75 kB)\n",
            "\u001b[2K     \u001b[90m━━━━━━━━━━━━━━━━━━━━━━━━━━━━━━━━━━━━━━━━\u001b[0m \u001b[32m75.5/75.5 kB\u001b[0m \u001b[31m1.2 MB/s\u001b[0m eta \u001b[36m0:00:00\u001b[0m\n",
            "\u001b[?25hRequirement already satisfied: pandas in /usr/local/lib/python3.10/dist-packages (from -r requirements_2.txt (line 5)) (1.5.3)\n",
            "Requirement already satisfied: Pillow in /usr/local/lib/python3.10/dist-packages (from -r requirements_2.txt (line 6)) (9.4.0)\n",
            "Collecting python-json-logger (from -r requirements_2.txt (line 7))\n",
            "  Downloading python_json_logger-2.0.7-py3-none-any.whl (8.1 kB)\n",
            "Requirement already satisfied: requests in /usr/local/lib/python3.10/dist-packages (from -r requirements_2.txt (line 8)) (2.31.0)\n",
            "Requirement already satisfied: scikit-learn in /usr/local/lib/python3.10/dist-packages (from -r requirements_2.txt (line 9)) (1.2.2)\n",
            "Requirement already satisfied: tqdm in /usr/local/lib/python3.10/dist-packages (from -r requirements_2.txt (line 10)) (4.66.1)\n",
            "Requirement already satisfied: contourpy>=1.0.1 in /usr/local/lib/python3.10/dist-packages (from matplotlib->-r requirements_2.txt (line 1)) (1.1.0)\n",
            "Requirement already satisfied: cycler>=0.10 in /usr/local/lib/python3.10/dist-packages (from matplotlib->-r requirements_2.txt (line 1)) (0.11.0)\n",
            "Requirement already satisfied: fonttools>=4.22.0 in /usr/local/lib/python3.10/dist-packages (from matplotlib->-r requirements_2.txt (line 1)) (4.42.0)\n",
            "Requirement already satisfied: kiwisolver>=1.0.1 in /usr/local/lib/python3.10/dist-packages (from matplotlib->-r requirements_2.txt (line 1)) (1.4.4)\n",
            "Requirement already satisfied: packaging>=20.0 in /usr/local/lib/python3.10/dist-packages (from matplotlib->-r requirements_2.txt (line 1)) (23.1)\n",
            "Requirement already satisfied: pyparsing>=2.3.1 in /usr/local/lib/python3.10/dist-packages (from matplotlib->-r requirements_2.txt (line 1)) (3.1.1)\n",
            "Requirement already satisfied: python-dateutil>=2.7 in /usr/local/lib/python3.10/dist-packages (from matplotlib->-r requirements_2.txt (line 1)) (2.8.2)\n",
            "Requirement already satisfied: traitlets in /usr/local/lib/python3.10/dist-packages (from matplotlib-inline->-r requirements_2.txt (line 2)) (5.7.1)\n",
            "Requirement already satisfied: aiohttp in /usr/local/lib/python3.10/dist-packages (from openai->-r requirements_2.txt (line 4)) (3.8.5)\n",
            "Requirement already satisfied: pytz>=2020.1 in /usr/local/lib/python3.10/dist-packages (from pandas->-r requirements_2.txt (line 5)) (2023.3)\n",
            "Requirement already satisfied: charset-normalizer<4,>=2 in /usr/local/lib/python3.10/dist-packages (from requests->-r requirements_2.txt (line 8)) (3.2.0)\n",
            "Requirement already satisfied: idna<4,>=2.5 in /usr/local/lib/python3.10/dist-packages (from requests->-r requirements_2.txt (line 8)) (3.4)\n",
            "Requirement already satisfied: urllib3<3,>=1.21.1 in /usr/local/lib/python3.10/dist-packages (from requests->-r requirements_2.txt (line 8)) (2.0.4)\n",
            "Requirement already satisfied: certifi>=2017.4.17 in /usr/local/lib/python3.10/dist-packages (from requests->-r requirements_2.txt (line 8)) (2023.7.22)\n",
            "Requirement already satisfied: scipy>=1.3.2 in /usr/local/lib/python3.10/dist-packages (from scikit-learn->-r requirements_2.txt (line 9)) (1.10.1)\n",
            "Requirement already satisfied: joblib>=1.1.1 in /usr/local/lib/python3.10/dist-packages (from scikit-learn->-r requirements_2.txt (line 9)) (1.3.2)\n",
            "Requirement already satisfied: threadpoolctl>=2.0.0 in /usr/local/lib/python3.10/dist-packages (from scikit-learn->-r requirements_2.txt (line 9)) (3.2.0)\n",
            "Requirement already satisfied: six>=1.5 in /usr/local/lib/python3.10/dist-packages (from python-dateutil>=2.7->matplotlib->-r requirements_2.txt (line 1)) (1.16.0)\n",
            "Requirement already satisfied: attrs>=17.3.0 in /usr/local/lib/python3.10/dist-packages (from aiohttp->openai->-r requirements_2.txt (line 4)) (23.1.0)\n",
            "Requirement already satisfied: multidict<7.0,>=4.5 in /usr/local/lib/python3.10/dist-packages (from aiohttp->openai->-r requirements_2.txt (line 4)) (6.0.4)\n",
            "Requirement already satisfied: async-timeout<5.0,>=4.0.0a3 in /usr/local/lib/python3.10/dist-packages (from aiohttp->openai->-r requirements_2.txt (line 4)) (4.0.3)\n",
            "Requirement already satisfied: yarl<2.0,>=1.0 in /usr/local/lib/python3.10/dist-packages (from aiohttp->openai->-r requirements_2.txt (line 4)) (1.9.2)\n",
            "Requirement already satisfied: frozenlist>=1.1.1 in /usr/local/lib/python3.10/dist-packages (from aiohttp->openai->-r requirements_2.txt (line 4)) (1.4.0)\n",
            "Requirement already satisfied: aiosignal>=1.1.2 in /usr/local/lib/python3.10/dist-packages (from aiohttp->openai->-r requirements_2.txt (line 4)) (1.3.1)\n",
            "Installing collected packages: python-json-logger, openai\n",
            "Successfully installed openai-0.27.9 python-json-logger-2.0.7\n"
          ]
        }
      ]
    },
    {
      "cell_type": "code",
      "source": [
        "import openai\n",
        "\n",
        "import pickle\n",
        "\n",
        "import json\n",
        "\n",
        "import random\n",
        "\n",
        "import re\n",
        "\n",
        "import copy\n",
        "\n",
        "import sys\n",
        "\n",
        "import os\n",
        "\n",
        "from tqdm import tqdm\n",
        "\n",
        "import pprint\n",
        "\n",
        "\n",
        "import numpy as np\n",
        "\n",
        "import nltk"
      ],
      "metadata": {
        "id": "_XfTcGedbJaK"
      },
      "execution_count": 4,
      "outputs": []
    },
    {
      "cell_type": "markdown",
      "source": [
        "Code used for Analysis"
      ],
      "metadata": {
        "id": "VE6VCWnmePOu"
      }
    },
    {
      "cell_type": "code",
      "source": [
        "def getChatQs(tree, node_id):\n",
        "  context = tree['tree'][node_id]['context']\n",
        "  chat_lst = [txt['content'] for txt in context]\n",
        "  return [chat_lst[i] for i in range(len(chat_lst)) if i%2!=0][:-1]\n",
        "\n",
        "def getIdsTxt(id_lst):\n",
        "  return [tree['tree'][id]['generated_text'] for id in id_lst]\n",
        "\n",
        "def getIdsQ(id_lst):\n",
        "  sugg = tree['suggestion_ids']\n",
        "  return [tree['tree'][id]['generated_text'] for id in id_lst if not id in sugg]"
      ],
      "metadata": {
        "id": "Iw14XcJDgIz4"
      },
      "execution_count": 5,
      "outputs": []
    },
    {
      "cell_type": "markdown",
      "source": [
        "Loading Tree"
      ],
      "metadata": {
        "id": "vvwT3HlgedRh"
      }
    },
    {
      "cell_type": "code",
      "source": [
        "with open(drive_dir+\"/openai_key.key\", \"r\") as f:\n",
        "    openai.api_key = f.read()"
      ],
      "metadata": {
        "id": "TktsCoPDbSjJ"
      },
      "execution_count": 6,
      "outputs": []
    },
    {
      "cell_type": "code",
      "source": [
        "def prepDic4Use(tree_dic):\n",
        "  # turn lists into sets where we need a set instead of a list\n",
        "  tree_dic['unfinished_ids'] = set(tree_dic['unfinished_ids'])\n",
        "  tree_dic['suggestion_ids'] = set(tree_dic['suggestion_ids'])\n",
        "  tree_dic['error_ids'] = set(tree_dic['error_ids'])\n",
        "  return\n",
        "\n",
        "def loadTreePkl(filename, pkl_path):\n",
        "    # Opening pickle file\n",
        "    with open(os.path.join(pkl_path, filename), 'rb') as f:\n",
        "        # Reading from pickle file\n",
        "        tree_dic = pickle.load(f)\n",
        "    # turn lists into sets where we need a set instead of a list\n",
        "    prepDic4Use(tree_dic)\n",
        "\n",
        "    return tree_dic"
      ],
      "metadata": {
        "id": "phryL_rdbVG0"
      },
      "execution_count": 7,
      "outputs": []
    },
    {
      "cell_type": "code",
      "source": [
        "# name of the pickle file that will be the saved tree\n",
        "fname = 'GPTree_travel1_200nodes.pkl'\n",
        "# path to folder that I want to save the tree in\n",
        "fpath = '/content/drive/MyDrive/Clarifying_Questions_GPT_Research/Trees'\n",
        "\n",
        "tree = loadTreePkl(fname, fpath)"
      ],
      "metadata": {
        "id": "nlDXpktNbfz-"
      },
      "execution_count": 8,
      "outputs": []
    },
    {
      "cell_type": "markdown",
      "source": [
        "General Stats"
      ],
      "metadata": {
        "id": "FCPslbBwdpSM"
      }
    },
    {
      "cell_type": "code",
      "source": [
        "print(f\"# of nodes: {len(tree['tree'])}\\n\")\n",
        "\n",
        "layer_n = len(tree['ids_by_layer'])\n",
        "print(f\"max depth of tree: {layer_n}\\n\")\n",
        "lns = '\\n'.join([f\"layer {l}: {len(tree['ids_by_layer'][l])}\" for l in range(layer_n)])\n",
        "print(f\"nodes per layer:\\n{lns}\\n\")\n",
        "\n",
        "print(f\"# of unfinished nodes: {len(tree['unfinished_ids'])}\\n\")\n",
        "print(f\"# of completly explored nodes: {len(tree['tree']) - len(tree['unfinished_ids'])}\\n\")\n",
        "\n",
        "opt_count = 0\n",
        "nodes_w_children_count = 0\n",
        "for n in tree['tree']:\n",
        "  branches = n['childrens_done_bool']\n",
        "  if branches == None: continue\n",
        "  real_child_n = len(n['generated_text'].split(' or '))\n",
        "  nodes_w_children_count += 1\n",
        "  opt_count += real_child_n\n",
        "print(f\"average number of options per node: {opt_count/nodes_w_children_count}\\n\")\n",
        "\n",
        "print(f\"# of completed chats: {len(tree['suggestion_ids'])}\\n\")\n",
        "\n",
        "depth_count = 0\n",
        "s_ids_set = tree['suggestion_ids']\n",
        "for s_id in s_ids_set:\n",
        "  #print(depth_count)\n",
        "  depth_count += len(tree['tree'][s_id]['context']) / 2\n",
        "print(f\"average depth of a completed chat: {depth_count/len(s_ids_set)}\\n\")\n",
        "\n",
        "print(f\"# of error nodes: {len(tree['error_ids'])}\")"
      ],
      "metadata": {
        "colab": {
          "base_uri": "https://localhost:8080/"
        },
        "id": "KVTpXLYCb6PU",
        "outputId": "d787992e-2127-4942-bf3a-e5d7bd3764d8"
      },
      "execution_count": 9,
      "outputs": [
        {
          "output_type": "stream",
          "name": "stdout",
          "text": [
            "# of nodes: 200\n",
            "\n",
            "max depth of tree: 12\n",
            "\n",
            "nodes per layer:\n",
            "layer 0: 1\n",
            "layer 1: 2\n",
            "layer 2: 4\n",
            "layer 3: 8\n",
            "layer 4: 16\n",
            "layer 5: 36\n",
            "layer 6: 54\n",
            "layer 7: 39\n",
            "layer 8: 25\n",
            "layer 9: 12\n",
            "layer 10: 2\n",
            "layer 11: 1\n",
            "\n",
            "# of unfinished nodes: 91\n",
            "\n",
            "# of completly explored nodes: 109\n",
            "\n",
            "average number of options per node: 2.164285714285714\n",
            "\n",
            "# of completed chats: 59\n",
            "\n",
            "average depth of a completed chat: 8.220338983050848\n",
            "\n",
            "# of error nodes: 1\n"
          ]
        }
      ]
    },
    {
      "cell_type": "code",
      "source": [
        "id = 8\n",
        "print((len(tree['tree'][id]['context']) - 2) / 2)\n",
        "tree['tree'][id]['context']"
      ],
      "metadata": {
        "colab": {
          "base_uri": "https://localhost:8080/"
        },
        "id": "QWNiGq3GrnOo",
        "outputId": "da1bd625-955e-458b-c14a-03bc0e8e97f8"
      },
      "execution_count": 10,
      "outputs": [
        {
          "output_type": "stream",
          "name": "stdout",
          "text": [
            "8.0\n"
          ]
        },
        {
          "output_type": "execute_result",
          "data": {
            "text/plain": [
              "[{'role': 'user',\n",
              "  'content': 'Ask me one either or question at a time to help me find out where I want to go travel. Ask me many questions before giving me a suggestion'},\n",
              " {'role': 'assistant',\n",
              "  'content': \"Sure! Here's the first question: Would you prefer a beach destination or a city destination?\"},\n",
              " {'role': 'user', 'content': 'city destination'},\n",
              " {'role': 'assistant',\n",
              "  'content': 'Great! Next question: Would you like to visit a historic city or a modern metropolis?'},\n",
              " {'role': 'user', 'content': 'Historic city'},\n",
              " {'role': 'assistant',\n",
              "  'content': 'Got it. Moving on to the next one: Are you more interested in ancient history or medieval history?'},\n",
              " {'role': 'user', 'content': 'ancient history'},\n",
              " {'role': 'assistant',\n",
              "  'content': \"Understood. Here's the next question: Would you prefer to explore a city known for its ancient ruins or one known for its well-preserved ancient architecture?\"},\n",
              " {'role': 'user',\n",
              "  'content': 'Explore a city known for its well-preserved ancient architecture'},\n",
              " {'role': 'assistant',\n",
              "  'content': \"Interesting choice! Here's the next question: Are you more inclined towards exploring ancient Greek architecture or ancient Roman architecture?\"},\n",
              " {'role': 'user', 'content': 'Ancient Roman architecture'},\n",
              " {'role': 'assistant',\n",
              "  'content': \"Great choice! Here's the next question: Would you prefer to visit a city known for its ancient Roman amphitheaters or one known for its ancient Roman temples and columns?\"},\n",
              " {'role': 'user', 'content': 'ancient Roman amphitheaters'},\n",
              " {'role': 'assistant',\n",
              "  'content': 'Excellent! Moving on to the next question: Would you like to visit a city that is famous for its well-preserved ancient Roman amphitheater or one that is known for hosting modern events in a renovated ancient amphitheater?'},\n",
              " {'role': 'user',\n",
              "  'content': 'City famous for its well-preserved ancient Roman amphitheater'},\n",
              " {'role': 'assistant',\n",
              "  'content': \"Sounds fantastic! Here's the next question: Would you prefer to visit a city in Italy that is home to the iconic Colosseum or one in Tunisia that houses the well-preserved Roman amphitheater of El Jem?\"},\n",
              " {'role': 'user',\n",
              "  'content': 'visit one in Tunisia that houses the well-preserved Roman amphitheater of El Jem'},\n",
              " {'role': 'assistant',\n",
              "  'content': 'Great choice! Based on your preferences for a historic city, ancient Roman architecture, and a well-preserved amphitheater, I suggest you consider traveling to the city of El Jem in Tunisia. It is home to the remarkable Roman amphitheater of El Jem, one of the best-preserved amphitheaters in the world. This UNESCO World Heritage site offers a fascinating glimpse into ancient Roman history and architecture. Enjoy your trip to El Jem!'}]"
            ]
          },
          "metadata": {},
          "execution_count": 10
        }
      ]
    },
    {
      "cell_type": "markdown",
      "source": [
        "Suggestion Stats"
      ],
      "metadata": {
        "id": "nJuB7K7UswlT"
      }
    },
    {
      "cell_type": "code",
      "source": [
        "# name of the pickle file that will be the saved tree\n",
        "json_name = fname[:-4]+'_id2suggestions.json'\n",
        "# path to folder that I want to save the tree in\n",
        "json_path = '/content/drive/MyDrive/Clarifying_Questions_GPT_Research/Trees/Analytics'\n",
        "\n",
        "# loading suggestions dictionary\n",
        "with open(os.path.join(json_path, json_name), 'r') as f:\n",
        "  id2sugg = json.load(f)"
      ],
      "metadata": {
        "id": "Md3I1zsDswCx"
      },
      "execution_count": 11,
      "outputs": []
    },
    {
      "cell_type": "code",
      "source": [
        "id2sugg.values()"
      ],
      "metadata": {
        "colab": {
          "base_uri": "https://localhost:8080/"
        },
        "id": "yEKbjFPz3fNI",
        "outputId": "27220c33-52d2-4d64-8ca2-31c24406b709"
      },
      "execution_count": 12,
      "outputs": [
        {
          "output_type": "execute_result",
          "data": {
            "text/plain": [
              "dict_values(['Prague, Czech Republic', 'Cancun, Mexico', ['Thailand', 'Phuket, Thailand', 'Koh Phi Phi, Thailand'], 'Phuket, Thailand', 'El Jem, Tunisia', 'Vancouver, Canada', 'Cornwall, England', 'Maldives', 'Pompeii, Italy', 'Maldives', ['Beaches of Southeast Asia', 'Bali, Indonesia', 'Phuket, Thailand', 'Langkawi, Malaysia'], 'Maldives', 'ERROR', 'Hoi An, Vietnam', 'Vancouver, Canada', 'Ibiza, Spain', 'Siem Reap, Cambodia', 'Kauai, Hawaii', 'Cancun, Mexico', 'Angkor, Cambodia', 'Prague, Czech Republic', 'Palomino Beach, Colombia', 'Bali, Indonesia', 'Rome, Italy', 'Cusco, Peru', 'Tokyo, Japan', 'Barcelona, Spain', 'Palawan, Philippines', 'Maldives', 'Barcelona, Spain', 'Athens, Greece', ['India', 'Angra, India', 'Karnataka, India'], 'Florida Keys, United States', 'El Nido, Philippines', 'Miami, Florida, USA', 'Epidaurus, Greece', 'Algarve region, Portugal', 'Raja Ampat, Indonesia', 'Zanzibar, Tanzania', 'Palawan, Philippines', 'Ghent, Belgium', 'Vienna, Austria', 'Cancun, Mexico', 'Búzios, Brazil', 'Barcelona, Spain', 'Algarve region, Portugal', 'Athens, Greece', 'Siargao, Philippines', 'Barcelona, Spain', 'Ibiza, Spain', 'Istanbul, Turkey', 'Cartagena, Colombia', 'Barcelona, Spain', 'Tayrona National Park, Colombia', 'Cairo, Egypt', 'Crete, Greece', 'Maui, Hawaii', 'Jumeirah Beach, Dubai', 'Bali, Indonesia'])"
            ]
          },
          "metadata": {},
          "execution_count": 12
        }
      ]
    },
    {
      "cell_type": "code",
      "source": [
        "from collections import Counter\n",
        "countries = []\n",
        "locations = []\n",
        "for v in id2sugg.values():\n",
        "  if type(v) == str:\n",
        "    l = v.replace(' ', '')\n",
        "    l = l.split(',')\n",
        "    try:\n",
        "      countries.append(l[1])\n",
        "      locations.append(v)\n",
        "    except:\n",
        "      countries.append(v)\n",
        "      locations.append(v)\n",
        "  else:\n",
        "    for vs in v[1:]:\n",
        "      l = vs.replace(' ', '')\n",
        "      l = l.split(',')\n",
        "      try:\n",
        "        countries.append(l[1])\n",
        "        locations.append(vs)\n",
        "      except:\n",
        "        countries.append(vs)\n",
        "        locations.append(vs)\n",
        "\n",
        "countries = Counter(countries)\n",
        "locations = Counter(locations)\n",
        "\n",
        "print(len(countries))\n",
        "pprint.pprint(countries)"
      ],
      "metadata": {
        "colab": {
          "base_uri": "https://localhost:8080/"
        },
        "id": "PWzP5iV2iv_K",
        "outputId": "a2d6b146-4a4a-4939-d5cd-03f724be0744"
      },
      "execution_count": null,
      "outputs": [
        {
          "output_type": "stream",
          "name": "stdout",
          "text": [
            "31\n",
            "Counter({'Spain': 7,\n",
            "         'Thailand': 4,\n",
            "         'Maldives': 4,\n",
            "         'Indonesia': 4,\n",
            "         'Philippines': 4,\n",
            "         'Greece': 4,\n",
            "         'Mexico': 3,\n",
            "         'Colombia': 3,\n",
            "         'CzechRepublic': 2,\n",
            "         'Canada': 2,\n",
            "         'Italy': 2,\n",
            "         'Cambodia': 2,\n",
            "         'Hawaii': 2,\n",
            "         'India': 2,\n",
            "         'Portugal': 2,\n",
            "         'Tunisia': 1,\n",
            "         'England': 1,\n",
            "         'Malaysia': 1,\n",
            "         'ERROR': 1,\n",
            "         'Vietnam': 1,\n",
            "         'Peru': 1,\n",
            "         'Japan': 1,\n",
            "         'UnitedStates': 1,\n",
            "         'Florida': 1,\n",
            "         'Tanzania': 1,\n",
            "         'Belgium': 1,\n",
            "         'Austria': 1,\n",
            "         'Brazil': 1,\n",
            "         'Turkey': 1,\n",
            "         'Egypt': 1,\n",
            "         'Dubai': 1})\n"
          ]
        }
      ]
    },
    {
      "cell_type": "code",
      "source": [
        "print(len(locations))\n",
        "pprint.pprint(locations)"
      ],
      "metadata": {
        "colab": {
          "base_uri": "https://localhost:8080/"
        },
        "id": "o9-Iv2rZkcVX",
        "outputId": "16b314de-8b46-410d-9cf1-179fe17ced1b"
      },
      "execution_count": null,
      "outputs": [
        {
          "output_type": "stream",
          "name": "stdout",
          "text": [
            "44\n",
            "Counter({'Barcelona, Spain': 5,\n",
            "         'Maldives': 4,\n",
            "         'Cancun, Mexico': 3,\n",
            "         'Phuket, Thailand': 3,\n",
            "         'Bali, Indonesia': 3,\n",
            "         'Prague, Czech Republic': 2,\n",
            "         'Vancouver, Canada': 2,\n",
            "         'Ibiza, Spain': 2,\n",
            "         'Palawan, Philippines': 2,\n",
            "         'Athens, Greece': 2,\n",
            "         'Algarve region, Portugal': 2,\n",
            "         'Koh Phi Phi, Thailand': 1,\n",
            "         'El Jem, Tunisia': 1,\n",
            "         'Cornwall, England': 1,\n",
            "         'Pompeii, Italy': 1,\n",
            "         'Langkawi, Malaysia': 1,\n",
            "         'ERROR': 1,\n",
            "         'Hoi An, Vietnam': 1,\n",
            "         'Siem Reap, Cambodia': 1,\n",
            "         'Kauai, Hawaii': 1,\n",
            "         'Angkor, Cambodia': 1,\n",
            "         'Palomino Beach, Colombia': 1,\n",
            "         'Rome, Italy': 1,\n",
            "         'Cusco, Peru': 1,\n",
            "         'Tokyo, Japan': 1,\n",
            "         'Angra, India': 1,\n",
            "         'Karnataka, India': 1,\n",
            "         'Florida Keys, United States': 1,\n",
            "         'El Nido, Philippines': 1,\n",
            "         'Miami, Florida, USA': 1,\n",
            "         'Epidaurus, Greece': 1,\n",
            "         'Raja Ampat, Indonesia': 1,\n",
            "         'Zanzibar, Tanzania': 1,\n",
            "         'Ghent, Belgium': 1,\n",
            "         'Vienna, Austria': 1,\n",
            "         'Búzios, Brazil': 1,\n",
            "         'Siargao, Philippines': 1,\n",
            "         'Istanbul, Turkey': 1,\n",
            "         'Cartagena, Colombia': 1,\n",
            "         'Tayrona National Park, Colombia': 1,\n",
            "         'Cairo, Egypt': 1,\n",
            "         'Crete, Greece': 1,\n",
            "         'Maui, Hawaii': 1,\n",
            "         'Jumeirah Beach, Dubai': 1})\n"
          ]
        }
      ]
    },
    {
      "cell_type": "markdown",
      "source": [
        "TFIDF Scores of Questions"
      ],
      "metadata": {
        "id": "GEUJLFgXBRK7"
      }
    },
    {
      "cell_type": "code",
      "source": [
        "from sklearn.feature_extraction.text import TfidfVectorizer\n",
        "\n",
        "def getScores_tfidf(corpus, stop_words = 'english'):\n",
        "  vectorizer = TfidfVectorizer(stop_words=stop_words)\n",
        "  tfidfs = vectorizer.fit_transform(corpus)\n",
        "\n",
        "  words = [k for (v, k) in sorted((v, k)\n",
        "            for k, v in vectorizer.vocabulary_.items())]\n",
        "  scores = tfidfs.todense().tolist()\n",
        "\n",
        "  return words, scores\n",
        "\n",
        "def sortList1by2(list1, list2, reversed = True, include_zeros = True):\n",
        "  zip_pairs = zip(list2, list1)\n",
        "\n",
        "  if include_zeros:\n",
        "    return [(x,y) for y, x in sorted(zip_pairs, reverse=reversed)]\n",
        "\n",
        "  return [(x,y) for y, x in sorted(zip_pairs, reverse=reversed) if y > 0.0]\n",
        "\n",
        "\n",
        "def getTopFeatures_tfidf(doc_lst, top_n=None, include_zeros = True, stop_words = 'english'):\n",
        "  words, scores = getScores_tfidf(doc_lst, stop_words)\n",
        "  if not top_n: top_n = len(words)\n",
        "\n",
        "  return  [sortList1by2(words, scores[idx], True, include_zeros)[:top_n] for idx in range(len(doc_lst))]"
      ],
      "metadata": {
        "id": "8hd9o8QuveDf"
      },
      "execution_count": 13,
      "outputs": []
    },
    {
      "cell_type": "code",
      "source": [
        "def getAllQs(tree):\n",
        "  return getIdsQ([id for id in range(len(tree['tree']))])"
      ],
      "metadata": {
        "id": "i-RHcUBsB-td"
      },
      "execution_count": 14,
      "outputs": []
    },
    {
      "cell_type": "code",
      "source": [
        "all_q = getAllQs(tree)\n",
        "\n",
        "q_features = getTopFeatures_tfidf(all_q, None, False)\n",
        "id = 0\n",
        "print(all_q[id])\n",
        "pprint.pprint(q_features[id])"
      ],
      "metadata": {
        "colab": {
          "base_uri": "https://localhost:8080/"
        },
        "id": "8c5QnnOkF648",
        "outputId": "a4ea38f0-e7a7-455c-e044-e5948216a77d"
      },
      "execution_count": 15,
      "outputs": [
        {
          "output_type": "stream",
          "name": "stdout",
          "text": [
            "Sure! Here's the first question: Would you prefer a beach destination or a city destination?\n",
            "[('sure', 0.6735679088636594),\n",
            " ('destination', 0.5391136386249851),\n",
            " ('city', 0.29548382679178975),\n",
            " ('beach', 0.2899207472631523),\n",
            " ('prefer', 0.24347650541075733),\n",
            " ('question', 0.1581683170593485)]\n"
          ]
        }
      ]
    },
    {
      "cell_type": "markdown",
      "source": [
        "Ordering Questions by Uniqueness (a sort of extra tfidf)"
      ],
      "metadata": {
        "id": "9Ijlt1whQWIO"
      }
    },
    {
      "cell_type": "code",
      "source": [
        "sorted([(4,3), (5,2), (4,3), (3,4)],key = lambda x: x[1])"
      ],
      "metadata": {
        "colab": {
          "base_uri": "https://localhost:8080/"
        },
        "id": "_96X8bwRVQwr",
        "outputId": "3d8539d7-edc3-45af-cd51-4a3190cd1586"
      },
      "execution_count": 16,
      "outputs": [
        {
          "output_type": "execute_result",
          "data": {
            "text/plain": [
              "[(5, 2), (4, 3), (4, 3), (3, 4)]"
            ]
          },
          "metadata": {},
          "execution_count": 16
        }
      ]
    },
    {
      "cell_type": "code",
      "source": [
        "def scoreSumIDF(features_of_doc):\n",
        "  return sum([y for x,y in features_of_doc]) / len(features_of_doc)\n",
        "\n",
        "fs_ordered = [(idx, q_features[idx]) for idx in range(len(q_features))]\n",
        "\n",
        "fs_ordered = sorted(fs_ordered, key = lambda x: scoreSumIDF(x[1]))\n",
        "\n",
        "ids_by_fs = [fs[0] for fs in fs_ordered]"
      ],
      "metadata": {
        "id": "o_CuWrjiQVp3"
      },
      "execution_count": 17,
      "outputs": []
    },
    {
      "cell_type": "code",
      "source": [
        "top_n = 10\n",
        "\n",
        "print(f'Top {top_n} most unique questions')\n",
        "# have to ignore the first one because it is a suggestion (mistake)\n",
        "for id in ids_by_fs[1:top_n]:\n",
        "  print(all_q[id])\n",
        "\n",
        "print(f'\\nBottom {top_n} least unique questions')\n",
        "for id in ids_by_fs[len(ids_by_fs)-top_n:]:\n",
        "  print(all_q[id])"
      ],
      "metadata": {
        "colab": {
          "base_uri": "https://localhost:8080/"
        },
        "id": "4gN6d_T1WZ9q",
        "outputId": "6d66df3b-3957-4e0d-8f14-aaf5ec5b96d0"
      },
      "execution_count": 18,
      "outputs": [
        {
          "output_type": "stream",
          "name": "stdout",
          "text": [
            "Top 10 most unique questions\n",
            "Noted! Here's the next question: Would you prefer a beach destination that offers a wide range of adventurous activities such as hiking, water sports, and zip-lining, or are you more interested in a destination that allows you to unwind and fully relax, with options for spa treatments and yoga retreats?\n",
            "Sounds wonderful! Final question: Are you more inclined towards a city that is known for its hiking trails, camping spots, and outdoor sports, or a city that offers a mix of outdoor activities like skiing, snowboarding, and water sports depending on the season?\n",
            "Noted! Here's the next question: Are you interested in a beach destination that offers a wide range of water sports and activities, such as jet skiing, parasailing, or kayaking, or do you prefer a more laid-back beach where you can simply relax and soak in the sun?\n",
            "Great choice! Here's the next question: Are you more inclined towards a beach destination known for its vibrant local culture, traditional cuisine, and bustling markets, or do you prefer a destination that offers more secluded and private experiences, away from the crowds?\n",
            "Alright! Last question: Do you prefer a beach destination with calm waters suitable for swimming and lounging, or are you interested in a destination that offers water sports and activities like snorkeling, scuba diving, or surfing?\n",
            "Noted! Next question: Are you more interested in exploring multiple islands within the Cyclades, such as Mykonos, Ios, and Paros, or would you prefer to focus on a single island like Santorini or Crete and fully immerse yourself in its atmosphere?\n",
            "Awesome! Here's the next question: Would you prefer a city that is surrounded by natural landscapes such as mountains, forests, or national parks, or a city with access to various water activities like lakes, rivers, or coastal areas?\n",
            "Excellent choice for those seeking adventure! Now, tell me, do you prefer a beach location with warm, sunny weather year-round, or are you open to visiting a destination with more unpredictable weather patterns?\n",
            "Perfect! Here's the next question: Do you prefer a city that has a well-established art and music scene with renowned museums and famous music venues, or one that is more known for its local street art and underground music scene?\n",
            "\n",
            "Bottom 10 least unique questions\n",
            "Great choice! Here's the next question: Are you more interested in culinary delights or cultural experiences during your travel?\n",
            "Great! Here's the next one: Would you like to visit a city known for its iconic temples or one known for its amphitheaters and theaters?\n",
            "Great! Next question: Would you like to visit a historic city or a modern metropolis?\n",
            "Of course! Here's the next question: Do you prefer a destination with a warm climate or a cooler climate?\n",
            "Certainly! Here's the next question: Are you more inclined towards exploring the beaches of Asia, Europe, or the Americas?\n",
            "Understood. Next question: Are you more intrigued by the temples of Southeast Asia or the temples of East Asia?\n",
            "Sure! Could you please specify the region or continents you are interested in for your beach destination?\n",
            "Understood! Final question: Do you have any particular regions or continents you are drawn to?\n",
            "Sure! Here's the first question: Would you prefer a beach destination or a city destination?\n",
            "Got it. Moving on to the next one: Are you more interested in ancient history or medieval history?\n"
          ]
        }
      ]
    },
    {
      "cell_type": "markdown",
      "source": [
        "TFIDF Scores of Questions per layer"
      ],
      "metadata": {
        "id": "TiepW9ZT0vXK"
      }
    },
    {
      "cell_type": "code",
      "source": [
        "def getLayerQs(tree):\n",
        "  layer2qs = {}\n",
        "  for l in range(len(tree['ids_by_layer'])):\n",
        "    qs = getIdsQ(tree['ids_by_layer'][l])\n",
        "    if len(qs) > 0:\n",
        "      qs = '\\n'.join(qs)\n",
        "      layer2qs[l] = qs\n",
        "\n",
        "  return layer2qs"
      ],
      "metadata": {
        "id": "fSa7T0_Dqjtw"
      },
      "execution_count": 19,
      "outputs": []
    },
    {
      "cell_type": "code",
      "source": [
        "stop_words = ['great', 'are', 'you', 'prefer', 'or', 'and', 'for', 'with', 'the', 'next', 'in', 'question',\n",
        "              'to', 'do', 'its', 'interested', 'destination', 'would', 'is', 'that', 'more', 'known', 'where',\n",
        "              'open', 'here', 'your', 'choice', 'noted', 'offers', 'perfect', 'one']\n",
        "top_num = 20\n",
        "\n",
        "layer2qs = getLayerQs(tree)\n",
        "layer_qs = [layer2qs[k] for k in layer2qs.keys()]\n",
        "layer_features = getTopFeatures_tfidf(layer_qs, top_num, stop_words=stop_words)\n",
        "\n",
        "print(f'Top {top_num} tfidf scores of questions in each layer')\n",
        "iter = 0\n",
        "for fs in layer_features:\n",
        "  print(f'layer #{iter}:\\n{fs}\\n')\n",
        "  iter +=1"
      ],
      "metadata": {
        "colab": {
          "base_uri": "https://localhost:8080/"
        },
        "id": "ed0J15zl6xU6",
        "outputId": "9572ceef-f774-4ae7-d050-26c1d94e818f"
      },
      "execution_count": 20,
      "outputs": [
        {
          "output_type": "stream",
          "name": "stdout",
          "text": [
            "Top 20 tfidf scores of questions in each layer\n",
            "layer #0:\n",
            "[('first', 0.7262337852989004), ('sure', 0.5459220835724977), ('city', 0.3075629792234158), ('beach', 0.28276948486268816), ('zip', 0.0), ('yourself', 0.0), ('yoga', 0.0), ('year', 0.0), ('yacht', 0.0), ('world', 0.0), ('wonders', 0.0), ('wonderful', 0.0), ('without', 0.0), ('within', 0.0), ('willing', 0.0), ('wild', 0.0), ('widely', 0.0), ('wide', 0.0), ('white', 0.0), ('which', 0.0)]\n",
            "\n",
            "layer #1:\n",
            "[('trees', 0.31382004563441196), ('rugged', 0.31382004563441196), ('palm', 0.31382004563441196), ('metropolis', 0.31382004563441196), ('historic', 0.31382004563441196), ('cliffs', 0.31382004563441196), ('caves', 0.31382004563441196), ('tropical', 0.2682419504825221), ('beach', 0.24438062354013243), ('modern', 0.23590377733396523), ('secluded', 0.2108203415192698), ('visit', 0.19032568218207532), ('like', 0.1579875090335184), ('city', 0.132904073218823), ('zip', 0.0), ('yourself', 0.0), ('yoga', 0.0), ('year', 0.0), ('yacht', 0.0), ('world', 0.0)]\n",
            "\n",
            "layer #2:\n",
            "[('nightlife', 0.2511643542333555), ('history', 0.22674769765949943), ('exploring', 0.22674769765949943), ('vibrant', 0.2061037086756723), ('it', 0.18822107201506974), ('got', 0.18822107201506974), ('willing', 0.1869373907167415), ('up', 0.1869373907167415), ('take', 0.1869373907167415), ('reach', 0.1869373907167415), ('lovely', 0.1869373907167415), ('lots', 0.1869373907167415), ('hike', 0.1869373907167415), ('easily', 0.1869373907167415), ('boat', 0.1869373907167415), ('bit', 0.1869373907167415), ('accessible', 0.1869373907167415), ('peaceful', 0.15978727618435307), ('adventure', 0.15978727618435307), ('of', 0.15833749952414886)]\n",
            "\n",
            "layer #3:\n",
            "[('beach', 0.2371229348569899), ('understood', 0.22160799993340402), ('waters', 0.208220496793138), ('interesting', 0.208220496793138), ('like', 0.1839546586145164), ('snorkeling', 0.18311826924721294), ('medieval', 0.18311826924721294), ('cities', 0.18311826924721294), ('architecture', 0.16364746888500417), ('water', 0.14773866662226934), ('towards', 0.13428796596371), ('such', 0.13428796596371), ('inclined', 0.13428796596371), ('cultural', 0.13428796596371), ('as', 0.13428796596371), ('wild', 0.12180004970904079), ('time', 0.12180004970904079), ('rougher', 0.12180004970904079), ('party', 0.12180004970904079), ('gardens', 0.12180004970904079)]\n",
            "\n",
            "layer #4:\n",
            "[('like', 0.26624367005848204), ('city', 0.22397256869208215), ('beach', 0.20591752633020205), ('waters', 0.15068221067392615), ('dubai', 0.15068221067392615), ('activities', 0.14791315003249003), ('excellent', 0.1425513769074526), ('strong', 0.1184262008906974), ('nightlife', 0.1184262008906974), ('architecture', 0.1184262008906974), ('an', 0.1184262008906974), ('weather', 0.11752349733744494), ('influence', 0.11752349733744494), ('burj', 0.11752349733744494), ('arab', 0.11752349733744494), ('on', 0.10841399646446423), ('visiting', 0.10691353268058945), ('exploring', 0.10691353268058945), ('swimming', 0.10045480711595077), ('diving', 0.10045480711595077)]\n",
            "\n",
            "layer #5:\n",
            "[('city', 0.2790867751504134), ('like', 0.26540781387559004), ('beach', 0.23948290390637555), ('scene', 0.19374924095244073), ('as', 0.19374924095244073), ('exploring', 0.1598668259957437), ('activities', 0.15482122476076088), ('art', 0.14756801108683348), ('such', 0.14531193071433057), ('visit', 0.13322235499645307), ('street', 0.13179885671293234), ('region', 0.11805440886946679), ('culinary', 0.11805440886946679), ('landmarks', 0.11265686461988927), ('of', 0.11163471006016536), ('water', 0.10657788399716248), ('surfing', 0.09907540509091495), ('snorkeling', 0.09907540509091495), ('other', 0.09907540509091495), ('location', 0.09907540509091495)]\n",
            "\n",
            "layer #6:\n",
            "[('city', 0.3141764872669596), ('beach', 0.23383083897018525), ('exploring', 0.19282174025364224), ('bustling', 0.18985349354411324), ('scene', 0.17526650188638815), ('vibrant', 0.1557924461212339), ('final', 0.1557924461212339), ('ancient', 0.14960785107950458), ('shopping', 0.14130475166320783), ('ruins', 0.1285478268357615), ('like', 0.12449069321972193), ('of', 0.11968628086360367), ('nightlife', 0.1186584334650708), ('explore', 0.11684433459092546), ('atmosphere', 0.11684433459092546), ('excellent', 0.10712318902980124), ('markets', 0.10622114532295306), ('before', 0.10597856374740589), ('arts', 0.10597856374740589), ('on', 0.09776393568709339)]\n",
            "\n",
            "layer #7:\n",
            "[('city', 0.24912058489589575), ('last', 0.237835927410306), ('beach', 0.22903829205183127), ('of', 0.16608038993059718), ('well', 0.16213681726944904), ('final', 0.16213681726944904), ('it', 0.1480689782617645), ('restaurants', 0.14705913714130817), ('ancient', 0.12456029244794788), ('understood', 0.118917963705153), ('exploring', 0.118917963705153), ('climate', 0.118917963705153), ('nearby', 0.11054681313609523), ('such', 0.10809121151296601), ('as', 0.10809121151296601), ('transportation', 0.0980394247608721), ('lot', 0.0980394247608721), ('how', 0.0980394247608721), ('hidden', 0.0980394247608721), ('focused', 0.0980394247608721)]\n",
            "\n",
            "layer #8:\n",
            "[('city', 0.28277218268876625), ('final', 0.23004813980271308), ('wonderful', 0.22427502288978748), ('of', 0.21207913701657466), ('beach', 0.1949828567655343), ('preserved', 0.1682062671673406), ('last', 0.15185428652290806), ('town', 0.14268065678797423), ('mosaics', 0.14268065678797423), ('ancient', 0.14138609134438312), ('well', 0.13802888388162787), ('travel', 0.12547964935472428), ('america', 0.12547964935472428), ('temples', 0.11213751144489374), ('historical', 0.11213751144489374), ('diverse', 0.11213751144489374), ('asia', 0.11213751144489374), ('visiting', 0.10123619101527202), ('ruins', 0.10123619101527202), ('roman', 0.10123619101527202)]\n",
            "\n",
            "layer #9:\n",
            "[('specializes', 0.30580053918201183), ('fusion', 0.30580053918201183), ('different', 0.30580053918201183), ('cuisines', 0.2613871683147666), ('of', 0.25901555885405836), ('mainland', 0.2054329384115647), ('islands', 0.2054329384115647), ('greek', 0.2054329384115647), ('experiences', 0.2054329384115647), ('culinary', 0.2054329384115647), ('an', 0.2054329384115647), ('visiting', 0.18546200933023108), ('theater', 0.18546200933023108), ('specific', 0.18546200933023108), ('greece', 0.18546200933023108), ('excellent', 0.18546200933023108), ('cuisine', 0.18546200933023108), ('local', 0.16857682938330543), ('final', 0.16857682938330543), ('on', 0.1410486384629858)]\n",
            "\n",
            "layer #10:\n",
            "[('theater', 0.42736787450112407), ('epidaurus', 0.35233449406560274), ('absolutely', 0.35233449406560274), ('intrigued', 0.30116269889442104), ('delphi', 0.30116269889442104), ('of', 0.2984301993975431), ('ancient', 0.2984301993975431), ('by', 0.26485573242174376), ('mainland', 0.23669386134263054), ('greece', 0.21368393725056203), ('final', 0.19422932363307022), ('zip', 0.0), ('yourself', 0.0), ('yoga', 0.0), ('year', 0.0), ('yacht', 0.0), ('world', 0.0), ('wonders', 0.0), ('wonderful', 0.0), ('without', 0.0)]\n",
            "\n"
          ]
        }
      ]
    },
    {
      "cell_type": "markdown",
      "source": [
        "Doing Topic Modeling"
      ],
      "metadata": {
        "id": "_cZHQ_BUZdVT"
      }
    },
    {
      "cell_type": "code",
      "source": [
        "with open(drive_dir+\"/openai_key.key\", \"r\") as f:\n",
        "    openai.api_key = f.read()"
      ],
      "metadata": {
        "id": "UYJJ4HU6aFii"
      },
      "execution_count": 21,
      "outputs": []
    },
    {
      "cell_type": "code",
      "source": [
        "# generates text using gpt-3.5 given a conversation context\n",
        "def generateText(context):\n",
        "  assert isinstance(context, list), f\"input is not a context list, got {type(context)}\"\n",
        "  resp = openai.ChatCompletion.create(\n",
        "    model=\"gpt-3.5-turbo\",\n",
        "    messages=context)\n",
        "\n",
        "  return resp['choices'][0]['message'][\"content\"]\n",
        "\n",
        "# appends a new entry to a conversation context\n",
        "def appendContext(text, context, role):\n",
        "  assert role == \"user\" or role == \"assistant\", f\"unexpected role, got: {role}\"\n",
        "\n",
        "  if role == \"user\":\n",
        "    assert context[-1][\"role\"] == \"assistant\", f\"incompatible adjecent role, got user\"\n",
        "    context.append({\"role\": \"user\", \"content\": text})\n",
        "  else:\n",
        "    assert context[-1][\"role\"] == \"user\", f\"incompatible adjecent role, got assistant\"\n",
        "    context.append({\"role\": \"assistant\", \"content\": text})\n",
        "\n",
        "  return\n",
        "\n",
        "def getTopicPrompt(q):\n",
        "  return f'Here is a question:\\n{q}\\n\\nTask:\\nSummarize the content of this either or question with 3 words; \"this vs that\".'\n",
        "\n",
        "def getTopic(q):\n",
        "  context = [{\"role\": \"user\", \"content\":getTopicPrompt(q)}]\n",
        "  return generateText(context)"
      ],
      "metadata": {
        "id": "H2BQbz7cZgt7"
      },
      "execution_count": 22,
      "outputs": []
    },
    {
      "cell_type": "code",
      "source": [
        "q_topics = []\n",
        "for q in tqdm(all_q):\n",
        "  q_topics.append(getTopic(q))"
      ],
      "metadata": {
        "colab": {
          "base_uri": "https://localhost:8080/"
        },
        "id": "2KAAp_BXagIJ",
        "outputId": "29c53e54-e1ce-440d-b90f-73141508f04d"
      },
      "execution_count": null,
      "outputs": [
        {
          "output_type": "stream",
          "name": "stderr",
          "text": [
            "100%|██████████| 141/141 [00:58<00:00,  2.40it/s]\n"
          ]
        }
      ]
    },
    {
      "cell_type": "code",
      "source": [
        "q_topics[:8]"
      ],
      "metadata": {
        "colab": {
          "base_uri": "https://localhost:8080/"
        },
        "id": "LBi_FbGJbXAo",
        "outputId": "b38c7d0e-7169-4968-ccb5-f55ee51119f1"
      },
      "execution_count": null,
      "outputs": [
        {
          "output_type": "execute_result",
          "data": {
            "text/plain": [
              "['Beach vs city.',\n",
              " 'Historic vs Modern.',\n",
              " 'Ancient vs medieval.',\n",
              " 'Ancient ruins vs architecture',\n",
              " 'Greek Architecture vs Roman Architecture',\n",
              " 'Amphitheaters vs temples.',\n",
              " 'Ancient vs modern',\n",
              " 'Italy vs Tunisia']"
            ]
          },
          "metadata": {},
          "execution_count": 360
        }
      ]
    },
    {
      "cell_type": "code",
      "source": [
        "topics_count = Counter()\n",
        "for vsts in q_topics:\n",
        "  vsts = vsts.lower()\n",
        "  vsts = vsts.replace('.', '')\n",
        "  ts = vsts.split('vs')\n",
        "  for t in ts:\n",
        "    if t[0] == ' ': t = t[1:]\n",
        "    if t[-1] == ' ': t = t[:-1]\n",
        "    if t in topics_count: topics_count[t] += 1\n",
        "    else: topics_count[t] = 1\n",
        "\n",
        "pprint.pprint(topics_count)"
      ],
      "metadata": {
        "id": "nR5-ZXYcdH_-"
      },
      "execution_count": null,
      "outputs": []
    },
    {
      "cell_type": "code",
      "source": [
        "topics_count = Counter()\n",
        "for vsts in q_topics:\n",
        "  vsts = vsts.lower()\n",
        "  vsts = vsts.replace('.', '')\n",
        "  ts = vsts.split(' ')\n",
        "  for t in ts:\n",
        "    if t[0] == ' ': t = t[1:]\n",
        "    if t[-1] == ' ': t = t[:-1]\n",
        "    if t in topics_count: topics_count[t] += 1\n",
        "    else: topics_count[t] = 1\n",
        "\n",
        "pprint.pprint(topics_count)"
      ],
      "metadata": {
        "id": "DJkN-W-Oftcm"
      },
      "execution_count": null,
      "outputs": []
    },
    {
      "cell_type": "markdown",
      "source": [
        "Analysing Redundancy"
      ],
      "metadata": {
        "id": "-3OxpXBo2uwZ"
      }
    },
    {
      "cell_type": "code",
      "source": [
        "import itertools\n",
        "\n",
        "def getRed(tree, node_id):\n",
        "\n",
        "  qs = getChatQs(tree, node_id)\n",
        "\n",
        "  qs = list(itertools.combinations(qs,2))\n",
        "\n",
        "  ans = []\n",
        "\n",
        "  for q1, q2, in tqdm(qs):\n",
        "    # # getting the simplified questions\n",
        "    # context = [{\"role\": \"user\", \"content\":f\"Here is a question:\\n1) {q1}\\n\\nTask:\\nRewrite this question with the least number of words possible.\"}]\n",
        "    # q1 = generateText(context)\n",
        "    # appendContext(q1, context, \"assistant\")\n",
        "    # appendContext(f\"Here is another question:\\n2) {q2}\\n\\nTask:\\nRewrite this question with the least number of words possible.\", context, \"user\")\n",
        "    # q2 = generateText(context)\n",
        "\n",
        "    # majority voting for wether questions overlap\n",
        "    context = [{\"role\": \"user\", \"content\":f\"Here are two questions:\\n1) {q1}\\n2) {q2}\\n\\nTask:\\nAre these questions almost the same (Yes / No)?\"}]\n",
        "    # print(context)\n",
        "    # print()\n",
        "    votes = 0\n",
        "    for i in range(10):\n",
        "      if \"yes\" in generateText(context).lower(): votes += 1\n",
        "\n",
        "    ans.append(votes)\n",
        "\n",
        "  return qs, ans"
      ],
      "metadata": {
        "id": "0OgS_wHN2zv6"
      },
      "execution_count": 37,
      "outputs": []
    },
    {
      "cell_type": "code",
      "source": [
        "qs, ans = getRed(tree, 34)\n",
        "any([v > 5 for v in ans])"
      ],
      "metadata": {
        "colab": {
          "base_uri": "https://localhost:8080/"
        },
        "id": "WMoUZNTv_r6e",
        "outputId": "2a2a6439-f5b2-4a79-eefd-d93b5b8efe57"
      },
      "execution_count": 39,
      "outputs": [
        {
          "output_type": "stream",
          "name": "stderr",
          "text": [
            "100%|██████████| 21/21 [01:02<00:00,  2.98s/it]\n"
          ]
        },
        {
          "output_type": "execute_result",
          "data": {
            "text/plain": [
              "False"
            ]
          },
          "metadata": {},
          "execution_count": 39
        }
      ]
    },
    {
      "cell_type": "code",
      "source": [
        "pairs = [qs[idx] for idx in range(len(ans)) if ans[idx] > 10]"
      ],
      "metadata": {
        "id": "qwwyiczLDMpX"
      },
      "execution_count": 27,
      "outputs": []
    },
    {
      "cell_type": "code",
      "source": [
        "pprint.pprint(pairs)"
      ],
      "metadata": {
        "colab": {
          "base_uri": "https://localhost:8080/"
        },
        "id": "Kkeqp7-_IIZf",
        "outputId": "8aaf115a-4b28-4092-af60-6b4a16e931c9"
      },
      "execution_count": 28,
      "outputs": [
        {
          "output_type": "stream",
          "name": "stdout",
          "text": [
            "[(\"Understood. Here's the next question: Would you prefer to explore a city \"\n",
            "  'known for its ancient ruins or one known for its well-preserved ancient '\n",
            "  'architecture?',\n",
            "  \"Great choice! Here's the next question: Would you prefer to visit a city \"\n",
            "  'known for its ancient Roman amphitheaters or one known for its ancient '\n",
            "  'Roman temples and columns?'),\n",
            " (\"Great choice! Here's the next question: Would you prefer to visit a city \"\n",
            "  'known for its ancient Roman amphitheaters or one known for its ancient '\n",
            "  'Roman temples and columns?',\n",
            "  \"Sounds fantastic! Here's the next question: Would you prefer to visit a \"\n",
            "  'city in Italy that is home to the iconic Colosseum or one in Tunisia that '\n",
            "  'houses the well-preserved Roman amphitheater of El Jem?'),\n",
            " ('Excellent! Moving on to the next question: Would you like to visit a city '\n",
            "  'that is famous for its well-preserved ancient Roman amphitheater or one '\n",
            "  'that is known for hosting modern events in a renovated ancient '\n",
            "  'amphitheater?',\n",
            "  \"Sounds fantastic! Here's the next question: Would you prefer to visit a \"\n",
            "  'city in Italy that is home to the iconic Colosseum or one in Tunisia that '\n",
            "  'houses the well-preserved Roman amphitheater of El Jem?')]\n"
          ]
        }
      ]
    },
    {
      "cell_type": "code",
      "source": [
        "pprint.pprint(pairs)"
      ],
      "metadata": {
        "colab": {
          "base_uri": "https://localhost:8080/"
        },
        "id": "hf190SIdEXvd",
        "outputId": "2d177443-5de3-4bf7-da37-ea53f09f01da"
      },
      "execution_count": 36,
      "outputs": [
        {
          "output_type": "stream",
          "name": "stdout",
          "text": [
            "[(\"Understood. Here's the next question: Would you prefer to explore a city \"\n",
            "  'known for its ancient ruins or one known for its well-preserved ancient '\n",
            "  'architecture?',\n",
            "  \"Great choice! Here's the next question: Would you prefer to visit a city \"\n",
            "  'known for its ancient Roman amphitheaters or one known for its ancient '\n",
            "  'Roman temples and columns?'),\n",
            " (\"Great choice! Here's the next question: Would you prefer to visit a city \"\n",
            "  'known for its ancient Roman amphitheaters or one known for its ancient '\n",
            "  'Roman temples and columns?',\n",
            "  \"Sounds fantastic! Here's the next question: Would you prefer to visit a \"\n",
            "  'city in Italy that is home to the iconic Colosseum or one in Tunisia that '\n",
            "  'houses the well-preserved Roman amphitheater of El Jem?'),\n",
            " ('Excellent! Moving on to the next question: Would you like to visit a city '\n",
            "  'that is famous for its well-preserved ancient Roman amphitheater or one '\n",
            "  'that is known for hosting modern events in a renovated ancient '\n",
            "  'amphitheater?',\n",
            "  \"Sounds fantastic! Here's the next question: Would you prefer to visit a \"\n",
            "  'city in Italy that is home to the iconic Colosseum or one in Tunisia that '\n",
            "  'houses the well-preserved Roman amphitheater of El Jem?')]\n"
          ]
        }
      ]
    }
  ]
}