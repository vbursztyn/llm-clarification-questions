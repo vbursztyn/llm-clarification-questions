{
 "cells": [
  {
   "cell_type": "code",
   "execution_count": 1,
   "metadata": {},
   "outputs": [],
   "source": [
    "import openai\n",
    "from tqdm import tqdm"
   ]
  },
  {
   "cell_type": "code",
   "execution_count": 2,
   "metadata": {},
   "outputs": [],
   "source": [
    "with open(\"openai_key.key\", \"r\") as f:\n",
    "    openai.api_key = f.read()"
   ]
  },
  {
   "cell_type": "code",
   "execution_count": 3,
   "metadata": {},
   "outputs": [],
   "source": [
    "MODEL = \"gpt-3.5-turbo\""
   ]
  },
  {
   "cell_type": "code",
   "execution_count": 6,
   "metadata": {},
   "outputs": [],
   "source": [
    "class Broker:\n",
    "    def __init__(self, type:str, profile=None):\n",
    "        self.messages = list()\n",
    "        if profile is not None:\n",
    "            with open(profile, \"r\") as f:\n",
    "                self.profile = \"\\n\"+f.read()\n",
    "        if type==\"traveller\":\n",
    "            self.messages.append({\"role\": \"system\", \"content\": \"You are a very picky and rude traveller approaching a travel agent. You speak single sentences. You need to narrow down only a single city to visit that matches your profile as given below in an interrogative way.\"+self.profile})\n",
    "        else:\n",
    "            self.messages.append({\"role\": \"system\", \"content\": \"You are an honest travel agent and are welcoming a traveller in your agency. You respond in only a single sentence.\"})\n",
    "    \n",
    "    def __call__(self, dialog=\"\"):\n",
    "        if dialog != \"\":\n",
    "            self.messages.append({\"role\": \"user\", \"content\": dialog})\n",
    "        response = openai.ChatCompletion.create(\n",
    "            model=MODEL,\n",
    "            messages=self.messages,\n",
    "            temperature=0.7,\n",
    "        )\n",
    "        self.messages.append({\"role\": \"assistant\", \"content\": response['choices'][0]['message']['content']})\n",
    "        return response['choices'][0]['message']['content']"
   ]
  },
  {
   "cell_type": "code",
   "execution_count": 7,
   "metadata": {},
   "outputs": [
    {
     "name": "stdout",
     "output_type": "stream",
     "text": [
      "Agent:  Welcome to our agency! How can I assist you today?\n",
      "Traveller:  I want to visit a city that is budget friendly.\n",
      "Agent:  Sure! I can recommend several budget-friendly cities depending on your preferences and interests.\n",
      "Traveller:  Is there a specific region or country that you prefer to visit?\n",
      "Agent:  I don't have a specific preference, but some popular budget-friendly options include Southeast Asia, Eastern Europe, and parts of South America.\n",
      "Traveller:  Are you looking for a city with a beach or one that is more focused on cultural attractions and sightseeing?\n",
      "Agent:  That depends on your personal preferences, but if you're looking for a budget-friendly city with a beach, destinations like Bali, Goa, or Koh Samui could be great options, whereas cities like Prague, Budapest, or Hanoi offer rich cultural experiences.\n",
      "Traveller:  Do you have any specific requirements or preferences besides being budget-friendly?\n",
      "Agent:  Apart from being budget-friendly, it would be helpful to know if you have any specific preferences in terms of climate, activities, cuisine, or any other factors that could help narrow down the options for your ideal city to visit.\n",
      "Traveller:  I prefer cities with a mild climate and a variety of outdoor activities to enjoy.\n",
      "Agent:  Based on your preferences, cities like Barcelona, Lisbon, or San Diego could be excellent choices, as they offer mild climates and a wide range of outdoor activities for you to enjoy.\n",
      "Traveller:  Thank you for your suggestions. I have made my decision. I would like to visit Barcelona.\n"
     ]
    }
   ],
   "source": [
    "traveller = Broker(\"traveller\", \"profiles/tom_harvey.txt\")\n",
    "agent = Broker(\"agent\")\n",
    "\n",
    "t_response = \"\"\n",
    "c = 0\n",
    "for i in range(10):\n",
    "    a_response = agent(t_response)\n",
    "    print(\"Agent: \", a_response)\n",
    "    t_response = traveller(a_response)\n",
    "    print(\"Traveller: \", t_response)\n",
    "    if \"Thank you\" in t_response:\n",
    "        break"
   ]
  },
  {
   "cell_type": "code",
   "execution_count": null,
   "metadata": {},
   "outputs": [],
   "source": []
  }
 ],
 "metadata": {
  "kernelspec": {
   "display_name": "base",
   "language": "python",
   "name": "python3"
  },
  "language_info": {
   "codemirror_mode": {
    "name": "ipython",
    "version": 3
   },
   "file_extension": ".py",
   "mimetype": "text/x-python",
   "name": "python",
   "nbconvert_exporter": "python",
   "pygments_lexer": "ipython3",
   "version": "3.10.9"
  },
  "orig_nbformat": 4
 },
 "nbformat": 4,
 "nbformat_minor": 2
}
