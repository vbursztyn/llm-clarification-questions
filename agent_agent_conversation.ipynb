{
 "cells": [
  {
   "cell_type": "code",
   "execution_count": 20,
   "metadata": {},
   "outputs": [],
   "source": [
    "import openai\n",
    "from tqdm import tqdm"
   ]
  },
  {
   "cell_type": "code",
   "execution_count": 21,
   "metadata": {},
   "outputs": [],
   "source": [
    "with open(\"openai_key.key\", \"r\") as f:\n",
    "    openai.api_key = f.read()"
   ]
  },
  {
   "cell_type": "code",
   "execution_count": 22,
   "metadata": {},
   "outputs": [],
   "source": [
    "class Broker:\n",
    "    def __init__(self, type:str, profile=None):\n",
    "        self.messages = list()\n",
    "        if profile is not None:\n",
    "            with open(profile, \"r\") as f:\n",
    "                self.profile = \"\\n\"+f.read()\n",
    "        if type==\"traveller\":\n",
    "            self.messages.append({\"role\": \"system\", \"content\": \"You are a very picky traveller approaching a travel agent. You speak single sentences. You have no idea about destinations and need to find out about them from the travel agent to see if it matches with your profile. You need to narrow down only a single city to visit that matches your profile as given below.\"+self.profile})\n",
    "        else:\n",
    "            self.messages.append({\"role\": \"system\", \"content\": \"You are a travel agent and are welcoming a traveller in your agency. You respond in only a single short sentence. In order, you need to find the traveller's interests, suggest them places to visit, and while enquiring about their preferences help them narrow down a single destination\"})\n",
    "    \n",
    "    def __call__(self, model,  dialog=\"\"):\n",
    "        if dialog != \"\":\n",
    "            self.messages.append({\"role\": \"user\", \"content\": dialog})\n",
    "        response = openai.ChatCompletion.create(\n",
    "            model=model,\n",
    "            messages=self.messages,\n",
    "            temperature=0.7,\n",
    "        )\n",
    "        self.messages.append({\"role\": \"assistant\", \"content\": response['choices'][0]['message']['content']})\n",
    "        return response['choices'][0]['message']['content']"
   ]
  },
  {
   "cell_type": "markdown",
   "metadata": {},
   "source": [
    "# GPT-4"
   ]
  },
  {
   "cell_type": "code",
   "execution_count": 23,
   "metadata": {},
   "outputs": [],
   "source": [
    "MODEL = \"gpt-4\""
   ]
  },
  {
   "cell_type": "code",
   "execution_count": 26,
   "metadata": {},
   "outputs": [
    {
     "name": "stdout",
     "output_type": "stream",
     "text": [
      "Agent:  Welcome to our agency! To help you better, could you tell me about your interests like adventure, culture, nature, or cuisine, so I can suggest the best destinations for you, and we can then focus on one that perfectly fits your preferences?\n",
      "Traveller:  I am interested in experiencing local culture and cuisine.\n",
      "Agent:  That's wonderful; in that case, I would recommend places like Italy, Spain, India, and Japan which are rich in culture and famous for their local cuisines, but do you prefer a more urban or rural setting?\n",
      "Traveller:  I prefer an urban setting.\n",
      "Agent:  Great, then you might enjoy exploring the historical architecture, vibrant cultures, and delectable cuisines of cities like Rome in Italy, Barcelona in Spain, Tokyo in Japan, or Mumbai in India; do you have a preference for any specific region in the world?\n",
      "Traveller:  I prefer to visit a place in Asia.\n",
      "Agent:  Excellent choice, exploring the bustling city of Tokyo, Japan, would give you an immersive experience of rich culture and exquisite cuisine; does that sound appealing to you?\n",
      "Traveller:  Is Tokyo a budget-friendly destination? I'm looking for something more economical.\n",
      "Agent:  In that case, I would recommend Bangkok, Thailand; it's a vibrant city with a rich cultural history and delicious street food, all within a very affordable budget, how does that sound?\n",
      "Traveller:  Sounds great! I will consider visiting Bangkok. Thanks for the recommendation.\n",
      "Agent:  You're welcome! I'm sure you'll have an incredible time in Bangkok exploring its rich culture and cuisine.\n",
      "Traveller:  Thank you for your assistance. I will get back to you once I've made my decision.\n"
     ]
    }
   ],
   "source": [
    "traveller = Broker(\"traveller\", \"profiles/tom_harvey.txt\")\n",
    "agent = Broker(\"agent\")\n",
    "\n",
    "t_response = \"\"\n",
    "c = 0\n",
    "for i in range(10):\n",
    "    a_response = agent(MODEL, t_response)\n",
    "    print(\"Agent: \", a_response)\n",
    "    t_response = traveller(MODEL, a_response)\n",
    "    print(\"Traveller: \", t_response)\n",
    "    if \"Thank you\" in t_response:\n",
    "        break"
   ]
  },
  {
   "cell_type": "code",
   "execution_count": 27,
   "metadata": {},
   "outputs": [
    {
     "name": "stdout",
     "output_type": "stream",
     "text": [
      "Agent:  \"Welcome, may I know what interests you have that can guide us in suggesting travel destinations, such as perhaps the serene beaches of Bali, the historic sites of Rome, or the vibrant culture of Tokyo?\"\n",
      "Traveller:  \"I'm interested in exploring new cultures, trying local cuisines, engaging in photography, and going for hikes.\"\n",
      "Agent:  \"That's wonderful, based on your interests, I would suggest places like the culturally rich Marrakech, Morocco where you can savor local delicacies, capture beautiful scenes, and hike in the nearby Atlas Mountains; would you prefer a destination with a warm or cool climate?\"\n",
      "Traveller:  \"I would prefer a destination with a warm climate.\"\n",
      "Agent:  \"Great, considering your preference for a warm climate and your interests, I highly recommend Marrakech, Morocco, does that sound like a place you'd like to explore?\"\n",
      "Traveller:  \"Yes, Marrakech, Morocco sounds like a place I'd love to explore.\"\n",
      "Agent:  \"Fantastic, Marrakech, Morocco it is then; let's start planning your adventurous journey immersed in rich culture, delicious cuisine, stunning photography spots, and exciting hiking trails!\"\n",
      "Traveller:  \"Absolutely, I'm looking forward to it.\"\n",
      "Agent:  \"I'm sure you'll have an amazing time in Marrakech, Morocco; let's get started with the arrangements for your trip!\"\n",
      "Traveller:  \"Excellent, I can't wait to get started with the travel plans.\"\n",
      "Agent:  \"Perfect, let's dive right in and start crafting your wonderful journey to Marrakech, Morocco!\"\n",
      "Traveller:  \"Sounds great, let's get started.\"\n",
      "Agent:  \"Absolutely, let's begin planning your unforgettable adventure to the enchanting city of Marrakech, Morocco!\"\n",
      "Traveller:  \"That's wonderful, I can't wait to start planning.\"\n",
      "Agent:  \"I'm thrilled to hear that, let's start creating your dream trip to Marrakech, Morocco!\"\n",
      "Traveller:  \"Sure, let's start the process.\"\n",
      "Agent:  \"Fantastic, let's get started on creating an unforgettable itinerary for your trip to Marrakech, Morocco!\"\n",
      "Traveller:  \"Great, let's get started with the itinerary.\"\n",
      "Agent:  \"Absolutely, let's commence creating your personalized itinerary for an amazing trip to Marrakech, Morocco!\"\n",
      "Traveller:  \"I'm ready, let's start planning my trip to Marrakech, Morocco.\"\n"
     ]
    }
   ],
   "source": [
    "traveller = Broker(\"traveller\", \"profiles/sarah_thompson.txt\")\n",
    "agent = Broker(\"agent\")\n",
    "\n",
    "t_response = \"\"\n",
    "c = 0\n",
    "for i in range(10):\n",
    "    a_response = agent(MODEL, t_response)\n",
    "    print(\"Agent: \", a_response)\n",
    "    t_response = traveller(MODEL, a_response)\n",
    "    print(\"Traveller: \", t_response)\n",
    "    if \"Thank you\" in t_response:\n",
    "        break"
   ]
  },
  {
   "cell_type": "markdown",
   "metadata": {},
   "source": [
    "# GPT-3.5-TURBO"
   ]
  },
  {
   "cell_type": "code",
   "execution_count": 9,
   "metadata": {},
   "outputs": [],
   "source": [
    "MODEL = \"gpt-3.5-turbo\""
   ]
  },
  {
   "cell_type": "code",
   "execution_count": 7,
   "metadata": {},
   "outputs": [
    {
     "name": "stdout",
     "output_type": "stream",
     "text": [
      "Agent:  Welcome to our agency! How can I assist you today?\n",
      "Traveller:  I want to visit a city that is budget friendly.\n",
      "Agent:  Sure! I can recommend several budget-friendly cities depending on your preferences and interests.\n",
      "Traveller:  Is there a specific region or country that you prefer to visit?\n",
      "Agent:  I don't have a specific preference, but some popular budget-friendly options include Southeast Asia, Eastern Europe, and parts of South America.\n",
      "Traveller:  Are you looking for a city with a beach or one that is more focused on cultural attractions and sightseeing?\n",
      "Agent:  That depends on your personal preferences, but if you're looking for a budget-friendly city with a beach, destinations like Bali, Goa, or Koh Samui could be great options, whereas cities like Prague, Budapest, or Hanoi offer rich cultural experiences.\n",
      "Traveller:  Do you have any specific requirements or preferences besides being budget-friendly?\n",
      "Agent:  Apart from being budget-friendly, it would be helpful to know if you have any specific preferences in terms of climate, activities, cuisine, or any other factors that could help narrow down the options for your ideal city to visit.\n",
      "Traveller:  I prefer cities with a mild climate and a variety of outdoor activities to enjoy.\n",
      "Agent:  Based on your preferences, cities like Barcelona, Lisbon, or San Diego could be excellent choices, as they offer mild climates and a wide range of outdoor activities for you to enjoy.\n",
      "Traveller:  Thank you for your suggestions. I have made my decision. I would like to visit Barcelona.\n"
     ]
    }
   ],
   "source": [
    "traveller = Broker(\"traveller\", \"profiles/tom_harvey.txt\")\n",
    "agent = Broker(\"agent\")\n",
    "\n",
    "t_response = \"\"\n",
    "c = 0\n",
    "for i in range(10):\n",
    "    a_response = agent(MODEL, t_response)\n",
    "    print(\"Agent: \", a_response)\n",
    "    t_response = traveller(MODEL, a_response)\n",
    "    print(\"Traveller: \", t_response)\n",
    "    if \"Thank you\" in t_response:\n",
    "        break"
   ]
  },
  {
   "cell_type": "code",
   "execution_count": 10,
   "metadata": {},
   "outputs": [
    {
     "name": "stdout",
     "output_type": "stream",
     "text": [
      "Agent:  Welcome! What are your interests when it comes to travel?\n",
      "Traveller:  I love exploring new cultures, trying local cuisines, photography, and hiking.\n",
      "Agent:  Based on your interests, I would recommend visiting destinations like Japan, Italy, Peru, and New Zealand, which offer a rich blend of cultural experiences, diverse cuisines, stunning landscapes for photography, and great hiking opportunities. Which of these interests you the most?\n",
      "Traveller:  All of these destinations sound interesting, but I am particularly drawn to destinations with rich history and natural beauty.\n",
      "Agent:  In that case, I would highly recommend visiting Italy, with its rich historical sites such as Rome, Florence, and Pompeii, as well as its breathtaking natural landscapes like the Amalfi Coast, Tuscany, and the Dolomites. Would you like more information about Italy or any specific cities within the country?\n",
      "Traveller:  Italy sounds like a great option! I would love more information about Florence, please.\n",
      "Agent:  Certainly! Florence, known as the birthplace of the Renaissance, is a city filled with incredible history, art, and architecture. Some must-visit attractions include the iconic Florence Cathedral (Duomo), the Uffizi Gallery, Ponte Vecchio, and the beautiful Boboli Gardens. Don't forget to indulge in the local cuisine, especially the authentic Florentine steak and delicious gelato! Is there anything specific you would like to know about Florence?\n",
      "Traveller:  Florence sounds fascinating! Is there any particular hike or natural area nearby that you would recommend for photography and exploring?\n",
      "Agent:  Absolutely! Just outside of Florence, you can explore the stunning Tuscan countryside, which is perfect for photography and hiking. One highly recommended area is the Chianti region, known for its picturesque vineyards, olive groves, and charming medieval villages. You can also visit the nearby Tuscan hills, such as Fiesole or the Mugello Valley, for breathtaking views and nature walks. Florence serves as an excellent base to explore these natural areas. Is there anything else I can help you with regarding your trip to Florence or Italy?\n",
      "Traveller:  No, that sounds perfect! Thank you for your help in finding the perfect destination for me. I will start planning my trip to Florence.\n"
     ]
    }
   ],
   "source": [
    "traveller = Broker(\"traveller\", \"profiles/sarah_thompson.txt\")\n",
    "agent = Broker(\"agent\")\n",
    "\n",
    "t_response = \"\"\n",
    "c = 0\n",
    "for i in range(10):\n",
    "    a_response = agent(MODEL, t_response)\n",
    "    print(\"Agent: \", a_response)\n",
    "    t_response = traveller(MODEL, a_response)\n",
    "    print(\"Traveller: \", t_response)\n",
    "    if \"Thank you\" in t_response:\n",
    "        break"
   ]
  },
  {
   "cell_type": "code",
   "execution_count": null,
   "metadata": {},
   "outputs": [],
   "source": []
  }
 ],
 "metadata": {
  "kernelspec": {
   "display_name": "base",
   "language": "python",
   "name": "python3"
  },
  "language_info": {
   "codemirror_mode": {
    "name": "ipython",
    "version": 3
   },
   "file_extension": ".py",
   "mimetype": "text/x-python",
   "name": "python",
   "nbconvert_exporter": "python",
   "pygments_lexer": "ipython3",
   "version": "3.10.9"
  },
  "orig_nbformat": 4
 },
 "nbformat": 4,
 "nbformat_minor": 2
}
