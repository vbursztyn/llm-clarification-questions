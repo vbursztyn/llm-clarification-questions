{
 "cells": [
  {
   "cell_type": "code",
   "execution_count": 1,
   "id": "848fc987",
   "metadata": {},
   "outputs": [],
   "source": [
    "import openai\n",
    "\n",
    "import os\n",
    "\n",
    "import pandas as pd\n",
    "\n",
    "import random"
   ]
  },
  {
   "cell_type": "code",
   "execution_count": 2,
   "id": "1669f77d",
   "metadata": {},
   "outputs": [],
   "source": [
    "openai.api_key = os.getenv(\"OPENAI_API_KEY\")"
   ]
  },
  {
   "cell_type": "code",
   "execution_count": 3,
   "id": "85e38141",
   "metadata": {},
   "outputs": [
    {
     "data": {
      "text/plain": [
       "' digital experiences\\n'"
      ]
     },
     "execution_count": 3,
     "metadata": {},
     "output_type": "execute_result"
    }
   ],
   "source": [
    "def query_openai(model, prompt, max_tokens, temperature):\n",
    "    response = openai.Completion.create(\n",
    "        model=model,\n",
    "        prompt=prompt,\n",
    "        temperature=temperature,\n",
    "        max_tokens=max_tokens,\n",
    "        top_p=1,\n",
    "        frequency_penalty=0,\n",
    "        presence_penalty=0,\n",
    "    )\n",
    "\n",
    "    return response['choices'][0]['text']\n",
    "\n",
    "query_openai('text-davinci-003', 'Adobe, empowering the world through', 3, 0.7)"
   ]
  },
  {
   "cell_type": "markdown",
   "id": "fcc6bb90",
   "metadata": {},
   "source": [
    "### Load data from the CFT paper, and group test cases into two categories: warm vs. cold cities"
   ]
  },
  {
   "cell_type": "code",
   "execution_count": 4,
   "id": "0778eba8",
   "metadata": {},
   "outputs": [],
   "source": [
    "CITIES_DATA = os.path.join(os.getcwd(), 'compositional-fine-tuning', 'data', 'testing', 'cities_domain', 'test_data_cities.csv')"
   ]
  },
  {
   "cell_type": "code",
   "execution_count": 5,
   "id": "0d9b9f30",
   "metadata": {},
   "outputs": [
    {
     "data": {
      "text/html": [
       "<div>\n",
       "<style scoped>\n",
       "    .dataframe tbody tr th:only-of-type {\n",
       "        vertical-align: middle;\n",
       "    }\n",
       "\n",
       "    .dataframe tbody tr th {\n",
       "        vertical-align: top;\n",
       "    }\n",
       "\n",
       "    .dataframe thead th {\n",
       "        text-align: right;\n",
       "    }\n",
       "</style>\n",
       "<table border=\"1\" class=\"dataframe\">\n",
       "  <thead>\n",
       "    <tr style=\"text-align: right;\">\n",
       "      <th></th>\n",
       "      <th>city</th>\n",
       "      <th>country</th>\n",
       "      <th>continent</th>\n",
       "      <th>avg_temp</th>\n",
       "      <th>pop</th>\n",
       "    </tr>\n",
       "  </thead>\n",
       "  <tbody>\n",
       "    <tr>\n",
       "      <th>1</th>\n",
       "      <td>Belize City</td>\n",
       "      <td>Belize</td>\n",
       "      <td>North America</td>\n",
       "      <td>26.7(80.1)</td>\n",
       "      <td>0.1</td>\n",
       "    </tr>\n",
       "    <tr>\n",
       "      <th>2</th>\n",
       "      <td>Hamilton</td>\n",
       "      <td>Bermuda</td>\n",
       "      <td>North America</td>\n",
       "      <td>22.3(72.1)</td>\n",
       "      <td>0.1</td>\n",
       "    </tr>\n",
       "    <tr>\n",
       "      <th>3</th>\n",
       "      <td>Calgary</td>\n",
       "      <td>Canada</td>\n",
       "      <td>North America</td>\n",
       "      <td>4.4(39.9)</td>\n",
       "      <td>1.2</td>\n",
       "    </tr>\n",
       "    <tr>\n",
       "      <th>5</th>\n",
       "      <td>Halifax</td>\n",
       "      <td>Canada</td>\n",
       "      <td>North America</td>\n",
       "      <td>7.5(45.5)</td>\n",
       "      <td>0.4</td>\n",
       "    </tr>\n",
       "    <tr>\n",
       "      <th>7</th>\n",
       "      <td>Ottawa</td>\n",
       "      <td>Canada</td>\n",
       "      <td>North America</td>\n",
       "      <td>6.6(43.9)</td>\n",
       "      <td>1.0</td>\n",
       "    </tr>\n",
       "  </tbody>\n",
       "</table>\n",
       "</div>"
      ],
      "text/plain": [
       "          city  country      continent    avg_temp  pop\n",
       "1  Belize City   Belize  North America  26.7(80.1)  0.1\n",
       "2     Hamilton  Bermuda  North America  22.3(72.1)  0.1\n",
       "3      Calgary   Canada  North America   4.4(39.9)  1.2\n",
       "5      Halifax   Canada  North America   7.5(45.5)  0.4\n",
       "7       Ottawa   Canada  North America   6.6(43.9)  1.0"
      ]
     },
     "execution_count": 5,
     "metadata": {},
     "output_type": "execute_result"
    }
   ],
   "source": [
    "df_cities = pd.read_csv(CITIES_DATA, index_col=0)\n",
    "\n",
    "df_cities.head()"
   ]
  },
  {
   "cell_type": "code",
   "execution_count": 6,
   "id": "9682b0b1",
   "metadata": {},
   "outputs": [
    {
     "data": {
      "text/plain": [
       "(112, 39)"
      ]
     },
     "execution_count": 6,
     "metadata": {},
     "output_type": "execute_result"
    }
   ],
   "source": [
    "WARM_THRESHOLD = 20\n",
    "COLD_THRESHOLD = 10\n",
    "\n",
    "warm_cities = [f\"{row[1]['city']}, {row[1]['country']}\" for row in df_cities.iterrows()\\\n",
    "               if float(row[1]['avg_temp'].split('(')[0].replace('−','-')) >= 20]\n",
    "\n",
    "cold_cities = [f\"{row[1]['city']}, {row[1]['country']}\" for row in df_cities.iterrows()\\\n",
    "               if float(row[1]['avg_temp'].split('(')[0].replace('−','-')) <= 10]\n",
    "\n",
    "len(warm_cities), len(cold_cities)"
   ]
  },
  {
   "cell_type": "code",
   "execution_count": 7,
   "id": "210b821d",
   "metadata": {},
   "outputs": [
    {
     "data": {
      "text/plain": [
       "(39, 39)"
      ]
     },
     "execution_count": 7,
     "metadata": {},
     "output_type": "execute_result"
    }
   ],
   "source": [
    "warm_cities = random.sample(warm_cities, len(cold_cities))\n",
    "\n",
    "len(warm_cities), len(cold_cities)"
   ]
  },
  {
   "cell_type": "code",
   "execution_count": 8,
   "id": "874e623f",
   "metadata": {},
   "outputs": [
    {
     "data": {
      "text/plain": [
       "['Tripoli, Libya',\n",
       " 'Vientiane, Laos',\n",
       " 'Suva, Fiji',\n",
       " 'La Paz, Mexico',\n",
       " 'Garissa, Kenya',\n",
       " 'Ho Chi Minh City, Vietnam',\n",
       " 'Brasília, Brazil',\n",
       " 'Makassar, Indonesia',\n",
       " 'Brisbane, Australia',\n",
       " 'Hat Yai, Thailand']"
      ]
     },
     "execution_count": 8,
     "metadata": {},
     "output_type": "execute_result"
    }
   ],
   "source": [
    "warm_cities[:10]"
   ]
  },
  {
   "cell_type": "markdown",
   "id": "16350349",
   "metadata": {},
   "source": [
    "### Based on each pivot city, generate 20 candidates similar w.r.t weather"
   ]
  },
  {
   "cell_type": "code",
   "execution_count": 9,
   "id": "e813039a",
   "metadata": {},
   "outputs": [
    {
     "name": "stdout",
     "output_type": "stream",
     "text": [
      ".............Done with warm cities, starting cold cities.\n",
      "............."
     ]
    },
    {
     "data": {
      "text/html": [
       "<div>\n",
       "<style scoped>\n",
       "    .dataframe tbody tr th:only-of-type {\n",
       "        vertical-align: middle;\n",
       "    }\n",
       "\n",
       "    .dataframe tbody tr th {\n",
       "        vertical-align: top;\n",
       "    }\n",
       "\n",
       "    .dataframe thead th {\n",
       "        text-align: right;\n",
       "    }\n",
       "</style>\n",
       "<table border=\"1\" class=\"dataframe\">\n",
       "  <thead>\n",
       "    <tr style=\"text-align: right;\">\n",
       "      <th></th>\n",
       "      <th>weather</th>\n",
       "      <th>pivot</th>\n",
       "      <th>candidates</th>\n",
       "    </tr>\n",
       "  </thead>\n",
       "  <tbody>\n",
       "    <tr>\n",
       "      <th>0</th>\n",
       "      <td>warm</td>\n",
       "      <td>Tripoli, Libya</td>\n",
       "      <td>Tunis, Tunisia; Marrakech, Morocco; Algiers, A...</td>\n",
       "    </tr>\n",
       "    <tr>\n",
       "      <th>1</th>\n",
       "      <td>warm</td>\n",
       "      <td>Vientiane, Laos</td>\n",
       "      <td>Hanoi, Vietnam; Siem Reap, Cambodia; Bangkok, ...</td>\n",
       "    </tr>\n",
       "    <tr>\n",
       "      <th>2</th>\n",
       "      <td>warm</td>\n",
       "      <td>Suva, Fiji</td>\n",
       "      <td>Apia, Samoa; Port Vila, Vanuatu; Honiara, Solo...</td>\n",
       "    </tr>\n",
       "    <tr>\n",
       "      <th>3</th>\n",
       "      <td>warm</td>\n",
       "      <td>La Paz, Mexico</td>\n",
       "      <td>Cancun, Mexico; Cabo San Lucas, Mexico; Mazatl...</td>\n",
       "    </tr>\n",
       "    <tr>\n",
       "      <th>4</th>\n",
       "      <td>warm</td>\n",
       "      <td>Garissa, Kenya</td>\n",
       "      <td>Mombasa, Kenya; Lamu, Kenya; Wajir, Kenya; Kis...</td>\n",
       "    </tr>\n",
       "  </tbody>\n",
       "</table>\n",
       "</div>"
      ],
      "text/plain": [
       "  weather            pivot                                         candidates\n",
       "0    warm   Tripoli, Libya  Tunis, Tunisia; Marrakech, Morocco; Algiers, A...\n",
       "1    warm  Vientiane, Laos  Hanoi, Vietnam; Siem Reap, Cambodia; Bangkok, ...\n",
       "2    warm       Suva, Fiji  Apia, Samoa; Port Vila, Vanuatu; Honiara, Solo...\n",
       "3    warm   La Paz, Mexico  Cancun, Mexico; Cabo San Lucas, Mexico; Mazatl...\n",
       "4    warm   Garissa, Kenya  Mombasa, Kenya; Lamu, Kenya; Wajir, Kenya; Kis..."
      ]
     },
     "execution_count": 9,
     "metadata": {},
     "output_type": "execute_result"
    }
   ],
   "source": [
    "candidate_tuples = []\n",
    "\n",
    "for i, city in enumerate(warm_cities):\n",
    "    if not i % (len(warm_cities) // 10):\n",
    "        print('.', end='')\n",
    "    \n",
    "    candidate_prompt = f\"Give me a list of 20 touristic cities with a similar weather to {city}\"\n",
    "    response = query_openai('text-davinci-003', candidate_prompt, 180, 0.7)\n",
    "    tokens = response.strip().split('. ')\n",
    "    candidates = [token.split('\\n')[0] for token in tokens[1:-1]] + [tokens[-1]]\n",
    "    \n",
    "    candidate_tuples.append({'weather' : 'warm', 'pivot' : city, 'candidates' : '; '.join(candidates)})\n",
    "\n",
    "print('\\nDone with warm cities, starting cold cities.')\n",
    "\n",
    "for i, city in enumerate(cold_cities):\n",
    "    if not i % (len(cold_cities) // 10):\n",
    "        print('.', end='')\n",
    "    \n",
    "    candidate_prompt = f\"Give me a list of 20 touristic cities with a similar weather to {city}\"\n",
    "    response = query_openai('text-davinci-003', candidate_prompt, 180, 0.7)\n",
    "    tokens = response.strip().split('. ')\n",
    "    candidates = [token.split('\\n')[0] for token in tokens[1:-1]] + [tokens[-1]]\n",
    "    \n",
    "    candidate_tuples.append({'weather' : 'cold', 'pivot' : city, 'candidates' : '; '.join(candidates)})\n",
    "\n",
    "df_candidates = pd.DataFrame(candidate_tuples)\n",
    "df_candidates.head()"
   ]
  },
  {
   "cell_type": "markdown",
   "id": "ee33005a",
   "metadata": {},
   "source": [
    "### Save for future use"
   ]
  },
  {
   "cell_type": "code",
   "execution_count": 10,
   "id": "46cca64d",
   "metadata": {},
   "outputs": [],
   "source": [
    "df_candidates.to_csv('candidates.csv')"
   ]
  },
  {
   "cell_type": "code",
   "execution_count": 11,
   "id": "9085ec52",
   "metadata": {},
   "outputs": [
    {
     "name": "stdout",
     "output_type": "stream",
     "text": [
      "-rw-r--r--  1 vbursztyn  staff    32K May  3 23:28 candidates.csv\r\n"
     ]
    }
   ],
   "source": [
    "! ls -lah *.csv"
   ]
  }
 ],
 "metadata": {
  "kernelspec": {
   "display_name": "Python 3 (ipykernel)",
   "language": "python",
   "name": "python3"
  },
  "language_info": {
   "codemirror_mode": {
    "name": "ipython",
    "version": 3
   },
   "file_extension": ".py",
   "mimetype": "text/x-python",
   "name": "python",
   "nbconvert_exporter": "python",
   "pygments_lexer": "ipython3",
   "version": "3.8.10"
  }
 },
 "nbformat": 4,
 "nbformat_minor": 5
}
