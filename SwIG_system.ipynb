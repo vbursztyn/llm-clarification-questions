{
  "nbformat": 4,
  "nbformat_minor": 0,
  "metadata": {
    "colab": {
      "provenance": [],
      "collapsed_sections": [
        "ZpwBpJVs2WV8",
        "ojlPwz7TGvxd",
        "x7CeFKIQ3yIL",
        "tlvTRnk4ZqXG",
        "UTSV5_KrZxY5",
        "WpDizLttaH8q",
        "lsb2udidn1NM"
      ]
    },
    "kernelspec": {
      "name": "python3",
      "display_name": "Python 3"
    },
    "language_info": {
      "name": "python"
    }
  },
  "cells": [
    {
      "cell_type": "markdown",
      "source": [
        "Possible Paper Titles\n",
        "\n",
        "1) Improving LLM conversational recommendations: How Empathy Leads to Information Gain\n",
        "\n",
        "2) SwIG: Sampling with Information Gain to improve conversational recommendations"
      ],
      "metadata": {
        "id": "CnLFBHTP1kea"
      }
    },
    {
      "cell_type": "markdown",
      "source": [
        "To-Do\n",
        "\n",
        "1) Fix the bug where no branches are created for a node (probably a parsing problem)\n",
        "\n",
        "2) Speed up the algo + improve rate limit problems\n",
        "\n",
        "4) Create Prompts for Object-Based Profiles\n",
        "\n",
        "5) Create functions to have these conversations in mass (where I let it run and save a bunch of trees). Best if, for every real_profile, there is a saved context with my system and a saved context for out of the box ChatGPT\n",
        "\n",
        "6) Create functions to measure the data I generated from the functinos in step 5\n"
      ],
      "metadata": {
        "id": "3ssx8yA2Dwey"
      }
    },
    {
      "cell_type": "markdown",
      "source": [
        "## Connecting to Drive and Loading Requirements\n"
      ],
      "metadata": {
        "id": "ZpwBpJVs2WV8"
      }
    },
    {
      "cell_type": "code",
      "source": [
        "from google.colab import drive\n",
        "drive.mount('/content/drive')"
      ],
      "metadata": {
        "colab": {
          "base_uri": "https://localhost:8080/"
        },
        "id": "q4uSeYoA1qaY",
        "outputId": "24f9dd34-974d-4083-d411-ed69871b7cf4"
      },
      "execution_count": 1,
      "outputs": [
        {
          "output_type": "stream",
          "name": "stdout",
          "text": [
            "Drive already mounted at /content/drive; to attempt to forcibly remount, call drive.mount(\"/content/drive\", force_remount=True).\n"
          ]
        }
      ]
    },
    {
      "cell_type": "code",
      "source": [
        "drive_dir = '/content/drive/MyDrive/Clarifying_Questions_GPT_Research'"
      ],
      "metadata": {
        "id": "dXxVUm8D150e"
      },
      "execution_count": 2,
      "outputs": []
    },
    {
      "cell_type": "code",
      "source": [
        "!cd {drive_dir} && pip install -r requirements_2.txt"
      ],
      "metadata": {
        "colab": {
          "base_uri": "https://localhost:8080/"
        },
        "id": "34bZLvmV17Lk",
        "outputId": "63b8a1af-2018-4a73-9377-412df1741822"
      },
      "execution_count": 3,
      "outputs": [
        {
          "output_type": "stream",
          "name": "stdout",
          "text": [
            "Requirement already satisfied: matplotlib in /usr/local/lib/python3.10/dist-packages (from -r requirements_2.txt (line 1)) (3.7.1)\n",
            "Requirement already satisfied: matplotlib-inline in /usr/local/lib/python3.10/dist-packages (from -r requirements_2.txt (line 2)) (0.1.6)\n",
            "Requirement already satisfied: numpy in /usr/local/lib/python3.10/dist-packages (from -r requirements_2.txt (line 3)) (1.23.5)\n",
            "Requirement already satisfied: openai in /usr/local/lib/python3.10/dist-packages (from -r requirements_2.txt (line 4)) (0.28.1)\n",
            "Requirement already satisfied: pandas in /usr/local/lib/python3.10/dist-packages (from -r requirements_2.txt (line 5)) (1.5.3)\n",
            "Requirement already satisfied: Pillow in /usr/local/lib/python3.10/dist-packages (from -r requirements_2.txt (line 6)) (9.4.0)\n",
            "Requirement already satisfied: python-json-logger in /usr/local/lib/python3.10/dist-packages (from -r requirements_2.txt (line 7)) (2.0.7)\n",
            "Requirement already satisfied: requests in /usr/local/lib/python3.10/dist-packages (from -r requirements_2.txt (line 8)) (2.31.0)\n",
            "Requirement already satisfied: scikit-learn in /usr/local/lib/python3.10/dist-packages (from -r requirements_2.txt (line 9)) (1.2.2)\n",
            "Requirement already satisfied: tqdm in /usr/local/lib/python3.10/dist-packages (from -r requirements_2.txt (line 10)) (4.66.1)\n",
            "Requirement already satisfied: contourpy>=1.0.1 in /usr/local/lib/python3.10/dist-packages (from matplotlib->-r requirements_2.txt (line 1)) (1.1.1)\n",
            "Requirement already satisfied: cycler>=0.10 in /usr/local/lib/python3.10/dist-packages (from matplotlib->-r requirements_2.txt (line 1)) (0.12.0)\n",
            "Requirement already satisfied: fonttools>=4.22.0 in /usr/local/lib/python3.10/dist-packages (from matplotlib->-r requirements_2.txt (line 1)) (4.43.0)\n",
            "Requirement already satisfied: kiwisolver>=1.0.1 in /usr/local/lib/python3.10/dist-packages (from matplotlib->-r requirements_2.txt (line 1)) (1.4.5)\n",
            "Requirement already satisfied: packaging>=20.0 in /usr/local/lib/python3.10/dist-packages (from matplotlib->-r requirements_2.txt (line 1)) (23.2)\n",
            "Requirement already satisfied: pyparsing>=2.3.1 in /usr/local/lib/python3.10/dist-packages (from matplotlib->-r requirements_2.txt (line 1)) (3.1.1)\n",
            "Requirement already satisfied: python-dateutil>=2.7 in /usr/local/lib/python3.10/dist-packages (from matplotlib->-r requirements_2.txt (line 1)) (2.8.2)\n",
            "Requirement already satisfied: traitlets in /usr/local/lib/python3.10/dist-packages (from matplotlib-inline->-r requirements_2.txt (line 2)) (5.7.1)\n",
            "Requirement already satisfied: aiohttp in /usr/local/lib/python3.10/dist-packages (from openai->-r requirements_2.txt (line 4)) (3.8.5)\n",
            "Requirement already satisfied: pytz>=2020.1 in /usr/local/lib/python3.10/dist-packages (from pandas->-r requirements_2.txt (line 5)) (2023.3.post1)\n",
            "Requirement already satisfied: charset-normalizer<4,>=2 in /usr/local/lib/python3.10/dist-packages (from requests->-r requirements_2.txt (line 8)) (3.3.0)\n",
            "Requirement already satisfied: idna<4,>=2.5 in /usr/local/lib/python3.10/dist-packages (from requests->-r requirements_2.txt (line 8)) (3.4)\n",
            "Requirement already satisfied: urllib3<3,>=1.21.1 in /usr/local/lib/python3.10/dist-packages (from requests->-r requirements_2.txt (line 8)) (2.0.6)\n",
            "Requirement already satisfied: certifi>=2017.4.17 in /usr/local/lib/python3.10/dist-packages (from requests->-r requirements_2.txt (line 8)) (2023.7.22)\n",
            "Requirement already satisfied: scipy>=1.3.2 in /usr/local/lib/python3.10/dist-packages (from scikit-learn->-r requirements_2.txt (line 9)) (1.11.3)\n",
            "Requirement already satisfied: joblib>=1.1.1 in /usr/local/lib/python3.10/dist-packages (from scikit-learn->-r requirements_2.txt (line 9)) (1.3.2)\n",
            "Requirement already satisfied: threadpoolctl>=2.0.0 in /usr/local/lib/python3.10/dist-packages (from scikit-learn->-r requirements_2.txt (line 9)) (3.2.0)\n",
            "Requirement already satisfied: six>=1.5 in /usr/local/lib/python3.10/dist-packages (from python-dateutil>=2.7->matplotlib->-r requirements_2.txt (line 1)) (1.16.0)\n",
            "Requirement already satisfied: attrs>=17.3.0 in /usr/local/lib/python3.10/dist-packages (from aiohttp->openai->-r requirements_2.txt (line 4)) (23.1.0)\n",
            "Requirement already satisfied: multidict<7.0,>=4.5 in /usr/local/lib/python3.10/dist-packages (from aiohttp->openai->-r requirements_2.txt (line 4)) (6.0.4)\n",
            "Requirement already satisfied: async-timeout<5.0,>=4.0.0a3 in /usr/local/lib/python3.10/dist-packages (from aiohttp->openai->-r requirements_2.txt (line 4)) (4.0.3)\n",
            "Requirement already satisfied: yarl<2.0,>=1.0 in /usr/local/lib/python3.10/dist-packages (from aiohttp->openai->-r requirements_2.txt (line 4)) (1.9.2)\n",
            "Requirement already satisfied: frozenlist>=1.1.1 in /usr/local/lib/python3.10/dist-packages (from aiohttp->openai->-r requirements_2.txt (line 4)) (1.4.0)\n",
            "Requirement already satisfied: aiosignal>=1.1.2 in /usr/local/lib/python3.10/dist-packages (from aiohttp->openai->-r requirements_2.txt (line 4)) (1.3.1)\n"
          ]
        }
      ]
    },
    {
      "cell_type": "code",
      "source": [
        "import openai\n",
        "\n",
        "import pickle\n",
        "\n",
        "import json\n",
        "\n",
        "import threading\n",
        "\n",
        "import numpy as np\n",
        "\n",
        "import random\n",
        "\n",
        "import re\n",
        "\n",
        "from enum import Enum\n",
        "\n",
        "from collections import Counter\n",
        "\n",
        "import math\n",
        "\n",
        "from typing import List\n",
        "\n",
        "import copy\n",
        "\n",
        "import signal\n",
        "\n",
        "import time\n",
        "\n",
        "import sys\n",
        "\n",
        "import os\n",
        "\n",
        "from tqdm import tqdm\n",
        "\n",
        "import pprint\n",
        "\n",
        "import urllib3"
      ],
      "metadata": {
        "id": "DQObQKqP3fn_"
      },
      "execution_count": 4,
      "outputs": []
    },
    {
      "cell_type": "code",
      "source": [
        "with open(drive_dir+\"/openai_key.key\", \"r\") as f:\n",
        "    openai.api_key = f.read()"
      ],
      "metadata": {
        "id": "UZOZNb1tnmDs"
      },
      "execution_count": 5,
      "outputs": []
    },
    {
      "cell_type": "markdown",
      "source": [
        "## Basic Functions and Decorators"
      ],
      "metadata": {
        "id": "ojlPwz7TGvxd"
      }
    },
    {
      "cell_type": "code",
      "source": [
        "# given a string that has a list, creates a python list with the input's contents\n",
        "def str2lst(l):\n",
        "\n",
        "  # if it is a python list as a str\n",
        "  if '[' in l and ']' in l:\n",
        "    # removing double spaces and newlines\n",
        "    l = re.sub(\"\\s+\", \" \", l)\n",
        "    # removing anything that isn't the list\n",
        "    m = re.search('\\[(.|\\s)+\\]', l)\n",
        "    l = l[m.start():m.end()]\n",
        "    # converting string to list\n",
        "    l = l.strip('][')\n",
        "    l = re.split(\"\"\"['\"], \"\"\", l)\n",
        "\n",
        "    # spaghetti code to dealing with this weird bug I saw before\n",
        "    if len(l) == 1:\n",
        "      l = l[0]\n",
        "      l = re.sub(\"-\", \"\", l)\n",
        "      l = l.split('\\n')\n",
        "\n",
        "  # else if it is bullet points tha are...\n",
        "  #numbered\n",
        "  elif re.search('\\d\\.', l):\n",
        "    # converting string to list\n",
        "    l = re.findall('\\d\\.\\s(.+)', l)\n",
        "\n",
        "  #not numbered\n",
        "  else:\n",
        "    # converting string to list\n",
        "    l = re.split('-', l)[1:]\n",
        "\n",
        "  # removing extra quotation marks\n",
        "  for i in range(len(l)): l[i] = re.sub(\"\"\"['\"]\"\"\", \"\", l[i])\n",
        "  # removing trailing and starting spaces\n",
        "  for i in range(len(l)): l[i] = l[i].strip(' ')\n",
        "\n",
        "  return l\n",
        "\n",
        "# function to turn a python list into a numbered list as a string\n",
        "def list2numbered(lst):\n",
        "  num_lst = []\n",
        "  for idx in range(len(lst)): num_lst.append(f'{idx+1}. {lst[idx]}\\n')\n",
        "  return ''.join(num_lst)\n",
        "\n",
        "# decorator that saves the output of func into a specific index of a lst (for multi threading)\n",
        "def saveInLst(lst, idx):\n",
        "\n",
        "  def inner(func):\n",
        "\n",
        "    def wrap(*args, **kwargs):\n",
        "      lst[idx] = func(*args, **kwargs)\n",
        "      return\n",
        "\n",
        "    return wrap\n",
        "\n",
        "  return inner\n",
        "\n",
        "# given a function, a list of input lists, creates a thread for each input list, running the function with different inouts in parallel. Returns a list of outputs\n",
        "def multiThread(func, input_lst):\n",
        "  thread_n = len(input_lst)\n",
        "  threads = []\n",
        "\n",
        "  results = [None for i in range(thread_n)]\n",
        "\n",
        "  n = 80\n",
        "  idxs = [i for i in range(thread_n )]\n",
        "  batch_idxs = [idxs[i * n:(i + 1) * n] for i in range((len(idxs) + n - 1) // n )]\n",
        "  # print(batch_idxs)\n",
        "  for b in batch_idxs:\n",
        "    print(b)\n",
        "    for i in b:\n",
        "      time.sleep(2) # my attempt to stop hitting the rate limit\n",
        "      tr = threading.Thread(target=saveInLst(results, i)(func), args=(*input_lst[i],))\n",
        "      # tr = threading.Thread(target=func, args=(*input_lst[i],))\n",
        "      tr.start()\n",
        "      threads.append(tr)\n",
        "\n",
        "    for tr in threads:\n",
        "      tr.join()\n",
        "\n",
        "  return results"
      ],
      "metadata": {
        "id": "1PYfBrn-Gwh0"
      },
      "execution_count": 6,
      "outputs": []
    },
    {
      "cell_type": "markdown",
      "source": [
        "## Functions for Text Generation"
      ],
      "metadata": {
        "id": "x7CeFKIQ3yIL"
      }
    },
    {
      "cell_type": "code",
      "source": [
        "# generates text using gpt-3.5 given a conversation context, returns None if its not able to generate text after a certain number of tries\n",
        "def generateText(context, temp = 0.7, tries = 3, max_time = 120):\n",
        "  assert isinstance(context, list), f'input is not a context list, got {type(context)}'\n",
        "\n",
        "  resp = None\n",
        "\n",
        "  while tries != 0:\n",
        "    try:\n",
        "      resp = openai.ChatCompletion.create(\n",
        "        model='gpt-3.5-turbo',\n",
        "        messages=context,\n",
        "        temperature=temp)['choices'][0]['message']['content']\n",
        "\n",
        "      tries = 0\n",
        "    except:\n",
        "      tries -= 1\n",
        "\n",
        "  return resp\n",
        "\n",
        "\n",
        "# def generateMText(context, thread_n, temp = 0.7, tries = 3):\n",
        "#   threads = []\n",
        "\n",
        "#   results = [None for i in range(thread_n)]\n",
        "\n",
        "#   seed = 'Generate a profile of a user who is looking to travel. The profile should be comprised of a few bullet points that describe them'\n",
        "\n",
        "#   for i in range(thread_n):\n",
        "#     tr = threading.Thread(target=saveInLst(results, i)(generateText), args=(context, temp, tries,))\n",
        "#     tr.start()\n",
        "#     threads.append(tr)\n",
        "\n",
        "#   for tr in threads:\n",
        "#     tr.join()\n",
        "\n",
        "#   return results\n",
        "\n",
        "# appends a new entry to a conversation context\n",
        "def appendContext(text, context, role = 'user'):\n",
        "  assert role == 'user' or role == 'assistant', f'unexpected role, got: {role}'\n",
        "  assert isinstance([], list), 'context has to be a list'\n",
        "\n",
        "  if not context:\n",
        "    context.append({'role': role, 'content': text})\n",
        "    return\n",
        "\n",
        "  if role == 'user':\n",
        "    assert context[-1]['role'] == 'assistant', f'incompatible adjecent role, got user'\n",
        "  else:\n",
        "    assert context[-1]['role'] == 'user', f'incompatible adjecent role, got assistant'\n",
        "\n",
        "  context.append({'role': role, 'content': text})\n",
        "\n",
        "  return"
      ],
      "metadata": {
        "id": "LtqU76cG3xZe"
      },
      "execution_count": 7,
      "outputs": []
    },
    {
      "cell_type": "markdown",
      "source": [
        "# Prompts"
      ],
      "metadata": {
        "id": "tlvTRnk4ZqXG"
      }
    },
    {
      "cell_type": "code",
      "source": [
        "def stichPrompt(prompt, var_lst):\n",
        "  var_places = len(re.findall('{\\S*}', prompt))\n",
        "  assert var_places == len(var_lst), f'prompt has to have the same number of places for variables as variables in var_lst. Prompt has {var_places} var places and len(var_lst) = {len(var_lst)}. Here is the prompt:\\n{prompt}'\n",
        "  for var_idx in range(var_places):\n",
        "    m = re.search('{\\S*}', prompt)\n",
        "    start = prompt[:m.start()]\n",
        "    end = prompt[m.end():]\n",
        "    prompt = f'{start}{var_lst[var_idx]}{end}'\n",
        "\n",
        "  return prompt\n",
        "\n",
        "# CREATE CODE THAT SERVES AS DICT OF ALL PROPMTS (WHERE THE VALUES AZRE FUNCTIONS)\n",
        "stichPrompt(\"Here is an example prompt, with a var here: {var} and here: {}\", [1,2])"
      ],
      "metadata": {
        "colab": {
          "base_uri": "https://localhost:8080/",
          "height": 0
        },
        "id": "OiVngHxyJd3L",
        "outputId": "daf1688a-9efe-4bbd-95d1-a683348f21f9"
      },
      "execution_count": 8,
      "outputs": [
        {
          "output_type": "execute_result",
          "data": {
            "text/plain": [
              "'Here is an example prompt, with a var here: 1 and here: 2'"
            ],
            "application/vnd.google.colaboratory.intrinsic+json": {
              "type": "string"
            }
          },
          "metadata": {},
          "execution_count": 8
        }
      ]
    },
    {
      "cell_type": "code",
      "source": [
        "prompts = {'startConv': [\"\"\"You are taking an English test.\\nHere is a sentence: \"{i_want_sen}, but I do not know [insert word]. Help me by asking me a question at a time.\"\\nReturn the sentence but with the correct word filled in the empty slot:\"\"\"],\n",
        "\n",
        "           'genRealProfile': [\"Generate a profile of a user. The profile should be a list of keywords about their preferences regarding {domain}.\"],\n",
        "\n",
        "           'continueConvBool': [\"Is the following text a question or a suggestion?/n/n{text}/n/nAnswer [Question, Suggestion]:\"],\n",
        "\n",
        "           'genUProfiles': ['Generate {number} different profiles. Each profile should be one sentence containing a sequence of keywords about their preferences regarding {domain}.'],\n",
        "\n",
        "           'extractLastPreference': ['Here is a conversation.\\nASSISTANT:\\n{question}\\nUSER:\\n{answer}\\nTASK: Summarize what we know about the user in a single sentence.\\nSUMMARY:'],\n",
        "\n",
        "           'genYProfiles': ['Here is a list of user preferences:{bullet_points}',\n",
        "                            'Here is a sentence describing the preferences of a user:{sentence}\\n',\n",
        "                            'Create {number} different versions of this sentence, where you add many new extra preferences on top that the user might have. Each sentence should have the known preferences and also have different imagined preferences from each other:',\n",
        "                            'Create different versions of this sentence, where you add many new extra preferences on top that the user might have. Each sentence should have the known preferences and also have different imagined preferences from each other:'],\n",
        "\n",
        "           'answerQ': ['You are a character. Here is what you know about your character: {profile}\\nYou are speaking to an assistant and you speak in brief sentences.\\nAnswer the assistant in character.\\nAssistant: {question}\\nYou:'],\n",
        "\n",
        "           'pickBranch': [\"\"\"You are the following character: {profile}\\nYou are asked the following question: {question}\\n\\nFrom the options below, which is most likely your answer to the question?\\n{bullet_points}\\nRemember, you have to pick one from the list or answer \"None of the answers in the list\". Only return the most likely answer, followed by the number that is the place of the answer in the list.\\nAnswer, Number:\"\"\",\n",
        "                          \"You are the following character: {profile}\\nYou are asked the following question: {question}\\nIs it likely that you would answer: {answer}?\\n\\n[Yes, No]:\"],\n",
        "\n",
        "          'makeBranches': ['Here is a question:\\n\"{question}\"\\nReturn the smallest numbered list of different possible answers to this question. Make sure that this list, althought small, covers how any user could answer this question.'],\n",
        "\n",
        "           'makeNodes': ['Generate a python list of {node_n} questions you could possibly ask me at this point of the conversation.',\n",
        "                         'Generate a python list of questions you could possibly ask me at this point of the conversation.',\n",
        "                         ' Inlcude the last question you just asked in the python list.',\n",
        "                         \"Let's say I said the following: {answer}\\n {prompt}\"],\n",
        "\n",
        "\n",
        "           }"
      ],
      "metadata": {
        "id": "YJdxUfJ7CAeq"
      },
      "execution_count": 9,
      "outputs": []
    },
    {
      "cell_type": "markdown",
      "source": [
        "# Functions for Profiles"
      ],
      "metadata": {
        "id": "UTSV5_KrZxY5"
      }
    },
    {
      "cell_type": "code",
      "source": [
        "# Create U Profiles\n",
        "def genUProfiles(prof_num = 50, domain = 'movies'):\n",
        "  prompt = stichPrompt(prompts['genUProfiles'][0], [prof_num, domain])\n",
        "  #prompt = f'Generate {prof_num} different profiles. Each profile should be one sentence containing a sequence of keywords about their preferences regarding traveling.'\n",
        "  return [Profile(txt, ProfileType.U) for txt in str2lst(generateText([{'role': 'user', 'content': prompt}], tries = 2))]\n",
        "\n",
        "# Extract the last preference the user revealed in the chat context\n",
        "def extractLastPreference(chat_hist):\n",
        "  chat_hist = chat_hist[-2:]\n",
        "  assert chat_hist[0]['role'] == 'assistant', 'chat history should have the assistant as the second to last message'\n",
        "  assert chat_hist[1]['role'] == 'user', 'chat history should have the user as the last message'\n",
        "\n",
        "  prompt = stichPrompt(prompts['extractLastPreference'][0], [chat_hist[0]['content'], chat_hist[1]['content']])\n",
        "  # prompt = f'Here is a conversation.\\nASSISTANT:\\n{chat_hist[0]['content']}\\nUSER:\\n{chat_hist[1]['content']}\\nTASK: Summarize what we know about the user in a single sentence.\\nSUMMARY:'\n",
        "\n",
        "  return generateText([{'role': 'user', 'content': prompt}], tries = 2)\n",
        "\n",
        "# Create Y Profiles\n",
        "def genYProfiles(preference_lst = [], prof_num = None):\n",
        "  p_n = len(preference_lst)\n",
        "  assert p_n != 0, 'need at least one preference in preference_lst'\n",
        "\n",
        "  prompt = preference_lst[0]\n",
        "\n",
        "  # if preference_lst has more than oone preferece, create a single sentence representing all of them\n",
        "  if p_n > 1:\n",
        "    prompt = stichPrompt(prompts['genYProfiles'][0], [list2numbered(preference_lst)])\n",
        "    # prompt = f'Here is a list of user preferences:{list2numbered(preference_lst)}'\n",
        "    prompt = generateText([{'role': 'user', 'content': prompt+'Create a single sentence of key words that describes all of these preferences:'}], tries = 2)\n",
        "\n",
        "  prompt = stichPrompt(prompts['genYProfiles'][1], [prompt])\n",
        "  # prompt = f'Here is a sentence describing the preferences of a user:{prompt}\\n'\n",
        "\n",
        "  # if profile number is specified, generate this specific number, otherwise let LLM decide\n",
        "  if prof_num:\n",
        "    prompt = stichPrompt(prompts['genYProfiles'][2], [prof_num])\n",
        "    # prompt += f'Create {prof_num} different versions of this sentence, where you add many new extra preferences on top that the user might have. Each sentence should have the known preferences and also have different imagined preferences from each other:'\n",
        "  else:\n",
        "    prompt += prompts['genYProfiles'][3]\n",
        "    # prompt += 'Create different versions of this sentence, where you add many new extra preferences on top that the user might have. Each sentence should have the known preferences and also have different imagined preferences from each other:'\n",
        "\n",
        "  return [Profile(txt, ProfileType.Y) for txt in str2lst(generateText([{'role': 'user', 'content': prompt}], tries = 2))]\n",
        "\n",
        "# Create a real profile\n",
        "def genRealProfile(domain = 'movies'):\n",
        "  prompt = stichPrompt(prompts['genRealProfile'][0], [domain])\n",
        "  #prompt = f'Generate {prof_num} different profiles. Each profile should be one sentence containing a sequence of keywords about their preferences regarding traveling.'\n",
        "  return Profile(generateText([{'role': 'user', 'content': prompt}], tries = 2), ProfileType.R)"
      ],
      "metadata": {
        "id": "7Y78U4RxHbDB"
      },
      "execution_count": 10,
      "outputs": []
    },
    {
      "cell_type": "markdown",
      "source": [
        "# Tree Structure"
      ],
      "metadata": {
        "id": "4haEyKYJZ53U"
      }
    },
    {
      "cell_type": "code",
      "source": [
        "# Enum of Profile types\n",
        "class ProfileType(Enum):\n",
        "  U = 0\n",
        "  Y = 1\n",
        "  R = 2\n",
        "\n",
        "# Class representing a user profile\n",
        "class Profile:\n",
        "  def __init__(self, text: str, p_type: ProfileType):\n",
        "    self.text = text\n",
        "    self.p_type = p_type\n",
        "    return\n",
        "\n",
        "  # # makes this Proifle into a UProfile\n",
        "  # def makeUProfile(self):\n",
        "  #   self.p_type = ProfileType.U\n",
        "  #   return\n",
        "\n",
        "  # # makes this Proifle into a YProfile\n",
        "  # def makeYProfile(self, context):\n",
        "  #   self.p_type = ProfileType.Y\n",
        "  #   return\n",
        "\n",
        "  # answers question q as the user the profile describes, returns string\n",
        "  @staticmethod\n",
        "  def answerQ(self, q):\n",
        "    prompt = stichPrompt(prompts['answerQ'][0], [self.text, q])\n",
        "    # prompt = f'You are a character. Here is what you know about your character: {self.text}\\nYou are speaking to an assistant and you speak in brief sentences.\\nAnswer the assistant in character.\\nAssistant: {q}\\nYou:'\n",
        "    return generateText([{'role': 'user', 'content': prompt}])\n",
        "\n",
        "  # picks branch that best fits profile, returns int that is index of picked branch in the branches list or None\n",
        "  @staticmethod\n",
        "  def pickBranch(self, node):\n",
        "    prompt = stichPrompt(prompts['pickBranch'][0], [self.text, node.question, list2numbered(node.branches)])\n",
        "    # prompt = f\"\"\"You are the following character: {self.text}\\nYou are asked the following question: {node.question}\\n\\nFrom the options below, which is most likely your answer to the question?\\n{list2numbered(node.branches)}\\nRemember, you have to pick one from the list or answer \"None of the answers in the list\". Only return the most likely answer, followed by the number that is the place of the answer in the list.\\nAnswer, Number:\"\"\"\n",
        "    txt = generateText([{'role': 'user', 'content': prompt}], temp=1.0)\n",
        "\n",
        "    # trying to find a number in the answer generated\n",
        "    n_m = re.search('\\d', txt)\n",
        "\n",
        "    if n_m:\n",
        "      # if the number chosen is not an index to the branches list, return None\n",
        "      branch_idx = int(txt[n_m.start():n_m.end()]) - 1\n",
        "      if branch_idx >= len(node.branches):\n",
        "        return\n",
        "\n",
        "      # if given an appropriate answer, make sure the answer shouldn't be neither\n",
        "      prompt = stichPrompt(prompts['pickBranch'][1], [self.text, node.question, node.branches[branch_idx]])\n",
        "      # prompt = f\"You are the following character: {self.text}\\nYou are asked the following question: {node.question}\\nIs it likely that you would answer: {txt[t_m.start():t_m.end()]}?\\n\\n[Yes, No]:\"\n",
        "\n",
        "      if 'yes' in generateText([{'role': 'user', 'content': prompt}]).lower():\n",
        "        return branch_idx\n",
        "\n",
        "    # if no number was given, or if the number was not an appropriate answer, return None\n",
        "    return\n",
        "\n",
        "# Class representing a node in a layer of the \"decision tree\"\n",
        "class Node:\n",
        "  def __init__(self, q : str):\n",
        "    # question that represents this node\n",
        "    self.question = q\n",
        "    # possible branches/answers to this node/question\n",
        "    self.branches = None\n",
        "    self.tst_b = None\n",
        "    # map of profile index (from given profile_lst input in splitProfiles func) to branch index\n",
        "    self.profile_branch_map = None\n",
        "    # entropy and info gain for this Node\n",
        "    self.entropy = None\n",
        "    self.info_gains = None\n",
        "\n",
        "    return\n",
        "\n",
        "  # generates branches for this node\n",
        "  @staticmethod\n",
        "  def makeBranches(self):\n",
        "    assert self.question != None, \"self.question cannot be None\"\n",
        "\n",
        "    prompt = stichPrompt(prompts['makeBranches'][0], [self.question])\n",
        "    # prompt = f'Here is a question:\\n\"{self.question}\"\\nReturn a concise list of different possible answers to the question.'\n",
        "    self.tst_b = generateText([{'role': 'user', 'content': prompt}], tries = 2, temp = 1.0)\n",
        "    self.branches = str2lst(self.tst_b)\n",
        "    return\n",
        "\n",
        "  # splits profiles into the different branches, then creates a mapping from profile index to branch index\n",
        "  @staticmethod\n",
        "  def splitProfiles(self, profile_lst : List[Profile]):\n",
        "    assert self.branches != None, \"self.branches cannot be None\"\n",
        "    assert len(profile_lst) != 0, \"self.profile_lst cannot be empty\"\n",
        "\n",
        "    # each profile picks branch that is best fit, returns list of int\n",
        "    # saving what profile picked what branch in self.profile_branch_map\n",
        "    self.profile_branch_map = multiThread(Profile.pickBranch, [[p, self] for p in profile_lst])\n",
        "\n",
        "    # editing self.branches and self.profile_branch_map if a profile picked no Branches\n",
        "    has_none = False\n",
        "    for idx in range(len(self.profile_branch_map)):\n",
        "      if self.profile_branch_map[idx] == None:\n",
        "        self.profile_branch_map[idx] = len(self.branches)\n",
        "        has_none = True\n",
        "\n",
        "    if has_none:\n",
        "      self.branches.append(\"NONE OF THE ABOVE\")\n",
        "\n",
        "    return\n",
        "\n",
        "  # calculating info gain\n",
        "  def clalcInfoGain(self, profile_lst : List[Profile]):\n",
        "    # number of total profiles\n",
        "    total_profiles_n = len(profile_lst)\n",
        "    # creating a set of classes\n",
        "    classes = set()\n",
        "    for p in profile_lst:\n",
        "      classes.add(p.p_type)\n",
        "    # map from branch index to count of profiles that picked this branch\n",
        "    branch_count = Counter(self.profile_branch_map)\n",
        "    # map from branch index to possible node entropy\n",
        "    branch_entropy = []\n",
        "\n",
        "    # if there is only one class, treat every profile as its own class\n",
        "    if len(classes) == 1:\n",
        "      # calculating this node's entropy\n",
        "      self.entropy = -1*math.log2(1/total_profiles_n)\n",
        "\n",
        "      # calculating the entropy of each branch\n",
        "      for b_idx in range(len(self.branches)):\n",
        "        if branch_count[b_idx] != 0: branch_entropy.append(-1*math.log2(1/branch_count[b_idx]))\n",
        "        else: branch_entropy.append(0)\n",
        "\n",
        "    # otherwise\n",
        "    else:\n",
        "      # calculating this node's entropy\n",
        "      self.entropy = 0\n",
        "      for c in Counter([p.p_type.value for p in profile_lst]).values(): self.entropy -= (c/total_profiles_n)*math.log2(c/total_profiles_n)\n",
        "\n",
        "      # calculating the entropy of each branch\n",
        "      assert 1==0\n",
        "\n",
        "    # calculating information gain\n",
        "    branch_entropy_weighted_sum = 0\n",
        "    for b_idx in range(len(self.branches)):\n",
        "      branch_entropy_weighted_sum += (branch_count[b_idx]/total_profiles_n) * branch_entropy[b_idx]\n",
        "\n",
        "    self.info_gains = self.entropy - branch_entropy_weighted_sum\n",
        "    return\n",
        "\n",
        "\n",
        "# Class representing a layer of the \"decision tree\"\n",
        "class Layer:\n",
        "  def __init__(self, context):\n",
        "    # current context\n",
        "    self.context = context\n",
        "    # list of nodes, each representing a possible question for this layer of the conversation\n",
        "    self.nodes = None\n",
        "\n",
        "    # list of Profile\n",
        "    self.profiles = []\n",
        "    # list of the preferences from the user we are aware of\n",
        "    self.known_preferences = []\n",
        "\n",
        "    # index of the node with the highest information gain\n",
        "    self.best_node_idx = None\n",
        "\n",
        "    # stores next layer\n",
        "    self.next = None\n",
        "    # stores previous layer\n",
        "    self.prev = None\n",
        "\n",
        "    return\n",
        "\n",
        "  # Extract the last preference the user revealed in the chat context\n",
        "  def extractLastPreference(self):\n",
        "    assert len(self.context) >= 3, 'context needs to have at least three entries (the seed prompt + one for the user and one for the assistant)'\n",
        "\n",
        "    chat_hist = self.context[-2:]\n",
        "    assert chat_hist[0]['role'] == 'assistant', 'chat history should have the assistant as the second to last message'\n",
        "    assert chat_hist[1]['role'] == 'user', 'chat history should have the user as the last message'\n",
        "\n",
        "    prompt = stichPrompt(prompts['extractLastPreference'][0], [chat_hist[0]['content'], chat_hist[1]['content']])\n",
        "    # prompt = f'Here is a conversation.\\nASSISTANT:\\n{chat_hist[0]['content']}\\nUSER:\\n{chat_hist[1]['content']}\\nTASK: Summarize what we know about the user in a single sentence.\\nSUMMARY:'\n",
        "\n",
        "    self.known_preferences.append(generateText([{'role': 'user', 'content': prompt}], tries = 2))\n",
        "    return\n",
        "\n",
        "  # creating U Profiles\n",
        "  def makeUProfiles(self, prof_num = None, domain = 'movies'):\n",
        "    # IF THERE ARE NO KNOWN PREFERENCES\n",
        "    if not self.known_preferences:\n",
        "      if prof_num: prompt = stichPrompt(prompts['makeUProfiles'][0], [prof_num, domain])\n",
        "      else: prompt = stichPrompt(prompts['makeUProfiles'][1], [domain])\n",
        "      #prompt = f'Generate {prof_num} different profiles. Each profile should be one sentence containing a sequence of keywords about their preferences regarding traveling.'\n",
        "      self.profiles = [Profile(txt, ProfileType.U) for txt in str2lst(generateText([{'role': 'user', 'content': prompt}], tries = 2))]\n",
        "      return\n",
        "\n",
        "    # IF THERE ARE KNOWN PREFERENCES, incoroporate them into the profiles\n",
        "    p_n = len(self.known_preferences)\n",
        "    prompt = self.known_preferences[0]\n",
        "\n",
        "    # if preference_lst has more than one preferece, create a single sentence representing all of them\n",
        "    if p_n > 1:\n",
        "      prompt = stichPrompt(prompts['makeUProfiles'][2], [list2numbered(self.known_preferences)])\n",
        "      # prompt = f'Here is a list of user preferences:{list2numbered(preference_lst)}'\n",
        "      prompt = generateText([{'role': 'user', 'content': prompt+'Create a single sentence of key words that describes all of these preferences:'}], tries = 2)\n",
        "\n",
        "    prompt = stichPrompt(prompts['makeUProfiles'][3], [prompt])\n",
        "    # prompt = f'Here is a sentence describing the preferences of a user:{prompt}\\n'\n",
        "\n",
        "    # if profile number is specified, generate this specific number, otherwise let LLM decide\n",
        "    if prof_num:\n",
        "      prompt += stichPrompt(prompts['makeUProfiles'][4], [prof_num, domain])\n",
        "      # prompt += f'Create {prof_num} different versions of this sentence, where you add many new extra preferences on top that the user might have. Each sentence should have the known preferences and also have different imagined preferences from each other:'\n",
        "    else:\n",
        "      prompt += stichPrompt(prompts['makeUProfiles'][5], [domain])\n",
        "      # prompt += 'Create different versions of this sentence, where you add many new extra preferences on top that the user might have. Each sentence should have the known preferences and also have different imagined preferences from each other:'\n",
        "\n",
        "    pprint.pprint(prompt)\n",
        "    self.profiles = [Profile(txt, ProfileType.U) for txt in str2lst(generateText([{'role': 'user', 'content': prompt}], tries = 2))]\n",
        "    return\n",
        "\n",
        "  # creating nodes, hence possible questions for this layer\n",
        "  def makeNodes(self, node_n = None):\n",
        "    # making a deep copy of the context so it is unchanged\n",
        "    context = copy.deepcopy(self.context)\n",
        "\n",
        "    # making the base prompt\n",
        "    if node_n:\n",
        "      prompt = stichPrompt(prompts['makeNodes'][0], [node_n])\n",
        "      # prompt = f'Generate a python list of {node_n} questions you could possibly ask me at this point of the conversation.'\n",
        "    else:\n",
        "      prompt = prompts['makeNodes'][1]\n",
        "      # prompt = 'Generate a python list of questions you could possibly ask me at this point of the conversation.'\n",
        "\n",
        "    if context[-1]['role'] == 'assistant':\n",
        "      prompt += prompts['makeNodes'][2]\n",
        "      # prompt += ' Inlcude the last question you just asked in the python list.'\n",
        "    else:\n",
        "      prompt = stichPrompt(prompts['makeNodes'][3], [context.pop()['content'], prompt])\n",
        "      # prompt = f\"Let's say I said the following: {context.pop()['content']}\\n {prompt}\"\n",
        "\n",
        "\n",
        "    # appending the prompt to context\n",
        "    appendContext(prompt, context, 'user')\n",
        "\n",
        "    # generating the questions and storing them as a python list, then initializing nodes\n",
        "    self.nodes = [Node(q) for q in str2lst(generateText(context, tries = 2))]\n",
        "    return\n",
        "\n",
        "  # creates branches for each Node in self.nodes\n",
        "  def makeBranches(self):\n",
        "    assert self.nodes != None, \"self.nodes cannot be None\"\n",
        "    multiThread(Node.makeBranches, [[n] for n in self.nodes])\n",
        "    return\n",
        "\n",
        "  # create a mapping from profiles to branches for each node\n",
        "  def splitProfiles(self):\n",
        "    assert self.nodes != None, \"self.nodes cannot be None\"\n",
        "    assert len(self.profiles) != 0, \"self.profiles cannot be empty\"\n",
        "    # multiThread(Node.splitProfiles, [[n, self.profiles] for n in self.nodes])\n",
        "    # return\n",
        "    for n in self.nodes:\n",
        "      n.splitProfiles(n, self.profiles)\n",
        "    return\n",
        "\n",
        "  # calculates info gain for every node and saves index of best node\n",
        "  def calcInfoGain(self):\n",
        "    for n in self.nodes: n.clalcInfoGain(self.profiles)\n",
        "    ig = [n.info_gains for n in self.nodes]\n",
        "    self.best_node_idx = ig.index(max(ig))\n",
        "\n",
        "    return\n",
        "\n",
        "  # ## NEED TO IMPLEMENT THIS FOR NEW CONCENPTION OF NODE (AS WELL AS ALL THE OTHER FUNCTIONS)\n",
        "  # # creates branches using profiles by calling the ProfileGroup pickbranch(self, node) method for the ProfileGroup in index profile_group_idx in self.profile_groups\n",
        "  # def makeBranchesP(self, profile_group_idx = None):\n",
        "  #   if profile_group_idx and len(self.profiles) <= profile_group_idx:\n",
        "  #     print(f'self.profiles does not have index {profile_group_idx}')\n",
        "  #     return\n",
        "\n",
        "  #   if profile_group_idx and len(self.profiles[profile_group_idx]) == 0:\n",
        "  #     print(f'no profiles exists in index {profile_group_idx }')\n",
        "  #     return\n",
        "\n",
        "  #   if profile_group_idx:\n",
        "  #     b_maker_ps = self.profiles[profile_group_idx]\n",
        "  #   else:\n",
        "  #     b_maker_ps = [p for p_group in self.profiles for p in p_group]\n",
        "\n",
        "  #   self.b = multiThread(Profile.answerQ, [[p, self.q] for p in b_maker_ps])\n",
        "  #   return\n",
        "\n",
        "  # # aggregate branches that are the same, sets self.b to a list of strings GIVEN self.b is not none\n",
        "  # def aggregateBranches(self):\n",
        "  #   if not self.b:\n",
        "  #     print('this node has no branches')\n",
        "  #     return\n",
        "\n",
        "  #   self.b = list(dict.fromkeys(self.b))\n",
        "  #   prompt = f'You are taking an English test.\\nHere is a question: \"{self.q}\"\\nHere is a python list of possible answers to the question: {self.b}\\nThe current python list may contain answers that are worded differently, but have the same meaning. Remove all the duplicate answers and return a python list of unique answers:'\n",
        "  #   self.b = str2lst(generateText([{'role': 'user', 'content': prompt}]))\n",
        "  #   return"
      ],
      "metadata": {
        "id": "oucXDIRuSR8j"
      },
      "execution_count": 103,
      "outputs": []
    },
    {
      "cell_type": "markdown",
      "source": [
        "# Conversartion Functions"
      ],
      "metadata": {
        "id": "WpDizLttaH8q"
      }
    },
    {
      "cell_type": "code",
      "source": [
        "def startConv(i_want_sen = 'watch a movie'):\n",
        "  prompt = stichPrompt(prompts['startConv'][0], [i_want_sen])\n",
        "  # prompt = f\"\"\"You are taking an English test.\\nHere is a sentence: \"{i_want_sen}, but I do not know [insert word]. Help me by asking me a question at a time.\"\\nReturn the sentence but with the correct word filled in the empty slot:\"\"\"\n",
        "  prompt = generateText([{'role': 'user', 'content': prompt}]).strip(\"\"\" '\" \"\"\")\n",
        "\n",
        "  context = [{'role': 'user', 'content': prompt}]\n",
        "  # appendContext(generateText([{'role': 'user', 'content': prompt}]), context, 'assistant')\n",
        "\n",
        "  return context\n",
        "\n",
        "def continueConvBool(chat_hist, i_want_sen = 'watch a movie'):\n",
        "  assert chat_hist[-1]['role'] == 'assistant', 'chat history should have the assistant as the last message'\n",
        "  prompt = stichPrompt(prompts['continueConvBool'][0], [i_want_sen, chat_hist[-1]['content']])\n",
        "\n",
        "  return 'ask' in generateText([{'role': 'user', 'content': prompt}]).lower()"
      ],
      "metadata": {
        "id": "hcDKgTw0h7Aq"
      },
      "execution_count": 12,
      "outputs": []
    },
    {
      "cell_type": "code",
      "source": [
        "def convStep(context):\n",
        "  return"
      ],
      "metadata": {
        "id": "N8C7ZAhqY41N"
      },
      "execution_count": 13,
      "outputs": []
    },
    {
      "cell_type": "markdown",
      "source": [
        "#Main"
      ],
      "metadata": {
        "id": "99lqoLANlfyb"
      }
    },
    {
      "cell_type": "code",
      "source": [
        "prompts = {'startConv': [\"\"\"You are taking an English test.\\nHere is a sentence: \"I want to {i_want_sen}, but I do not know [insert word]. Help me by asking me a question at a time.\"\\nReturn the sentence but with the correct word filled in the empty slot:\"\"\"],\n",
        "\n",
        "           'genRealProfile': [\"Generate an example profile of a possible user. The profile should be a short sentence of keywords about their personal preferences regarding {domain}. Make the profile very specific:\"],\n",
        "\n",
        "           'continueConvBool': [\"An assistant is trying to help a user make a decision. The user wants to {i_want_sen}. Is the following text the assistant asking about the user's preferences or is it a suggestion?/n/n{text}/n/nAnswer [Asking, Suggestion]:\"],\n",
        "\n",
        "           'makeUProfiles': ['Generate {number} different profiles. Each profile should be one sentence containing a sequence of keywords about their preferences regarding {domain}.',\n",
        "                             'Generate different profiles. Each profile should be one sentence containing a sequence of keywords about their preferences regarding {domain}.',\n",
        "                             'Here is a list of known user preferences: {bullet_points}',\n",
        "                             'Here is a sentence describing the known preferences of a user: {sentence}\\n',\n",
        "                             'Create {number} different versions of this sentence, where you add many new extra preferences regarding {domain} that the user might have. Each sentence should have the following structure,\"known preferences + their own imagined preferences\". Make sure the extra imagined preferences you add to each version are (1) compatible with the known preferences of the user and (2) are different from the imagined preferences from the other versions:',\n",
        "                             'Create different versions of this sentence, where you add many new extra preferences regarding {domain} that the user might have. Each sentence should have the following structure,\"known preferences + their own imagined preferences\". Make sure the extra imagined preferences you add to each version are (1) compatible with the known preferences of the user and (2) are different from the imagined preferences from the other versions:'],\n",
        "\n",
        "           'genUProfiles': ['Generate {number} different profiles. Each profile should be one sentence containing a sequence of keywords about their preferences regarding {domain}.'],\n",
        "\n",
        "           'extractLastPreference': ['Here is a conversation.\\nASSISTANT:\\n{question}\\nUSER:\\n{answer}\\nTASK: Summarize what we know about the user in a single sentence.\\nSUMMARY:'],\n",
        "\n",
        "           'genYProfiles': ['Here is a list of user preferences:{bullet_points}',\n",
        "                            'Here is a sentence describing the preferences of a user:{sentence}\\n',\n",
        "                            'Create {number} different versions of this sentence, where you add many new extra preferences on top that the user might have. Each sentence should have the known preferences and also have different imagined preferences from each other:',\n",
        "                            'Create different versions of this sentence, where you add many new extra preferences on top that the user might have. Each sentence should have the known preferences and also have different imagined preferences from each other:'],\n",
        "\n",
        "           'answerQ': ['You are a character. Here is what you know about your character: {profile}\\nYou are speaking to an assistant and you speak in brief sentences.\\nAnswer the assistant in character.\\nAssistant: {question}\\nYou:'],\n",
        "\n",
        "           'pickBranch': [\"\"\"You are the following character: {profile}\\nYou are asked the following question: {question}\\n\\nFrom the options below, which is most likely your answer to the question?\\n{bullet_points}\\nRemember, you have to pick one from the list or answer \"None of the answers in the list\". Only return the most likely answer, followed by the number that is the place of the answer in the list.\\nAnswer, Number:\"\"\",\n",
        "                          \"You are the following character: {profile}\\nYou are asked the following question: {question}\\nIs it likely that you would answer: {answer}?\\n\\n[Yes, No]:\"],\n",
        "\n",
        "          'makeBranches': ['Here is a question:\\n\"{question}\"\\nReturn the smallest numbered list of different possible answers to this question. Make sure that this list, althought small, covers how any user could answer this question.\\nList of answers:'],\n",
        "\n",
        "           'makeNodes': ['Generate a python list of {node_n} questions you could possibly ask me at this point of the conversation.',\n",
        "                         'Generate a python list of questions you could possibly ask me at this point of the conversation.',\n",
        "                         ' Inlcude the last question you just asked in the python list.',\n",
        "                         \"Let's say I said the following: {answer}\\n {prompt}\"],\n",
        "\n",
        "\n",
        "           }"
      ],
      "metadata": {
        "id": "6pr0ATXMM3wJ"
      },
      "execution_count": 130,
      "outputs": []
    },
    {
      "cell_type": "code",
      "source": [
        "# initialize layer\n",
        "layer = Layer(startConv())"
      ],
      "metadata": {
        "id": "TxSm2DCxKyM0"
      },
      "execution_count": 104,
      "outputs": []
    },
    {
      "cell_type": "code",
      "source": [
        "# generate u profiles\n",
        "layer.makeUProfiles(10)"
      ],
      "metadata": {
        "id": "4upRYruVN7Pa"
      },
      "execution_count": 105,
      "outputs": []
    },
    {
      "cell_type": "code",
      "source": [
        "# generate the real profile\n",
        "real_profile = genRealProfile()"
      ],
      "metadata": {
        "id": "VpFmirFtbVuF"
      },
      "execution_count": 109,
      "outputs": []
    },
    {
      "cell_type": "code",
      "source": [
        "# printing real profile\n",
        "pprint.pprint(real_profile.text)\n",
        "# printing their response to the following question as a quick little test\n",
        "pprint.pprint(real_profile.answerQ(real_profile, 'Are you interested in watching a movie like \"Jumanji\"?'))"
      ],
      "metadata": {
        "colab": {
          "base_uri": "https://localhost:8080/"
        },
        "id": "OdvsDF_Hczk4",
        "outputId": "8879fe68-0987-4d0c-c77f-adc43135da08"
      },
      "execution_count": 110,
      "outputs": [
        {
          "output_type": "stream",
          "name": "stdout",
          "text": [
            "('Action movie enthusiast, prefers high-octane stunts, intense fight scenes, '\n",
            " 'and explosive special effects; enjoys movies with fast-paced plots and '\n",
            " 'badass protagonists.')\n",
            "'Nah, not really my style.'\n"
          ]
        }
      ]
    },
    {
      "cell_type": "code",
      "source": [
        "# creating nodes in layer, hence possible questions\n",
        "layer.makeNodes(3)"
      ],
      "metadata": {
        "id": "3YDZFlhPVul8"
      },
      "execution_count": 111,
      "outputs": []
    },
    {
      "cell_type": "code",
      "source": [
        "[n.question for n in layer.nodes]"
      ],
      "metadata": {
        "colab": {
          "base_uri": "https://localhost:8080/"
        },
        "id": "MSpmC99G0j2d",
        "outputId": "c6c6470b-a65c-42f7-b17f-f70b4e83a27c"
      },
      "execution_count": 112,
      "outputs": [
        {
          "output_type": "execute_result",
          "data": {
            "text/plain": [
              "['What genre of movies do you usually enjoy?',\n",
              " 'Do you prefer watching recent releases or classic films?',\n",
              " 'Are you in the mood for a comedy, drama, or action movie?']"
            ]
          },
          "metadata": {},
          "execution_count": 112
        }
      ]
    },
    {
      "cell_type": "code",
      "source": [
        "# creating the branches for each of the nodes (without using profiles)\n",
        "layer.makeBranches()"
      ],
      "metadata": {
        "id": "xCN97XAHPlp7",
        "colab": {
          "base_uri": "https://localhost:8080/"
        },
        "outputId": "04e83862-9bc6-4de9-c8ba-fa48bcd65cca"
      },
      "execution_count": 113,
      "outputs": [
        {
          "output_type": "stream",
          "name": "stdout",
          "text": [
            "[0, 1, 2]\n"
          ]
        }
      ]
    },
    {
      "cell_type": "code",
      "source": [
        "pprint.pprint([n.branches for n in layer.nodes])"
      ],
      "metadata": {
        "colab": {
          "base_uri": "https://localhost:8080/"
        },
        "id": "bXUb2HHiNwZl",
        "outputId": "d746c254-affc-4a8d-8aeb-a38405aef1c0"
      },
      "execution_count": 114,
      "outputs": [
        {
          "output_type": "stream",
          "name": "stdout",
          "text": [
            "[['Action',\n",
            "  'Comedy',\n",
            "  'Drama',\n",
            "  'Romance',\n",
            "  'Horror',\n",
            "  'Science fiction',\n",
            "  'Thriller',\n",
            "  'Adventure',\n",
            "  'Animation',\n",
            "  'Fantasy'],\n",
            " ['Recent releases', 'Classic films'],\n",
            " ['Yes (indicating that the user is open to any genre)',\n",
            "  'No (indicating that the user is not in the mood for any genre)',\n",
            "  'Comedy (indicating that the user specifically wants to watch a comedy)',\n",
            "  'Drama (indicating that the user specifically wants to watch a drama)',\n",
            "  'Action (indicating that the user specifically wants to watch an action '\n",
            "  'movie)']]\n"
          ]
        }
      ]
    },
    {
      "cell_type": "code",
      "source": [
        "# layer.nodes[0].tst_b"
      ],
      "metadata": {
        "id": "5YPeTtHkP4gQ"
      },
      "execution_count": 115,
      "outputs": []
    },
    {
      "cell_type": "code",
      "source": [
        "# split the profiles\n",
        "layer.splitProfiles()"
      ],
      "metadata": {
        "id": "dF6vW0jRBWvr",
        "colab": {
          "base_uri": "https://localhost:8080/"
        },
        "outputId": "71f43ff7-e1f4-4609-fabf-038ff9de3184"
      },
      "execution_count": 116,
      "outputs": [
        {
          "output_type": "stream",
          "name": "stdout",
          "text": [
            "[0, 1, 2, 3, 4, 5, 6, 7, 8, 9]\n",
            "[0, 1, 2, 3, 4, 5, 6, 7, 8, 9]\n",
            "[0, 1, 2, 3, 4, 5, 6, 7, 8, 9]\n"
          ]
        }
      ]
    },
    {
      "cell_type": "code",
      "source": [
        "for n in layer.nodes: print(n.profile_branch_map)"
      ],
      "metadata": {
        "colab": {
          "base_uri": "https://localhost:8080/"
        },
        "id": "_NVZ5BnaGUxZ",
        "outputId": "66efcb5a-6ec6-4618-f818-0351cfd1b65c"
      },
      "execution_count": 117,
      "outputs": [
        {
          "output_type": "stream",
          "name": "stdout",
          "text": [
            "[5, 2, 8, 4, 2, 0, 2, 6, 3, 5]\n",
            "[0, 1, 1, 1, 2, 2, 1, 1, 1, 2]\n",
            "[4, 3, 2, 5, 3, 4, 3, 3, 2, 2]\n"
          ]
        }
      ]
    },
    {
      "cell_type": "code",
      "source": [
        "for n_idx in range(len(layer.nodes)):\n",
        "  print(f'////////// {layer.nodes[n_idx].question} //////////\\n')\n",
        "  for p_idx in range(len(layer.profiles)):\n",
        "    print(f'{layer.profiles[p_idx].text}')\n",
        "    choice = layer.nodes[n_idx].profile_branch_map[p_idx]\n",
        "    print(f'{layer.nodes[n_idx].branches[choice]}\\n')\n",
        "    # if choice is not None: print(f'{layer.nodes[n_idx].branches[choice]}\\n')\n",
        "    # else: print('None\\n')"
      ],
      "metadata": {
        "colab": {
          "base_uri": "https://localhost:8080/"
        },
        "id": "t0hHoh7MDv_s",
        "outputId": "8a84a50a-81d1-48ae-f7e8-a8d9ae7f0445"
      },
      "execution_count": 118,
      "outputs": [
        {
          "output_type": "stream",
          "name": "stdout",
          "text": [
            "////////// What genre of movies do you usually enjoy? //////////\n",
            "\n",
            "Sarah: Avid moviegoer who enjoys thrilling action-packed blockbusters, mind-bending sci-fi flicks, and heartwarming romantic comedies.\n",
            "Science fiction\n",
            "\n",
            "Tom: A cinephile with a penchant for classic black and white films, thought-provoking independent dramas, and critically acclaimed foreign movies.\n",
            "Drama\n",
            "\n",
            "Emily: An animation enthusiast who adores enchanting animated films, whimsical fantasy adventures, and heartwarming tales of friendship and family.\n",
            "Animation\n",
            "\n",
            "Alex: A horror aficionado who revels in spine-chilling supernatural thrillers, terrifying psychological horrors, and gory slasher movies that keep them on the edge of their seat.\n",
            "Horror\n",
            "\n",
            "Mia: A fan of heartwrenching tearjerkers, emotionally charged dramas, and thought-provoking films that explore complex human relationships and societal issues.\n",
            "Drama\n",
            "\n",
            "Jake: A lover of high-octane sports films, adrenaline-pumping racing movies, and inspiring underdog stories that showcase the triumph of the human spirit.\n",
            "Action\n",
            "\n",
            "Lily: A devotee of captivating historical dramas, epic period pieces, and intricate costume dramas that transport her to different eras and cultures.\n",
            "Drama\n",
            "\n",
            "Ethan: An ardent fan of mind-bending psychological thrillers, intricate mystery films, and complex narratives that keep him guessing until the very end.\n",
            "Thriller\n",
            "\n",
            "Olivia: A connoisseur of heartwarming feel-good movies, uplifting stories of hope and resilience, and charming romantic films that make her believe in love.\n",
            "Romance\n",
            "\n",
            "Max: A science fiction geek who indulges in futuristic dystopian films, mind-boggling time travel adventures, and captivating space operas that explore the mysteries of the universe.\n",
            "Science fiction\n",
            "\n",
            "////////// Do you prefer watching recent releases or classic films? //////////\n",
            "\n",
            "Sarah: Avid moviegoer who enjoys thrilling action-packed blockbusters, mind-bending sci-fi flicks, and heartwarming romantic comedies.\n",
            "Recent releases\n",
            "\n",
            "Tom: A cinephile with a penchant for classic black and white films, thought-provoking independent dramas, and critically acclaimed foreign movies.\n",
            "Classic films\n",
            "\n",
            "Emily: An animation enthusiast who adores enchanting animated films, whimsical fantasy adventures, and heartwarming tales of friendship and family.\n",
            "Classic films\n",
            "\n",
            "Alex: A horror aficionado who revels in spine-chilling supernatural thrillers, terrifying psychological horrors, and gory slasher movies that keep them on the edge of their seat.\n",
            "Classic films\n",
            "\n",
            "Mia: A fan of heartwrenching tearjerkers, emotionally charged dramas, and thought-provoking films that explore complex human relationships and societal issues.\n",
            "NONE OF THE ABOVE\n",
            "\n",
            "Jake: A lover of high-octane sports films, adrenaline-pumping racing movies, and inspiring underdog stories that showcase the triumph of the human spirit.\n",
            "NONE OF THE ABOVE\n",
            "\n",
            "Lily: A devotee of captivating historical dramas, epic period pieces, and intricate costume dramas that transport her to different eras and cultures.\n",
            "Classic films\n",
            "\n",
            "Ethan: An ardent fan of mind-bending psychological thrillers, intricate mystery films, and complex narratives that keep him guessing until the very end.\n",
            "Classic films\n",
            "\n",
            "Olivia: A connoisseur of heartwarming feel-good movies, uplifting stories of hope and resilience, and charming romantic films that make her believe in love.\n",
            "Classic films\n",
            "\n",
            "Max: A science fiction geek who indulges in futuristic dystopian films, mind-boggling time travel adventures, and captivating space operas that explore the mysteries of the universe.\n",
            "NONE OF THE ABOVE\n",
            "\n",
            "////////// Are you in the mood for a comedy, drama, or action movie? //////////\n",
            "\n",
            "Sarah: Avid moviegoer who enjoys thrilling action-packed blockbusters, mind-bending sci-fi flicks, and heartwarming romantic comedies.\n",
            "Action (indicating that the user specifically wants to watch an action movie)\n",
            "\n",
            "Tom: A cinephile with a penchant for classic black and white films, thought-provoking independent dramas, and critically acclaimed foreign movies.\n",
            "Drama (indicating that the user specifically wants to watch a drama)\n",
            "\n",
            "Emily: An animation enthusiast who adores enchanting animated films, whimsical fantasy adventures, and heartwarming tales of friendship and family.\n",
            "Comedy (indicating that the user specifically wants to watch a comedy)\n",
            "\n",
            "Alex: A horror aficionado who revels in spine-chilling supernatural thrillers, terrifying psychological horrors, and gory slasher movies that keep them on the edge of their seat.\n",
            "NONE OF THE ABOVE\n",
            "\n",
            "Mia: A fan of heartwrenching tearjerkers, emotionally charged dramas, and thought-provoking films that explore complex human relationships and societal issues.\n",
            "Drama (indicating that the user specifically wants to watch a drama)\n",
            "\n",
            "Jake: A lover of high-octane sports films, adrenaline-pumping racing movies, and inspiring underdog stories that showcase the triumph of the human spirit.\n",
            "Action (indicating that the user specifically wants to watch an action movie)\n",
            "\n",
            "Lily: A devotee of captivating historical dramas, epic period pieces, and intricate costume dramas that transport her to different eras and cultures.\n",
            "Drama (indicating that the user specifically wants to watch a drama)\n",
            "\n",
            "Ethan: An ardent fan of mind-bending psychological thrillers, intricate mystery films, and complex narratives that keep him guessing until the very end.\n",
            "Drama (indicating that the user specifically wants to watch a drama)\n",
            "\n",
            "Olivia: A connoisseur of heartwarming feel-good movies, uplifting stories of hope and resilience, and charming romantic films that make her believe in love.\n",
            "Comedy (indicating that the user specifically wants to watch a comedy)\n",
            "\n",
            "Max: A science fiction geek who indulges in futuristic dystopian films, mind-boggling time travel adventures, and captivating space operas that explore the mysteries of the universe.\n",
            "Comedy (indicating that the user specifically wants to watch a comedy)\n",
            "\n"
          ]
        }
      ]
    },
    {
      "cell_type": "code",
      "source": [
        "# Calculate InfoGain for each node\n",
        "layer.calcInfoGain()"
      ],
      "metadata": {
        "id": "W4RQSuQNERLM"
      },
      "execution_count": 119,
      "outputs": []
    },
    {
      "cell_type": "code",
      "source": [
        "for n in layer.nodes:\n",
        "  print(n.info_gains)\n",
        "\n",
        "print(layer.nodes[layer.best_node_idx].question)"
      ],
      "metadata": {
        "colab": {
          "base_uri": "https://localhost:8080/"
        },
        "id": "j6EZ6QCsk4Lp",
        "outputId": "2a9a4d7c-c881-4548-a312-3cda91fdc72b"
      },
      "execution_count": 120,
      "outputs": [
        {
          "output_type": "stream",
          "name": "stdout",
          "text": [
            "2.6464393446710153\n",
            "1.295461844238322\n",
            "1.8464393446710152\n",
            "What genre of movies do you usually enjoy?\n"
          ]
        }
      ]
    },
    {
      "cell_type": "markdown",
      "source": [
        "Repeat for a round here -------------------------------------------------"
      ],
      "metadata": {
        "id": "YCECkV_JN6zG"
      }
    },
    {
      "cell_type": "code",
      "source": [
        "# Real Profile answers question\n",
        "ans = real_profile.answerQ(real_profile, layer.nodes[layer.best_node_idx].question)\n",
        "ans"
      ],
      "metadata": {
        "colab": {
          "base_uri": "https://localhost:8080/",
          "height": 35
        },
        "id": "Hra2eNaGXebO",
        "outputId": "419be269-e5e1-410a-892b-400802196401"
      },
      "execution_count": 171,
      "outputs": [
        {
          "output_type": "execute_result",
          "data": {
            "text/plain": [
              "\"As long as it has high-octane action, I'm open to watching a foreign superhero film.\""
            ],
            "application/vnd.google.colaboratory.intrinsic+json": {
              "type": "string"
            }
          },
          "metadata": {},
          "execution_count": 171
        }
      ]
    },
    {
      "cell_type": "code",
      "source": [
        "# creating the context of the next layer\n",
        "next_context = copy.deepcopy(layer.context)\n",
        "appendContext(layer.nodes[layer.best_node_idx].question, next_context, 'assistant')\n",
        "appendContext(ans, next_context, 'user')\n",
        "pprint.pprint(next_context)\n",
        "\n",
        "# creating the next layer\n",
        "layer.next = Layer(next_context)\n",
        "layer.next.prev = layer\n",
        "\n",
        "# setting layer to be layer.next\n",
        "layer = layer.next"
      ],
      "metadata": {
        "colab": {
          "base_uri": "https://localhost:8080/"
        },
        "id": "ouPdz__ZLgqm",
        "outputId": "0bd807e7-2730-4d21-e1cc-8ae8bbb86367"
      },
      "execution_count": 172,
      "outputs": [
        {
          "output_type": "stream",
          "name": "stdout",
          "text": [
            "[{'content': 'I want to watch a movie, but I do not know what. Help me by '\n",
            "             'asking me a question at a time.',\n",
            "  'role': 'user'},\n",
            " {'content': 'What genre of movies do you usually enjoy?', 'role': 'assistant'},\n",
            " {'content': 'I love action movies.', 'role': 'user'},\n",
            " {'content': 'Are you in the mood for a fast-paced action film or something '\n",
            "             'more suspenseful?',\n",
            "  'role': 'assistant'},\n",
            " {'content': 'Definitely in the mood for a fast-paced action film.',\n",
            "  'role': 'user'},\n",
            " {'content': 'Would you like the action movie to have a comedic element or be '\n",
            "             'more serious in tone?',\n",
            "  'role': 'assistant'},\n",
            " {'content': 'Definitely more serious in tone.', 'role': 'user'},\n",
            " {'content': 'Are you interested in watching a superhero action movie or '\n",
            "             'something more grounded in reality?',\n",
            "  'role': 'assistant'},\n",
            " {'content': 'Definitely a superhero action movie.', 'role': 'user'},\n",
            " {'content': 'Are you open to watching a foreign superhero film or do you '\n",
            "             'prefer English-language movies?',\n",
            "  'role': 'assistant'},\n",
            " {'content': \"As long as it has high-octane action, I'm open to watching a \"\n",
            "             'foreign superhero film.',\n",
            "  'role': 'user'}]\n"
          ]
        }
      ]
    },
    {
      "cell_type": "code",
      "source": [
        "# see if it gives a suggestion\n",
        "pprint.pprint(layer.context[:])\n",
        "text = generateText(layer.context[:])\n",
        "print(text + '\\n')\n",
        "\n",
        "continue_bool_context = copy.deepcopy(layer.context[:]) + [{'content': text, 'role': 'assistant'}]\n",
        "continue_bool = continueConvBool(continue_bool_context)\n",
        "print(str(continue_bool) + '\\n')\n",
        "\n",
        " # if it gives a suggestion, see if the real profile likes it\n",
        "if not continue_bool: print(real_profile.answerQ(real_profile, text))"
      ],
      "metadata": {
        "colab": {
          "base_uri": "https://localhost:8080/"
        },
        "id": "4IM41vO8ONh2",
        "outputId": "72dbc284-a21a-4b6f-8d78-1dee72fb2664"
      },
      "execution_count": 173,
      "outputs": [
        {
          "output_type": "stream",
          "name": "stdout",
          "text": [
            "[{'content': 'I want to watch a movie, but I do not know what. Help me by '\n",
            "             'asking me a question at a time.',\n",
            "  'role': 'user'},\n",
            " {'content': 'What genre of movies do you usually enjoy?', 'role': 'assistant'},\n",
            " {'content': 'I love action movies.', 'role': 'user'},\n",
            " {'content': 'Are you in the mood for a fast-paced action film or something '\n",
            "             'more suspenseful?',\n",
            "  'role': 'assistant'},\n",
            " {'content': 'Definitely in the mood for a fast-paced action film.',\n",
            "  'role': 'user'},\n",
            " {'content': 'Would you like the action movie to have a comedic element or be '\n",
            "             'more serious in tone?',\n",
            "  'role': 'assistant'},\n",
            " {'content': 'Definitely more serious in tone.', 'role': 'user'},\n",
            " {'content': 'Are you interested in watching a superhero action movie or '\n",
            "             'something more grounded in reality?',\n",
            "  'role': 'assistant'},\n",
            " {'content': 'Definitely a superhero action movie.', 'role': 'user'},\n",
            " {'content': 'Are you open to watching a foreign superhero film or do you '\n",
            "             'prefer English-language movies?',\n",
            "  'role': 'assistant'},\n",
            " {'content': \"As long as it has high-octane action, I'm open to watching a \"\n",
            "             'foreign superhero film.',\n",
            "  'role': 'user'}]\n",
            "Great! In that case, I recommend watching the South Korean superhero film \"The Man from Nowhere\" (2010). It's a thrilling action-packed movie about a former special agent who embarks on a dangerous mission to save a young girl from a ruthless criminal organization. The film features intense fight sequences and a gripping storyline. Enjoy!\n",
            "\n",
            "False\n",
            "\n",
            "Sounds awesome! I love a good thriller. Can't wait to see the intense fight scenes. Thanks for the recommendation!\n"
          ]
        }
      ]
    },
    {
      "cell_type": "code",
      "source": [
        "# creating nodes in new layer, hence possible questions\n",
        "layer.makeNodes()\n",
        "[n.question for n in layer.nodes]"
      ],
      "metadata": {
        "colab": {
          "base_uri": "https://localhost:8080/"
        },
        "id": "faB-_f4qPRK-",
        "outputId": "d3c0a10d-ae1a-4f4d-fe86-8aa91b331ace"
      },
      "execution_count": 163,
      "outputs": [
        {
          "output_type": "execute_result",
          "data": {
            "text/plain": [
              "['Do you have a specific superhero in mind or are you open to any?',\n",
              " 'Would you prefer a standalone superhero film or one that is part of a larger cinematic universe?',\n",
              " 'Are you looking for a recent release or a classic superhero movie?',\n",
              " 'Are there any particular actors or actresses you enjoy watching in action films?',\n",
              " 'How important is the storyline and character development compared to the action sequences for you?',\n",
              " 'Would you like the movie to have a darker and grittier tone or a more light-hearted and optimistic tone?',\n",
              " 'Are you interested in a superhero origin story or a film that focuses on a heros battle against a specific villain?',\n",
              " 'How long of a runtime are you comfortable with for the movie?',\n",
              " 'Are you open to watching a foreign superhero film or do you prefer English-language movies?',\n",
              " 'Is there a specific director or film franchise that you are a fan of within the superhero genre?']"
            ]
          },
          "metadata": {},
          "execution_count": 163
        }
      ]
    },
    {
      "cell_type": "code",
      "source": [
        "# creating the branches for each of the nodes (without using profiles)\n",
        "layer.makeBranches()\n",
        "pprint.pprint([n.branches for n in layer.nodes])"
      ],
      "metadata": {
        "id": "efXdnRhuRWja",
        "colab": {
          "base_uri": "https://localhost:8080/"
        },
        "outputId": "89cc9867-1b4c-436a-e238-58c11891960f"
      },
      "execution_count": 164,
      "outputs": [
        {
          "output_type": "stream",
          "name": "stdout",
          "text": [
            "[0, 1, 2, 3, 4, 5, 6, 7, 8, 9]\n",
            "[['Yes, I have a specific superhero in mind.',\n",
            "  'No, I am open to any superhero.'],\n",
            " ['Standalone superhero film.',\n",
            "  'Cinematic universe.',\n",
            "  'It depends on the specific superhero and storyline.'],\n",
            " ['Recent release', 'Classic superhero movie'],\n",
            " ['Yes',\n",
            "  'No',\n",
            "  'I do not watch action films',\n",
            "  'I enjoy watching various actors and actresses in action films'],\n",
            " ['The storyline and character development are highly important, and I value '\n",
            "  'them more than the action sequences.',\n",
            "  'Both the storyline/character development and action sequences are equally '\n",
            "  'important to me.',\n",
            "  'I prioritize the action sequences over the storyline and character '\n",
            "  'development.',\n",
            "  'I dont have a preference or opinion on this matter.'],\n",
            " ['Darker and grittier tone', 'Light-hearted and optimistic tone'],\n",
            " ['Origin story', 'Battle against a specific villain'],\n",
            " ['90 minutes', '2 hours', '3 hours'],\n",
            " ['Yes, I am open to watching a foreign superhero film.',\n",
            "  'No, I prefer English-language movies.',\n",
            "  'I dont have a preference, I enjoy both foreign and English-language movies.',\n",
            "  'It depends on the specific film and its reviews.',\n",
            "  'Im not sure, I havent watched any foreign superhero films before.'],\n",
            " ['No, I am not a fan of any specific director or film franchise.',\n",
            "  'Yes, I am a fan of Christopher Nolans Batman trilogy.',\n",
            "  'Yes, I am a fan of the Marvel Cinematic Universe and enjoy films directed '\n",
            "  'by various directors within the franchise.',\n",
            "  'Yes, I am a fan of the X-Men film franchise directed by Bryan Singer.',\n",
            "  'Yes, I am a fan of the Spider-Man films directed by Sam Raimi.']]\n"
          ]
        }
      ]
    },
    {
      "cell_type": "code",
      "source": [
        "# extracting the most recent preference discovered\n",
        "if layer.prev: layer.known_preferences = layer.prev.known_preferences\n",
        "\n",
        "layer.extractLastPreference()\n",
        "layer.known_preferences"
      ],
      "metadata": {
        "colab": {
          "base_uri": "https://localhost:8080/"
        },
        "id": "ELmP6ngVTEEg",
        "outputId": "49130c27-1246-4924-f6d2-df263a4ebaaf"
      },
      "execution_count": 165,
      "outputs": [
        {
          "output_type": "execute_result",
          "data": {
            "text/plain": [
              "['The user enjoys action movies.',\n",
              " 'The user prefers fast-paced action films over suspenseful ones.',\n",
              " 'The user prefers action movies that have a serious tone rather than a comedic element.',\n",
              " 'The user prefers watching superhero action movies over movies grounded in reality.']"
            ]
          },
          "metadata": {},
          "execution_count": 165
        }
      ]
    },
    {
      "cell_type": "code",
      "source": [
        "# generate u profiles\n",
        "layer.makeUProfiles(10)\n",
        "for p_idx in range(len(layer.profiles)): print(f'{p_idx} : {layer.profiles[p_idx].text}\\n')\n"
      ],
      "metadata": {
        "colab": {
          "base_uri": "https://localhost:8080/"
        },
        "id": "q6Etb6NX3l2D",
        "outputId": "4cfc77b0-09c3-47e7-af4c-b7be3e9a9683"
      },
      "execution_count": 166,
      "outputs": [
        {
          "output_type": "stream",
          "name": "stdout",
          "text": [
            "('Here is a sentence describing the known preferences of a user: User prefers '\n",
            " 'fast-paced, serious, superhero action movies.\\n'\n",
            " 'Create 10 different versions of this sentence, where you add many new extra '\n",
            " 'preferences regarding movies that the user might have. Each sentence should '\n",
            " 'have the following structure,\"known preferences + their own imagined '\n",
            " 'preferences\". Make sure the extra imagined preferences you add to each '\n",
            " 'version are (1) compatible with the known preferences of the user and (2) '\n",
            " 'are different from the imagined preferences from the other versions:')\n",
            "0 : The user prefers fast-paced, serious, superhero action movies and also enjoys intense chase scenes and thrilling plot twists.\n",
            "\n",
            "1 : Users known preferences include fast-paced, serious, superhero action movies, but they also have a soft spot for visually stunning cinematography and complex character development.\n",
            "\n",
            "2 : Apart from their love for fast-paced, serious, superhero action movies, the user also appreciates movies with thought-provoking dialogues and deep philosophical themes.\n",
            "\n",
            "3 : In addition to their preference for fast-paced, serious, superhero action movies, the user has a fondness for movies that explore the concept of time travel and alternate realities.\n",
            "\n",
            "4 : Along with their passion for fast-paced, serious, superhero action movies, the user thoroughly enjoys movies with mind-bending plot twists and unexpected endings.\n",
            "\n",
            "5 : The users known preferences include fast-paced, serious, superhero action movies, but they also have a penchant for movies featuring strong female leads and empowering storylines.\n",
            "\n",
            "6 : The user not only loves fast-paced, serious, superhero action movies but also finds joy in movies with epic battle sequences and jaw-dropping special effects.\n",
            "\n",
            "7 : In addition to their preference for fast-paced, serious, superhero action movies, the user has an affinity for movies set in dystopian futures and exploring themes of societal collapse.\n",
            "\n",
            "8 : The users known preferences include fast-paced, serious, superhero action movies, but they also have an admiration for movies that delve into the complexities of human psychology and behavior.\n",
            "\n",
            "9 : Alongside their love for fast-paced, serious, superhero action movies, the user also enjoys movies with witty and clever dialogues, adding an element of humor to the intense action.\n",
            "\n"
          ]
        }
      ]
    },
    {
      "cell_type": "code",
      "source": [
        "# split the profiles\n",
        "layer.splitProfiles()\n",
        "print()\n",
        "for n in layer.nodes: print(n.profile_branch_map)"
      ],
      "metadata": {
        "colab": {
          "base_uri": "https://localhost:8080/"
        },
        "id": "kyOFOow936Mo",
        "outputId": "c1c149fb-7fc5-4157-edc2-eecbbf68d91c"
      },
      "execution_count": 168,
      "outputs": [
        {
          "output_type": "stream",
          "name": "stdout",
          "text": [
            "[0, 1, 2, 3, 4, 5, 6, 7, 8, 9]\n",
            "[0, 1, 2, 3, 4, 5, 6, 7, 8, 9]\n",
            "[0, 1, 2, 3, 4, 5, 6, 7, 8, 9]\n",
            "[0, 1, 2, 3, 4, 5, 6, 7, 8, 9]\n",
            "[0, 1, 2, 3, 4, 5, 6, 7, 8, 9]\n",
            "[0, 1, 2, 3, 4, 5, 6, 7, 8, 9]\n",
            "[0, 1, 2, 3, 4, 5, 6, 7, 8, 9]\n",
            "[0, 1, 2, 3, 4, 5, 6, 7, 8, 9]\n",
            "[0, 1, 2, 3, 4, 5, 6, 7, 8, 9]\n",
            "[0, 1, 2, 3, 4, 5, 6, 7, 8, 9]\n",
            "\n",
            "[0, 2, 1, 1, 1, 1, 1, 2, 1, 1]\n",
            "[1, 2, 2, 2, 1, 1, 1, 1, 2, 1]\n",
            "[0, 0, 2, 0, 0, 0, 0, 0, 0, 0]\n",
            "[3, 3, 3, 3, 3, 3, 3, 3, 3, 3]\n",
            "[4, 0, 0, 0, 0, 0, 1, 0, 0, 1]\n",
            "[0, 0, 2, 0, 0, 1, 1, 0, 0, 1]\n",
            "[1, 1, 2, 1, 1, 1, 1, 1, -1, 1]\n",
            "[1, 1, 3, 1, 1, 3, 1, 1, 1, 1]\n",
            "[3, 3, 2, 2, 2, 0, 0, 0, 3, 3]\n",
            "[2, 2, 2, 2, 2, 2, 2, 2, 2, 2]\n"
          ]
        }
      ]
    },
    {
      "cell_type": "code",
      "source": [
        "for n_idx in range(len(layer.nodes)):\n",
        "  print(f'////////// {layer.nodes[n_idx].question} //////////\\n')\n",
        "  for p_idx in range(len(layer.profiles)):\n",
        "    print(f'{layer.profiles[p_idx].text}')\n",
        "    choice = layer.nodes[n_idx].profile_branch_map[p_idx]\n",
        "    print(f'{layer.nodes[n_idx].branches[choice]}\\n')\n",
        "    # if choice is not None: print(f'{layer.nodes[n_idx].branches[choice]}\\n')\n",
        "    # else: print('None\\n')"
      ],
      "metadata": {
        "colab": {
          "base_uri": "https://localhost:8080/"
        },
        "id": "6Q8siXZB4GE6",
        "outputId": "15469073-043c-4350-b9ef-3906d0c53dd8"
      },
      "execution_count": 169,
      "outputs": [
        {
          "output_type": "stream",
          "name": "stdout",
          "text": [
            "////////// Do you have a specific superhero in mind or are you open to any? //////////\n",
            "\n",
            "The user prefers fast-paced, serious, superhero action movies and also enjoys intense chase scenes and thrilling plot twists.\n",
            "Yes, I have a specific superhero in mind.\n",
            "\n",
            "Users known preferences include fast-paced, serious, superhero action movies, but they also have a soft spot for visually stunning cinematography and complex character development.\n",
            "NONE OF THE ABOVE\n",
            "\n",
            "Apart from their love for fast-paced, serious, superhero action movies, the user also appreciates movies with thought-provoking dialogues and deep philosophical themes.\n",
            "No, I am open to any superhero.\n",
            "\n",
            "In addition to their preference for fast-paced, serious, superhero action movies, the user has a fondness for movies that explore the concept of time travel and alternate realities.\n",
            "No, I am open to any superhero.\n",
            "\n",
            "Along with their passion for fast-paced, serious, superhero action movies, the user thoroughly enjoys movies with mind-bending plot twists and unexpected endings.\n",
            "No, I am open to any superhero.\n",
            "\n",
            "The users known preferences include fast-paced, serious, superhero action movies, but they also have a penchant for movies featuring strong female leads and empowering storylines.\n",
            "No, I am open to any superhero.\n",
            "\n",
            "The user not only loves fast-paced, serious, superhero action movies but also finds joy in movies with epic battle sequences and jaw-dropping special effects.\n",
            "No, I am open to any superhero.\n",
            "\n",
            "In addition to their preference for fast-paced, serious, superhero action movies, the user has an affinity for movies set in dystopian futures and exploring themes of societal collapse.\n",
            "NONE OF THE ABOVE\n",
            "\n",
            "The users known preferences include fast-paced, serious, superhero action movies, but they also have an admiration for movies that delve into the complexities of human psychology and behavior.\n",
            "No, I am open to any superhero.\n",
            "\n",
            "Alongside their love for fast-paced, serious, superhero action movies, the user also enjoys movies with witty and clever dialogues, adding an element of humor to the intense action.\n",
            "No, I am open to any superhero.\n",
            "\n",
            "////////// Would you prefer a standalone superhero film or one that is part of a larger cinematic universe? //////////\n",
            "\n",
            "The user prefers fast-paced, serious, superhero action movies and also enjoys intense chase scenes and thrilling plot twists.\n",
            "Cinematic universe.\n",
            "\n",
            "Users known preferences include fast-paced, serious, superhero action movies, but they also have a soft spot for visually stunning cinematography and complex character development.\n",
            "It depends on the specific superhero and storyline.\n",
            "\n",
            "Apart from their love for fast-paced, serious, superhero action movies, the user also appreciates movies with thought-provoking dialogues and deep philosophical themes.\n",
            "It depends on the specific superhero and storyline.\n",
            "\n",
            "In addition to their preference for fast-paced, serious, superhero action movies, the user has a fondness for movies that explore the concept of time travel and alternate realities.\n",
            "It depends on the specific superhero and storyline.\n",
            "\n",
            "Along with their passion for fast-paced, serious, superhero action movies, the user thoroughly enjoys movies with mind-bending plot twists and unexpected endings.\n",
            "Cinematic universe.\n",
            "\n",
            "The users known preferences include fast-paced, serious, superhero action movies, but they also have a penchant for movies featuring strong female leads and empowering storylines.\n",
            "Cinematic universe.\n",
            "\n",
            "The user not only loves fast-paced, serious, superhero action movies but also finds joy in movies with epic battle sequences and jaw-dropping special effects.\n",
            "Cinematic universe.\n",
            "\n",
            "In addition to their preference for fast-paced, serious, superhero action movies, the user has an affinity for movies set in dystopian futures and exploring themes of societal collapse.\n",
            "Cinematic universe.\n",
            "\n",
            "The users known preferences include fast-paced, serious, superhero action movies, but they also have an admiration for movies that delve into the complexities of human psychology and behavior.\n",
            "It depends on the specific superhero and storyline.\n",
            "\n",
            "Alongside their love for fast-paced, serious, superhero action movies, the user also enjoys movies with witty and clever dialogues, adding an element of humor to the intense action.\n",
            "Cinematic universe.\n",
            "\n",
            "////////// Are you looking for a recent release or a classic superhero movie? //////////\n",
            "\n",
            "The user prefers fast-paced, serious, superhero action movies and also enjoys intense chase scenes and thrilling plot twists.\n",
            "Recent release\n",
            "\n",
            "Users known preferences include fast-paced, serious, superhero action movies, but they also have a soft spot for visually stunning cinematography and complex character development.\n",
            "Recent release\n",
            "\n",
            "Apart from their love for fast-paced, serious, superhero action movies, the user also appreciates movies with thought-provoking dialogues and deep philosophical themes.\n",
            "NONE OF THE ABOVE\n",
            "\n",
            "In addition to their preference for fast-paced, serious, superhero action movies, the user has a fondness for movies that explore the concept of time travel and alternate realities.\n",
            "Recent release\n",
            "\n",
            "Along with their passion for fast-paced, serious, superhero action movies, the user thoroughly enjoys movies with mind-bending plot twists and unexpected endings.\n",
            "Recent release\n",
            "\n",
            "The users known preferences include fast-paced, serious, superhero action movies, but they also have a penchant for movies featuring strong female leads and empowering storylines.\n",
            "Recent release\n",
            "\n",
            "The user not only loves fast-paced, serious, superhero action movies but also finds joy in movies with epic battle sequences and jaw-dropping special effects.\n",
            "Recent release\n",
            "\n",
            "In addition to their preference for fast-paced, serious, superhero action movies, the user has an affinity for movies set in dystopian futures and exploring themes of societal collapse.\n",
            "Recent release\n",
            "\n",
            "The users known preferences include fast-paced, serious, superhero action movies, but they also have an admiration for movies that delve into the complexities of human psychology and behavior.\n",
            "Recent release\n",
            "\n",
            "Alongside their love for fast-paced, serious, superhero action movies, the user also enjoys movies with witty and clever dialogues, adding an element of humor to the intense action.\n",
            "Recent release\n",
            "\n",
            "////////// Are there any particular actors or actresses you enjoy watching in action films? //////////\n",
            "\n",
            "The user prefers fast-paced, serious, superhero action movies and also enjoys intense chase scenes and thrilling plot twists.\n",
            "I enjoy watching various actors and actresses in action films\n",
            "\n",
            "Users known preferences include fast-paced, serious, superhero action movies, but they also have a soft spot for visually stunning cinematography and complex character development.\n",
            "I enjoy watching various actors and actresses in action films\n",
            "\n",
            "Apart from their love for fast-paced, serious, superhero action movies, the user also appreciates movies with thought-provoking dialogues and deep philosophical themes.\n",
            "I enjoy watching various actors and actresses in action films\n",
            "\n",
            "In addition to their preference for fast-paced, serious, superhero action movies, the user has a fondness for movies that explore the concept of time travel and alternate realities.\n",
            "I enjoy watching various actors and actresses in action films\n",
            "\n",
            "Along with their passion for fast-paced, serious, superhero action movies, the user thoroughly enjoys movies with mind-bending plot twists and unexpected endings.\n",
            "I enjoy watching various actors and actresses in action films\n",
            "\n",
            "The users known preferences include fast-paced, serious, superhero action movies, but they also have a penchant for movies featuring strong female leads and empowering storylines.\n",
            "I enjoy watching various actors and actresses in action films\n",
            "\n",
            "The user not only loves fast-paced, serious, superhero action movies but also finds joy in movies with epic battle sequences and jaw-dropping special effects.\n",
            "I enjoy watching various actors and actresses in action films\n",
            "\n",
            "In addition to their preference for fast-paced, serious, superhero action movies, the user has an affinity for movies set in dystopian futures and exploring themes of societal collapse.\n",
            "I enjoy watching various actors and actresses in action films\n",
            "\n",
            "The users known preferences include fast-paced, serious, superhero action movies, but they also have an admiration for movies that delve into the complexities of human psychology and behavior.\n",
            "I enjoy watching various actors and actresses in action films\n",
            "\n",
            "Alongside their love for fast-paced, serious, superhero action movies, the user also enjoys movies with witty and clever dialogues, adding an element of humor to the intense action.\n",
            "I enjoy watching various actors and actresses in action films\n",
            "\n",
            "////////// How important is the storyline and character development compared to the action sequences for you? //////////\n",
            "\n",
            "The user prefers fast-paced, serious, superhero action movies and also enjoys intense chase scenes and thrilling plot twists.\n",
            "NONE OF THE ABOVE\n",
            "\n",
            "Users known preferences include fast-paced, serious, superhero action movies, but they also have a soft spot for visually stunning cinematography and complex character development.\n",
            "The storyline and character development are highly important, and I value them more than the action sequences.\n",
            "\n",
            "Apart from their love for fast-paced, serious, superhero action movies, the user also appreciates movies with thought-provoking dialogues and deep philosophical themes.\n",
            "The storyline and character development are highly important, and I value them more than the action sequences.\n",
            "\n",
            "In addition to their preference for fast-paced, serious, superhero action movies, the user has a fondness for movies that explore the concept of time travel and alternate realities.\n",
            "The storyline and character development are highly important, and I value them more than the action sequences.\n",
            "\n",
            "Along with their passion for fast-paced, serious, superhero action movies, the user thoroughly enjoys movies with mind-bending plot twists and unexpected endings.\n",
            "The storyline and character development are highly important, and I value them more than the action sequences.\n",
            "\n",
            "The users known preferences include fast-paced, serious, superhero action movies, but they also have a penchant for movies featuring strong female leads and empowering storylines.\n",
            "The storyline and character development are highly important, and I value them more than the action sequences.\n",
            "\n",
            "The user not only loves fast-paced, serious, superhero action movies but also finds joy in movies with epic battle sequences and jaw-dropping special effects.\n",
            "Both the storyline/character development and action sequences are equally important to me.\n",
            "\n",
            "In addition to their preference for fast-paced, serious, superhero action movies, the user has an affinity for movies set in dystopian futures and exploring themes of societal collapse.\n",
            "The storyline and character development are highly important, and I value them more than the action sequences.\n",
            "\n",
            "The users known preferences include fast-paced, serious, superhero action movies, but they also have an admiration for movies that delve into the complexities of human psychology and behavior.\n",
            "The storyline and character development are highly important, and I value them more than the action sequences.\n",
            "\n",
            "Alongside their love for fast-paced, serious, superhero action movies, the user also enjoys movies with witty and clever dialogues, adding an element of humor to the intense action.\n",
            "Both the storyline/character development and action sequences are equally important to me.\n",
            "\n",
            "////////// Would you like the movie to have a darker and grittier tone or a more light-hearted and optimistic tone? //////////\n",
            "\n",
            "The user prefers fast-paced, serious, superhero action movies and also enjoys intense chase scenes and thrilling plot twists.\n",
            "Darker and grittier tone\n",
            "\n",
            "Users known preferences include fast-paced, serious, superhero action movies, but they also have a soft spot for visually stunning cinematography and complex character development.\n",
            "Darker and grittier tone\n",
            "\n",
            "Apart from their love for fast-paced, serious, superhero action movies, the user also appreciates movies with thought-provoking dialogues and deep philosophical themes.\n",
            "NONE OF THE ABOVE\n",
            "\n",
            "In addition to their preference for fast-paced, serious, superhero action movies, the user has a fondness for movies that explore the concept of time travel and alternate realities.\n",
            "Darker and grittier tone\n",
            "\n",
            "Along with their passion for fast-paced, serious, superhero action movies, the user thoroughly enjoys movies with mind-bending plot twists and unexpected endings.\n",
            "Darker and grittier tone\n",
            "\n",
            "The users known preferences include fast-paced, serious, superhero action movies, but they also have a penchant for movies featuring strong female leads and empowering storylines.\n",
            "Light-hearted and optimistic tone\n",
            "\n",
            "The user not only loves fast-paced, serious, superhero action movies but also finds joy in movies with epic battle sequences and jaw-dropping special effects.\n",
            "Light-hearted and optimistic tone\n",
            "\n",
            "In addition to their preference for fast-paced, serious, superhero action movies, the user has an affinity for movies set in dystopian futures and exploring themes of societal collapse.\n",
            "Darker and grittier tone\n",
            "\n",
            "The users known preferences include fast-paced, serious, superhero action movies, but they also have an admiration for movies that delve into the complexities of human psychology and behavior.\n",
            "Darker and grittier tone\n",
            "\n",
            "Alongside their love for fast-paced, serious, superhero action movies, the user also enjoys movies with witty and clever dialogues, adding an element of humor to the intense action.\n",
            "Light-hearted and optimistic tone\n",
            "\n",
            "////////// Are you interested in a superhero origin story or a film that focuses on a heros battle against a specific villain? //////////\n",
            "\n",
            "The user prefers fast-paced, serious, superhero action movies and also enjoys intense chase scenes and thrilling plot twists.\n",
            "Battle against a specific villain\n",
            "\n",
            "Users known preferences include fast-paced, serious, superhero action movies, but they also have a soft spot for visually stunning cinematography and complex character development.\n",
            "Battle against a specific villain\n",
            "\n",
            "Apart from their love for fast-paced, serious, superhero action movies, the user also appreciates movies with thought-provoking dialogues and deep philosophical themes.\n",
            "NONE OF THE ABOVE\n",
            "\n",
            "In addition to their preference for fast-paced, serious, superhero action movies, the user has a fondness for movies that explore the concept of time travel and alternate realities.\n",
            "Battle against a specific villain\n",
            "\n",
            "Along with their passion for fast-paced, serious, superhero action movies, the user thoroughly enjoys movies with mind-bending plot twists and unexpected endings.\n",
            "Battle against a specific villain\n",
            "\n",
            "The users known preferences include fast-paced, serious, superhero action movies, but they also have a penchant for movies featuring strong female leads and empowering storylines.\n",
            "Battle against a specific villain\n",
            "\n",
            "The user not only loves fast-paced, serious, superhero action movies but also finds joy in movies with epic battle sequences and jaw-dropping special effects.\n",
            "Battle against a specific villain\n",
            "\n",
            "In addition to their preference for fast-paced, serious, superhero action movies, the user has an affinity for movies set in dystopian futures and exploring themes of societal collapse.\n",
            "Battle against a specific villain\n",
            "\n",
            "The users known preferences include fast-paced, serious, superhero action movies, but they also have an admiration for movies that delve into the complexities of human psychology and behavior.\n",
            "NONE OF THE ABOVE\n",
            "\n",
            "Alongside their love for fast-paced, serious, superhero action movies, the user also enjoys movies with witty and clever dialogues, adding an element of humor to the intense action.\n",
            "Battle against a specific villain\n",
            "\n",
            "////////// How long of a runtime are you comfortable with for the movie? //////////\n",
            "\n",
            "The user prefers fast-paced, serious, superhero action movies and also enjoys intense chase scenes and thrilling plot twists.\n",
            "2 hours\n",
            "\n",
            "Users known preferences include fast-paced, serious, superhero action movies, but they also have a soft spot for visually stunning cinematography and complex character development.\n",
            "2 hours\n",
            "\n",
            "Apart from their love for fast-paced, serious, superhero action movies, the user also appreciates movies with thought-provoking dialogues and deep philosophical themes.\n",
            "NONE OF THE ABOVE\n",
            "\n",
            "In addition to their preference for fast-paced, serious, superhero action movies, the user has a fondness for movies that explore the concept of time travel and alternate realities.\n",
            "2 hours\n",
            "\n",
            "Along with their passion for fast-paced, serious, superhero action movies, the user thoroughly enjoys movies with mind-bending plot twists and unexpected endings.\n",
            "2 hours\n",
            "\n",
            "The users known preferences include fast-paced, serious, superhero action movies, but they also have a penchant for movies featuring strong female leads and empowering storylines.\n",
            "NONE OF THE ABOVE\n",
            "\n",
            "The user not only loves fast-paced, serious, superhero action movies but also finds joy in movies with epic battle sequences and jaw-dropping special effects.\n",
            "2 hours\n",
            "\n",
            "In addition to their preference for fast-paced, serious, superhero action movies, the user has an affinity for movies set in dystopian futures and exploring themes of societal collapse.\n",
            "2 hours\n",
            "\n",
            "The users known preferences include fast-paced, serious, superhero action movies, but they also have an admiration for movies that delve into the complexities of human psychology and behavior.\n",
            "2 hours\n",
            "\n",
            "Alongside their love for fast-paced, serious, superhero action movies, the user also enjoys movies with witty and clever dialogues, adding an element of humor to the intense action.\n",
            "2 hours\n",
            "\n",
            "////////// Are you open to watching a foreign superhero film or do you prefer English-language movies? //////////\n",
            "\n",
            "The user prefers fast-paced, serious, superhero action movies and also enjoys intense chase scenes and thrilling plot twists.\n",
            "It depends on the specific film and its reviews.\n",
            "\n",
            "Users known preferences include fast-paced, serious, superhero action movies, but they also have a soft spot for visually stunning cinematography and complex character development.\n",
            "It depends on the specific film and its reviews.\n",
            "\n",
            "Apart from their love for fast-paced, serious, superhero action movies, the user also appreciates movies with thought-provoking dialogues and deep philosophical themes.\n",
            "I dont have a preference, I enjoy both foreign and English-language movies.\n",
            "\n",
            "In addition to their preference for fast-paced, serious, superhero action movies, the user has a fondness for movies that explore the concept of time travel and alternate realities.\n",
            "I dont have a preference, I enjoy both foreign and English-language movies.\n",
            "\n",
            "Along with their passion for fast-paced, serious, superhero action movies, the user thoroughly enjoys movies with mind-bending plot twists and unexpected endings.\n",
            "I dont have a preference, I enjoy both foreign and English-language movies.\n",
            "\n",
            "The users known preferences include fast-paced, serious, superhero action movies, but they also have a penchant for movies featuring strong female leads and empowering storylines.\n",
            "Yes, I am open to watching a foreign superhero film.\n",
            "\n",
            "The user not only loves fast-paced, serious, superhero action movies but also finds joy in movies with epic battle sequences and jaw-dropping special effects.\n",
            "Yes, I am open to watching a foreign superhero film.\n",
            "\n",
            "In addition to their preference for fast-paced, serious, superhero action movies, the user has an affinity for movies set in dystopian futures and exploring themes of societal collapse.\n",
            "Yes, I am open to watching a foreign superhero film.\n",
            "\n",
            "The users known preferences include fast-paced, serious, superhero action movies, but they also have an admiration for movies that delve into the complexities of human psychology and behavior.\n",
            "It depends on the specific film and its reviews.\n",
            "\n",
            "Alongside their love for fast-paced, serious, superhero action movies, the user also enjoys movies with witty and clever dialogues, adding an element of humor to the intense action.\n",
            "It depends on the specific film and its reviews.\n",
            "\n",
            "////////// Is there a specific director or film franchise that you are a fan of within the superhero genre? //////////\n",
            "\n",
            "The user prefers fast-paced, serious, superhero action movies and also enjoys intense chase scenes and thrilling plot twists.\n",
            "Yes, I am a fan of the Marvel Cinematic Universe and enjoy films directed by various directors within the franchise.\n",
            "\n",
            "Users known preferences include fast-paced, serious, superhero action movies, but they also have a soft spot for visually stunning cinematography and complex character development.\n",
            "Yes, I am a fan of the Marvel Cinematic Universe and enjoy films directed by various directors within the franchise.\n",
            "\n",
            "Apart from their love for fast-paced, serious, superhero action movies, the user also appreciates movies with thought-provoking dialogues and deep philosophical themes.\n",
            "Yes, I am a fan of the Marvel Cinematic Universe and enjoy films directed by various directors within the franchise.\n",
            "\n",
            "In addition to their preference for fast-paced, serious, superhero action movies, the user has a fondness for movies that explore the concept of time travel and alternate realities.\n",
            "Yes, I am a fan of the Marvel Cinematic Universe and enjoy films directed by various directors within the franchise.\n",
            "\n",
            "Along with their passion for fast-paced, serious, superhero action movies, the user thoroughly enjoys movies with mind-bending plot twists and unexpected endings.\n",
            "Yes, I am a fan of the Marvel Cinematic Universe and enjoy films directed by various directors within the franchise.\n",
            "\n",
            "The users known preferences include fast-paced, serious, superhero action movies, but they also have a penchant for movies featuring strong female leads and empowering storylines.\n",
            "Yes, I am a fan of the Marvel Cinematic Universe and enjoy films directed by various directors within the franchise.\n",
            "\n",
            "The user not only loves fast-paced, serious, superhero action movies but also finds joy in movies with epic battle sequences and jaw-dropping special effects.\n",
            "Yes, I am a fan of the Marvel Cinematic Universe and enjoy films directed by various directors within the franchise.\n",
            "\n",
            "In addition to their preference for fast-paced, serious, superhero action movies, the user has an affinity for movies set in dystopian futures and exploring themes of societal collapse.\n",
            "Yes, I am a fan of the Marvel Cinematic Universe and enjoy films directed by various directors within the franchise.\n",
            "\n",
            "The users known preferences include fast-paced, serious, superhero action movies, but they also have an admiration for movies that delve into the complexities of human psychology and behavior.\n",
            "Yes, I am a fan of the Marvel Cinematic Universe and enjoy films directed by various directors within the franchise.\n",
            "\n",
            "Alongside their love for fast-paced, serious, superhero action movies, the user also enjoys movies with witty and clever dialogues, adding an element of humor to the intense action.\n",
            "Yes, I am a fan of the Marvel Cinematic Universe and enjoy films directed by various directors within the franchise.\n",
            "\n"
          ]
        }
      ]
    },
    {
      "cell_type": "code",
      "source": [
        "layer.calcInfoGain()\n",
        "\n",
        "for n in layer.nodes:\n",
        "  print(n.info_gains)\n",
        "\n",
        "print(layer.nodes[layer.best_node_idx].question)"
      ],
      "metadata": {
        "colab": {
          "base_uri": "https://localhost:8080/"
        },
        "id": "uLHQOZWP4JNT",
        "outputId": "4733efc5-8733-453b-bd85-8bf27cd0f836"
      },
      "execution_count": 170,
      "outputs": [
        {
          "output_type": "stream",
          "name": "stdout",
          "text": [
            "1.1567796494470395\n",
            "0.9709505944546684\n",
            "0.4689955935892809\n",
            "0.0\n",
            "1.1567796494470395\n",
            "1.295461844238322\n",
            "0.9219280948873618\n",
            "0.7219280948873616\n",
            "1.5709505944546684\n",
            "0.0\n",
            "Are you open to watching a foreign superhero film or do you prefer English-language movies?\n"
          ]
        }
      ]
    },
    {
      "cell_type": "markdown",
      "source": [
        "# OLD CODE"
      ],
      "metadata": {
        "id": "lsb2udidn1NM"
      }
    },
    {
      "cell_type": "code",
      "source": [
        "def choose_with_idk(options, p_idk = 0.2):\n",
        "  return random.choices([random.choice(options), \"I don't know\"], weights = [1-p_idk, p_idk], k=1)[0]"
      ],
      "metadata": {
        "id": "SOdIZFFGEca2"
      },
      "execution_count": null,
      "outputs": []
    },
    {
      "cell_type": "code",
      "source": [
        "def choose_branch(q, branches, profiles):\n",
        "  ans = []\n",
        "\n",
        "  for p in profiles:\n",
        "    prompt = f\"\"\"You are the following character: {p}\\nYou are asked the following question: {q}\\n\\nFrom the options below, which is most likely your answer to the question?\\n{list2numbered(branches)}\\nRemember, you have to pick one from the list. Only return the most likely answer, followed by the number that is the place of the answer in the list.\\nAnswer, Number:\"\"\"\n",
        "    txt = generateText([{'role': 'user', 'content': prompt}])\n",
        "    m = re.search('\\d', txt)\n",
        "    if m:\n",
        "      s = m.start()\n",
        "      e = m.end()\n",
        "      ans.append(int(txt[s:e]))\n",
        "    else: ans.append(0)\n",
        "\n",
        "\n",
        "  return ans"
      ],
      "metadata": {
        "id": "Bkkg1IiyELh9"
      },
      "execution_count": null,
      "outputs": []
    },
    {
      "cell_type": "code",
      "source": [
        "def genAnswP(profile, q):\n",
        "  prompt = f'You are a character. Here is what you know about your character: {profile}\\nYou are speaking to an assistant and you speak in brief sentences.\\nAnswer the assistant in character.\\nAssistant: {q}\\nYou:'\n",
        "  return generateText([{'role': 'user', 'content': prompt}])\n",
        "\n",
        "def genAns(q):\n",
        "  prompt = f'Here is a question:\\n\"{q}\"\\nReturn a python list with all the possible answers to the question:'\n",
        "  txt = generateText([{'role': 'user', 'content': prompt}], tries = 2)\n",
        "  return str2lst(txt)\n",
        "\n",
        "def aggregateAns(ans_lst, q = None):\n",
        "  print('aggregating')\n",
        "  ans_lst = list(dict.fromkeys(ans_lst))\n",
        "  #prompt = f'Here is a list of preferences: {ans_lst}\\nRemove all the answers that mean the same thing and return a list of unique answers:' BEST\n",
        "  # prompt = f'Here is a list of preferences: {ans_lst}\\nRemove all the answers that are too similar and return a small list of unique answers:'\n",
        "  if q:\n",
        "    #prompt = f'You will be given a python list that has possible answers to the question \"{q}\"\\nYour task is to remove all the answers that mean the same thing and return a small list of unique answers.\\nHere is the python list: {ans_lst}'\n",
        "    prompt = f'You are taking an English test.\\nHere is a question: \"{q}\"\\nHere is a python list of possible answers to the question: {ans_lst}\\nThe current python list contains answers that are worded differently, but contain the same meaning. Remove all the duplicate answers and return a python list of unique answers:'\n",
        "  else:\n",
        "    prompt = f'Here is a list of preferences: {ans_lst}\\nRemove all the answers that mean the same thing and return a list of unique answers:'\n",
        "\n",
        "  return str2lst(generateText([{'role': 'user', 'content': prompt}]))"
      ],
      "metadata": {
        "id": "ZPAfvOyd_sgv"
      },
      "execution_count": null,
      "outputs": []
    },
    {
      "cell_type": "code",
      "source": [
        "# Class representing a group of profiles\n",
        "class ProfileGroup:\n",
        "  def __init__(self, preference_lst = None):\n",
        "    self.preference_lst = preference_lst\n",
        "    self.profiles = []\n",
        "    # if preference_lst:\n",
        "    #   self.profiles = self.makeYProfiles()\n",
        "    #   self.pType = ProfileType.Y\n",
        "    # else:\n",
        "    #   self.profiles = self.makeUProfiles()\n",
        "    #   self.pType = ProfileType.U\n",
        "    return\n",
        "\n",
        "  # each profile answers question q, returns list of strings\n",
        "  def answerQ(self, q):\n",
        "    return multiThread(Profile.answerQ, [[p, self.q] for p in self.profiles])\n",
        "\n",
        "  # each profile picks branch that is best fit, returns list of int\n",
        "  def pickBranch(self, node):\n",
        "    return multiThread(Profile.pickBranch, [[p, node] for p in self.profiles])\n",
        "\n",
        "  def makeUProfiles(self, prof_num):\n",
        "    prompt = f'Generate {prof_num} different profiles. Each profile should be one sentence containing a sequence of keywords about their preferences regarding traveling.'\n",
        "    txt = generateText([{'role': 'user', 'content': prompt}], tries = 2)\n",
        "    self.profiles.extend(str2lst(txt))\n",
        "    return\n",
        "\n",
        "  def makeYProfiles(self):\n",
        "    p_n = len(self.preference_lst)\n",
        "    prompt = self.preference_lst[0]\n",
        "\n",
        "    # if preference_lst has more than one preferece, create a single sentence representing all of them\n",
        "    if p_n > 1:\n",
        "      prompt = f'Here is a list of user preferences:{list2numbered(self.preference_lst)}'\n",
        "      prompt = generateText([{'role': 'user', 'content': prompt+'Create a single sentence of key words that describes all of these preferences:'}], tries = 2)\n",
        "\n",
        "    prompt = f'Here is a sentence describing the preferences of a user:{prompt}\\n'\n",
        "\n",
        "    # if profile number is specified, generate this specific number, otherwise let LLM decide\n",
        "    prompt += f'Create {self.prof_num} different versions of this sentence, where you add many new extra preferences on top that the user might have. Each sentence should have the known preferences and also have different imagined preferences from each other:'\n",
        "    # prompt += 'Create different versions of this sentence, where you add many new extra preferences on top that the user might have. Each sentence should have the known preferences and also have different imagined preferences from each other:'\n",
        "\n",
        "    return str2lst(generateText([{'role': 'user', 'content': prompt}], tries = 2))"
      ],
      "metadata": {
        "id": "Dh8P2VoV0XRK"
      },
      "execution_count": null,
      "outputs": []
    },
    {
      "cell_type": "code",
      "source": [
        "qs_ans = [[] for q in range(len(p_qs))]\n",
        "for idx, a in enumerate(ans): qs_ans[idx%len(p_qs)].append(a)\n",
        "print(len(qs_ans))\n",
        "print(len(qs_ans[0]))"
      ],
      "metadata": {
        "id": "ufNSNJfmjonl"
      },
      "execution_count": null,
      "outputs": []
    },
    {
      "cell_type": "code",
      "source": [
        "qs_ans[0]"
      ],
      "metadata": {
        "id": "phATC3i17x24"
      },
      "execution_count": null,
      "outputs": []
    },
    {
      "cell_type": "code",
      "source": [
        "# aggregating answers\n",
        "branches = [[] for q in range(len(p_qs))]\n",
        "for i, ans in enumerate(qs_ans):\n",
        "  branches[i] = aggregateAns(ans)\n",
        "\n",
        "for b in branches:\n",
        "  print(len(b))\n",
        "pprint.pprint(branches)"
      ],
      "metadata": {
        "id": "JXc9psnpvNIW"
      },
      "execution_count": null,
      "outputs": []
    },
    {
      "cell_type": "code",
      "source": [
        "branches = [[] for q in range(len(p_qs))]\n",
        "for i, ans in enumerate(qs_ans):\n",
        "  branches[i] = aggregateAns(ans, p_qs[i])\n",
        "\n",
        "for b in branches:\n",
        "  print(len(b))\n",
        "pprint.pprint(branches)"
      ],
      "metadata": {
        "id": "LDrBGPj8MRCD"
      },
      "execution_count": null,
      "outputs": []
    }
  ]
}