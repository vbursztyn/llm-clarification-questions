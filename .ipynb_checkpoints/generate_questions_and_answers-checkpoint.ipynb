{
 "cells": [
  {
   "cell_type": "code",
   "execution_count": 3,
   "id": "b4d26bbe",
   "metadata": {},
   "outputs": [],
   "source": [
    "import pandas as pd\n",
    "\n",
    "import openai"
   ]
  },
  {
   "cell_type": "code",
   "execution_count": 4,
   "id": "596cd4a4",
   "metadata": {},
   "outputs": [],
   "source": [
    "openai.api_key = os.getenv(\"OPENAI_API_KEY\")"
   ]
  },
  {
   "cell_type": "code",
   "execution_count": 5,
   "id": "4b5fd6ca",
   "metadata": {},
   "outputs": [
    {
     "data": {
      "text/plain": [
       "' digital experiences\\n'"
      ]
     },
     "execution_count": 5,
     "metadata": {},
     "output_type": "execute_result"
    }
   ],
   "source": [
    "def query_openai(model, prompt, max_tokens, temperature):\n",
    "    response = openai.Completion.create(\n",
    "        model=model,\n",
    "        prompt=prompt,\n",
    "        temperature=temperature,\n",
    "        max_tokens=max_tokens,\n",
    "        top_p=1,\n",
    "        frequency_penalty=0,\n",
    "        presence_penalty=0,\n",
    "    )\n",
    "\n",
    "    return response['choices'][0]['text']\n",
    "\n",
    "query_openai('text-davinci-003', 'Adobe, empowering the world through', 3, 0.7)"
   ]
  },
  {
   "cell_type": "code",
   "execution_count": 10,
   "id": "71fcb18a",
   "metadata": {},
   "outputs": [
    {
     "data": {
      "text/html": [
       "<div>\n",
       "<style scoped>\n",
       "    .dataframe tbody tr th:only-of-type {\n",
       "        vertical-align: middle;\n",
       "    }\n",
       "\n",
       "    .dataframe tbody tr th {\n",
       "        vertical-align: top;\n",
       "    }\n",
       "\n",
       "    .dataframe thead th {\n",
       "        text-align: right;\n",
       "    }\n",
       "</style>\n",
       "<table border=\"1\" class=\"dataframe\">\n",
       "  <thead>\n",
       "    <tr style=\"text-align: right;\">\n",
       "      <th></th>\n",
       "      <th>weather</th>\n",
       "      <th>pivot</th>\n",
       "      <th>candidates</th>\n",
       "    </tr>\n",
       "  </thead>\n",
       "  <tbody>\n",
       "    <tr>\n",
       "      <th>0</th>\n",
       "      <td>warm</td>\n",
       "      <td>Tripoli, Libya</td>\n",
       "      <td>Tunis, Tunisia; Marrakech, Morocco; Algiers, A...</td>\n",
       "    </tr>\n",
       "    <tr>\n",
       "      <th>1</th>\n",
       "      <td>warm</td>\n",
       "      <td>Vientiane, Laos</td>\n",
       "      <td>Hanoi, Vietnam; Siem Reap, Cambodia; Bangkok, ...</td>\n",
       "    </tr>\n",
       "    <tr>\n",
       "      <th>2</th>\n",
       "      <td>warm</td>\n",
       "      <td>Suva, Fiji</td>\n",
       "      <td>Apia, Samoa; Port Vila, Vanuatu; Honiara, Solo...</td>\n",
       "    </tr>\n",
       "    <tr>\n",
       "      <th>3</th>\n",
       "      <td>warm</td>\n",
       "      <td>La Paz, Mexico</td>\n",
       "      <td>Cancun, Mexico; Cabo San Lucas, Mexico; Mazatl...</td>\n",
       "    </tr>\n",
       "    <tr>\n",
       "      <th>4</th>\n",
       "      <td>warm</td>\n",
       "      <td>Garissa, Kenya</td>\n",
       "      <td>Mombasa, Kenya; Lamu, Kenya; Wajir, Kenya; Kis...</td>\n",
       "    </tr>\n",
       "    <tr>\n",
       "      <th>5</th>\n",
       "      <td>warm</td>\n",
       "      <td>Ho Chi Minh City, Vietnam</td>\n",
       "      <td>Hanoi, Vietnam; Bangkok, Thailand; Siem Reap, ...</td>\n",
       "    </tr>\n",
       "    <tr>\n",
       "      <th>6</th>\n",
       "      <td>warm</td>\n",
       "      <td>Brasília, Brazil</td>\n",
       "      <td>Quito, Ecuador; San Jose, Costa Rica; La Paz, ...</td>\n",
       "    </tr>\n",
       "    <tr>\n",
       "      <th>7</th>\n",
       "      <td>warm</td>\n",
       "      <td>Makassar, Indonesia</td>\n",
       "      <td>Bandar Seri Begawan, Brunei ; Kota Kinabalu, M...</td>\n",
       "    </tr>\n",
       "    <tr>\n",
       "      <th>8</th>\n",
       "      <td>warm</td>\n",
       "      <td>Brisbane, Australia</td>\n",
       "      <td>Cairns, Australia ; Townsville, Australia ; Da...</td>\n",
       "    </tr>\n",
       "    <tr>\n",
       "      <th>9</th>\n",
       "      <td>warm</td>\n",
       "      <td>Hat Yai, Thailand</td>\n",
       "      <td>Phuket, Thailand; Kota Kinabalu, Malaysia; Sin...</td>\n",
       "    </tr>\n",
       "    <tr>\n",
       "      <th>10</th>\n",
       "      <td>warm</td>\n",
       "      <td>Mombasa, Kenya</td>\n",
       "      <td>Zanzibar, Tanzania; Dar es Salaam, Tanzania; L...</td>\n",
       "    </tr>\n",
       "    <tr>\n",
       "      <th>11</th>\n",
       "      <td>warm</td>\n",
       "      <td>Makurdi, Nigeria</td>\n",
       "      <td>Agadir, Morocco; Marrakech, Morocco; Algiers, ...</td>\n",
       "    </tr>\n",
       "    <tr>\n",
       "      <th>12</th>\n",
       "      <td>warm</td>\n",
       "      <td>Thiès, Senegal</td>\n",
       "      <td>Dakar, Senegal; Banjul, Gambia; Nouakchott, Ma...</td>\n",
       "    </tr>\n",
       "    <tr>\n",
       "      <th>13</th>\n",
       "      <td>warm</td>\n",
       "      <td>Abéché, Chad</td>\n",
       "      <td>Ouagadougou, Burkina Faso; N'Djamena, Chad; Ou...</td>\n",
       "    </tr>\n",
       "    <tr>\n",
       "      <th>14</th>\n",
       "      <td>warm</td>\n",
       "      <td>Dar es Salaam, Tanzania</td>\n",
       "      <td>Mombasa, Kenya; Kigali, Rwanda; Maputo, Mozamb...</td>\n",
       "    </tr>\n",
       "    <tr>\n",
       "      <th>15</th>\n",
       "      <td>warm</td>\n",
       "      <td>Guadalajara, Mexico</td>\n",
       "      <td>San Miguel de Allende, Mexico; Querétaro, Mexi...</td>\n",
       "    </tr>\n",
       "    <tr>\n",
       "      <th>16</th>\n",
       "      <td>warm</td>\n",
       "      <td>Bamako, Mali</td>\n",
       "      <td>Banjul, Gambia; Ouagadougou, Burkina Faso; Lom...</td>\n",
       "    </tr>\n",
       "    <tr>\n",
       "      <th>17</th>\n",
       "      <td>warm</td>\n",
       "      <td>Rangpur, Bangladesh</td>\n",
       "      <td>Dhaka, Bangladesh; Kathmandu, Nepal; New Delhi...</td>\n",
       "    </tr>\n",
       "    <tr>\n",
       "      <th>18</th>\n",
       "      <td>warm</td>\n",
       "      <td>Douala, Cameroon</td>\n",
       "      <td>Buea, Cameroon; Lagos, Nigeria; Freetown, Sier...</td>\n",
       "    </tr>\n",
       "    <tr>\n",
       "      <th>19</th>\n",
       "      <td>warm</td>\n",
       "      <td>Lahore, Pakistan</td>\n",
       "      <td>Faisalabad, Pakistan; Islamabad, Pakistan; Kar...</td>\n",
       "    </tr>\n",
       "  </tbody>\n",
       "</table>\n",
       "</div>"
      ],
      "text/plain": [
       "   weather                      pivot   \n",
       "0     warm             Tripoli, Libya  \\\n",
       "1     warm            Vientiane, Laos   \n",
       "2     warm                 Suva, Fiji   \n",
       "3     warm             La Paz, Mexico   \n",
       "4     warm             Garissa, Kenya   \n",
       "5     warm  Ho Chi Minh City, Vietnam   \n",
       "6     warm           Brasília, Brazil   \n",
       "7     warm        Makassar, Indonesia   \n",
       "8     warm        Brisbane, Australia   \n",
       "9     warm          Hat Yai, Thailand   \n",
       "10    warm             Mombasa, Kenya   \n",
       "11    warm           Makurdi, Nigeria   \n",
       "12    warm             Thiès, Senegal   \n",
       "13    warm               Abéché, Chad   \n",
       "14    warm    Dar es Salaam, Tanzania   \n",
       "15    warm        Guadalajara, Mexico   \n",
       "16    warm               Bamako, Mali   \n",
       "17    warm        Rangpur, Bangladesh   \n",
       "18    warm           Douala, Cameroon   \n",
       "19    warm           Lahore, Pakistan   \n",
       "\n",
       "                                           candidates  \n",
       "0   Tunis, Tunisia; Marrakech, Morocco; Algiers, A...  \n",
       "1   Hanoi, Vietnam; Siem Reap, Cambodia; Bangkok, ...  \n",
       "2   Apia, Samoa; Port Vila, Vanuatu; Honiara, Solo...  \n",
       "3   Cancun, Mexico; Cabo San Lucas, Mexico; Mazatl...  \n",
       "4   Mombasa, Kenya; Lamu, Kenya; Wajir, Kenya; Kis...  \n",
       "5   Hanoi, Vietnam; Bangkok, Thailand; Siem Reap, ...  \n",
       "6   Quito, Ecuador; San Jose, Costa Rica; La Paz, ...  \n",
       "7   Bandar Seri Begawan, Brunei ; Kota Kinabalu, M...  \n",
       "8   Cairns, Australia ; Townsville, Australia ; Da...  \n",
       "9   Phuket, Thailand; Kota Kinabalu, Malaysia; Sin...  \n",
       "10  Zanzibar, Tanzania; Dar es Salaam, Tanzania; L...  \n",
       "11  Agadir, Morocco; Marrakech, Morocco; Algiers, ...  \n",
       "12  Dakar, Senegal; Banjul, Gambia; Nouakchott, Ma...  \n",
       "13  Ouagadougou, Burkina Faso; N'Djamena, Chad; Ou...  \n",
       "14  Mombasa, Kenya; Kigali, Rwanda; Maputo, Mozamb...  \n",
       "15  San Miguel de Allende, Mexico; Querétaro, Mexi...  \n",
       "16  Banjul, Gambia; Ouagadougou, Burkina Faso; Lom...  \n",
       "17  Dhaka, Bangladesh; Kathmandu, Nepal; New Delhi...  \n",
       "18  Buea, Cameroon; Lagos, Nigeria; Freetown, Sier...  \n",
       "19  Faisalabad, Pakistan; Islamabad, Pakistan; Kar...  "
      ]
     },
     "execution_count": 10,
     "metadata": {},
     "output_type": "execute_result"
    }
   ],
   "source": [
    "df_candidates = pd.read_csv('candidates.csv', index_col=0)\n",
    "\n",
    "df_candidates.head(20)"
   ]
  },
  {
   "cell_type": "markdown",
   "id": "2ca836c2",
   "metadata": {},
   "source": [
    "### Focus on a single example from the loaded data"
   ]
  },
  {
   "cell_type": "code",
   "execution_count": 13,
   "id": "af9252a0",
   "metadata": {},
   "outputs": [
    {
     "data": {
      "text/plain": [
       "weather                                                    warm\n",
       "pivot                                          Brasília, Brazil\n",
       "candidates    Quito, Ecuador; San Jose, Costa Rica; La Paz, ...\n",
       "Name: 6, dtype: object"
      ]
     },
     "execution_count": 13,
     "metadata": {},
     "output_type": "execute_result"
    }
   ],
   "source": [
    "example = df_candidates.iloc[6]\n",
    "\n",
    "example"
   ]
  },
  {
   "cell_type": "code",
   "execution_count": 73,
   "id": "228e305e",
   "metadata": {},
   "outputs": [],
   "source": [
    "all_candidates = [example['pivot']] + example['candidates'].split('; ')\n",
    "\n",
    "n_candidates = len(all_candidates)"
   ]
  },
  {
   "cell_type": "markdown",
   "id": "08f8c7f0",
   "metadata": {},
   "source": [
    "### Generate touristic highlights for each city on the candidates list"
   ]
  },
  {
   "cell_type": "code",
   "execution_count": 61,
   "id": "9a9a6735",
   "metadata": {},
   "outputs": [],
   "source": [
    "max_highlight_len = 20\n",
    "\n",
    "prompt = \"For each one of the cities below, write its touristic highlights in less than 20 words, separating them with a line break.\" + '\\n'.join(all_candidates)\n",
    "\n",
    "highlights = '\\n'.join([query_openai('text-davinci-003', prompt, n_candidates*max_highlight_len, 0.7) for _ in range(3)])"
   ]
  },
  {
   "cell_type": "code",
   "execution_count": 62,
   "id": "9d0d1349",
   "metadata": {},
   "outputs": [
    {
     "data": {
      "text/plain": [
       "\"\\n\\nBrasília: Monumental Axis, Cathedral of Brasilia, Paranoá Lake\\nQuito: Historic Center, Equator Monument, Mitad del Mundo\\nSan Jose: National Theater, Gold Museum, La Paz Waterfall\\nLa Paz: Witches' Market, Tiwanaku Ruins, Moon Valley\\nAsuncion: Government Palace, National Pantheon, Museums\\nCaracas: Avila National Park, Caracas Cathedral, Los Caobos Park\\nBogota: Gold Museum, Monserrate Hill, Botero Museum\\nLima: Historic Center, Miraflores, Larco Museum\\nSantiago: Plaza de Armas, San Cristobal Hill, La Chascona\\nBuenos Aires: La Boca, Teatro Colon, Recoleta Cemetery\\nManagua: Old Cathedral, Masaya Volcano, Tiscapa Lagoon\\nMontevideo: Ciudad Vieja, Palacio Salvo, Rambla\\nGuatemala City: National Palace, La Merced Church, Tikal\\nSan Salvador: Monument to Heroes, Metropolitan Cathedral, Cinquera Forest\\nPanama City: Casco Viejo, Panama Canal, Amador Causeway\\nMexico City: Historic Center, Chapultepec Park, Palacio de Bellas Artes\\nKingston: Bob Marley Museum, Hope Botanic Garden, Devon House\\nHavana: Old Havana, Malecón, Revolution Square\\nSan Juan: Old San Juan, El Morro, Bacardi Factory\\nSanto Domingo: Colonial Zone, Alcazar de Colon, Cathedral of America\\nPort of Spain: Queen's Park Savannah, National Museum, Maracas Beach\\n\\nBrasília: Parliament House, Cathedral, National Park.\\nQuito: Colonial old town, Equator Monument, Volcán Pichincha.\\nSan Jose: National Theatre, Zoológico Simón Bolívar, Central Market.\\nLa Paz: Valley of the Moon, Witches' Market, Cable Car.\\nAsuncion: Palacio de los López, Paraguay River, Botanical Garden.\\nCaracas: Avila National Park, Ávila Cable Car, El Hatillo Town.\\nBogota: Gold Museum, Monserrate Hill, Botero Museum.\\nLima: Plaza Mayor, Catacombs of San Francisco, Larco Museum.\\nSantiago: Plaza de Armas, Cerro San Cristobal, La Moneda Palace.\\nBuenos Aires: Recoleta Cemetery, Teatro Colón, Café Tortoni.\\nManagua: Loma de Tiscapa, National Palace, Masaya Volcano.\\nMontevideo: Ciudad Vieja, Rambla, Palacio Salvo.\\nGuatemala City: National Palace, La Merced Church, Miraflores Museum.\\nSan Salvador: National Theater, Joya de Ceren, Puerta del Diablo.\\nPanama City: Panama Canal, Casco Viejo, Amador Causeway.\\nMexico City: Zócalo, Chapultepec Park, Templo Mayor.\\nKingston: Bob Marley Museum, Devon House, Blue Mountains.\\nHavana: Old Town, El Malecón, Rum Museum.\\nSan Juan: Castillo San Cristobal, El Yunque National Forest, La Placita.\\nSanto Domingo: Colonial Zone, Three Eyes National Park, Carnival.\\nPort of Spain: Queen’s Park Savannah, Maracas Bay, Emperor Valley Zoo.\\n\\n\\nBrasília: Monumental Axis, Brasília Cathedral, Juscelino Kubitschek Memorial\\nQuito: Historic Centre, Basilica del Voto Nacional, La Mitad del Mundo\\nSan Jose: National Theatre, Central Market, Poás Volcano National Park\\nLa Paz: Valle de la Luna, Mercado de las Brujas, Tiwanaku\\nAsuncion: Asuncion Bay, Museo del Barro, Palacio de los López\\nCaracas: Avila National Park, El Hatillo, Museo de Arte Contemporáneo\\nBogota: Gold Museum, Monserrate Hill, La Candelaria\\nLima: Historic Centre, Plaza de Armas, Huaca Pucllana\\nSantiago: Cerro Santa Lucia, Plaza de Arma, Museo Chileno de Arte Precolombino\\nBuenos Aires: La Boca, Obelisco, Recoleta Cemetery\\nManagua: Parque Nacional, Masaya Volcano, Monumento Nacional\\nMontevideo: Ciudad Vieja, Rambla de Montevideo, Plaza Independencia\\nGuatemala City: National Palace, Iglesia de la Merced, La Aurora Zoo\\nSan Salvador: Metropolitan Cathedral, Parque Nacional El Boquerón, Cerro Verde\\nPanama City: Casco Viejo, Miraflores Locks, Panama Canal\\nMexico City: Zocalo, Teotihuacan, Frida Kahlo Museum\\nKingston: Bob Marley Museum, Devon House, Hope Botanical Gardens\\nHavana: Old Town, El Morro Castle, Malecon\\nSan Juan: Old San Juan, El Yunque Rainforest, El Morro Castle\\nSanto Domingo: Colonial Zone, Parque Colon, Catedral Primada de America\\nPort of Spain: Royal Botanic Gardens, Queen’s Park Savannah, Caroni Bird Sanctuary\""
      ]
     },
     "execution_count": 62,
     "metadata": {},
     "output_type": "execute_result"
    }
   ],
   "source": [
    "highlights"
   ]
  },
  {
   "cell_type": "code",
   "execution_count": 63,
   "id": "54c4dcbd",
   "metadata": {},
   "outputs": [],
   "source": [
    "prompt = f\"Consolidate the lists below into a single, exhaustive list of highlights for each city.\\n{highlights}\\nNew list:\"\n",
    "\n",
    "highlights = query_openai('text-davinci-003', prompt, n_candidates*max_highlight_len*2, 0.7)"
   ]
  },
  {
   "cell_type": "code",
   "execution_count": 64,
   "id": "ccd469e8",
   "metadata": {},
   "outputs": [
    {
     "data": {
      "text/plain": [
       "\"\\nBrasília: Monumental Axis, Brasília Cathedral, Paranoá Lake, Juscelino Kubitschek Memorial\\nQuito: Historic Centre, Basilica del Voto Nacional, La Mitad del Mundo, Equator Monument\\nSan Jose: National Theatre, Central Market, Poás Volcano National Park, Gold Museum, La Paz Waterfall\\nLa Paz: Valle de la Luna, Mercado de las Brujas, Tiwanaku, Witches' Market\\nAsuncion: Asuncion Bay, Museo del Barro, Palacio de los López, Government Palace, National Pantheon, Museums\\nCaracas: Avila National Park, El Hatillo, Museo de Arte Contemporáneo, Avila Cable Car, Los Caobos Park\\nBogota: Gold Museum, Monserrate Hill, La Candelaria, Botero Museum\\nLima: Historic Centre, Plaza de Armas, Huaca Pucllana, Miraflores, Larco Museum\\nSantiago: Cerro Santa Lucia, Plaza de Arma, Museo Chileno de Arte Precolombino, San Cristobal Hill, La Chascona\\nBuenos Aires: La Boca, Obelisco, Recoleta Cemetery, Teatro Colon, Café Tortoni\\nManagua: Parque Nacional, Masaya Volcano, Monumento Nacional, Old Cathedral, Tiscapa Lagoon\\nMontevideo: Ciudad Vieja, Rambla de Montevideo, Plaza Independencia, Palacio Salvo, Rambla\\nGuatemala City: National Palace, Iglesia de la Merced, La Aurora Zoo, La Merced Church, Tikal\\nSan Salvador: Metropolitan Cathedral, Parque Nacional El Boquerón, Cerro Verde, Monument to Heroes, Cinquera Forest\\nPanama City: Casco Viejo, Miraflores Locks, Panama Canal, Amador Causeway\\nMexico City: Zocalo, Teotihuacan, Frida Kahlo Museum, Chapultepec Park, Palacio de Bellas Artes\\nKingston: Bob Marley Museum, Devon House, Hope Botanical Gardens, Blue Mountains\\nHavana: Old Town, El Morro Castle, Malecon, Revolution Square\\nSan Juan: Old San Juan, El Yunque Rainforest, El Morro Castle, La Placita, Bacardi Factory\\nSanto Domingo: Colonial Zone, Parque Colon, Catedral Primada de America, Alcazar de Colon, Cathedral of America\\nPort of Spain: Royal Botanic Gardens, Queen’s Park Savannah, Caroni Bird Sanctuary, National Museum, Maracas Beach\""
      ]
     },
     "execution_count": 64,
     "metadata": {},
     "output_type": "execute_result"
    }
   ],
   "source": [
    "highlights"
   ]
  },
  {
   "cell_type": "markdown",
   "id": "b571e0b5",
   "metadata": {},
   "source": [
    "### Use the touristic highlights to generate potential clarification questions"
   ]
  },
  {
   "cell_type": "code",
   "execution_count": 76,
   "id": "e1d16d35",
   "metadata": {},
   "outputs": [],
   "source": [
    "prompt = f\"Use the characteristics that are common across cities to formulate questions that can be used to shorten the list of cities below. Separate them with a line break.\\nCity characteristics:{highlights}\\nQuestions:\"\n",
    "\n",
    "questions = query_openai('text-davinci-003', prompt, n_candidates*max_highlight_len*2, 0.9)"
   ]
  },
  {
   "cell_type": "code",
   "execution_count": 77,
   "id": "7e98fdf3",
   "metadata": {},
   "outputs": [
    {
     "data": {
      "text/plain": [
       "'\\n\\nDoes the city have a National Park?\\nDoes the city have a Memorial or Monument?\\nDoes the city have a Lake or River?\\nDoes the city have any Castles or other Historical Sites?\\nDoes the city have any Theatres or Museums?\\nDoes the city have any Parks or Gardens?'"
      ]
     },
     "execution_count": 77,
     "metadata": {},
     "output_type": "execute_result"
    }
   ],
   "source": [
    "questions"
   ]
  },
  {
   "cell_type": "markdown",
   "id": "7362f045",
   "metadata": {},
   "source": [
    "### Based on the touristic highlights, populate the answer for each question and city pair"
   ]
  },
  {
   "cell_type": "code",
   "execution_count": 91,
   "id": "4c349465",
   "metadata": {},
   "outputs": [
    {
     "name": "stdout",
     "output_type": "stream",
     "text": [
      "Does the city have a National Park?\n",
      " Yes: 12\n",
      " No: 9\n",
      "**************************************************\n",
      "Does the city have a Memorial or Monument?\n",
      " Yes: 21\n",
      "**************************************************\n",
      "Does the city have a Lake or River?\n",
      " Yes: 1\n",
      " No: 20\n",
      "**************************************************\n",
      "Does the city have any Castles or other Historical Sites?\n",
      " No: 2\n",
      " Yes: 19\n",
      "**************************************************\n",
      "Does the city have any Theatres or Museums?\n",
      " Yes: 21\n",
      "**************************************************\n",
      "Does the city have any Parks or Gardens?\n",
      " Yes: 21\n",
      "**************************************************\n"
     ]
    }
   ],
   "source": [
    "answers = {}\n",
    "\n",
    "for question in questions.strip().split('\\n'):\n",
    "    if question not in answers:\n",
    "        answers[question] = {}\n",
    "    \n",
    "    for candidate in all_candidates:\n",
    "        prompt = f\"Based on the city characteristics below, answer the question for a given city.\\nCity characteristics:{highlights}\\nQuestion: {question}\\nCity: {candidate}\\nAnswer:\"\n",
    "        answer = query_openai('text-davinci-003', prompt, 1, 1.0)\n",
    "        if answer not in answers[question]:\n",
    "            answers[question][answer] = []\n",
    "        answers[question][answer].append(candidate)\n",
    "    \n",
    "    print(question)\n",
    "    for answer in answers[question]:\n",
    "        print(f\"{answer}: {len(answers[question][answer])}\")\n",
    "    print('*'*50)"
   ]
  },
  {
   "cell_type": "markdown",
   "id": "55d1da30",
   "metadata": {},
   "source": [
    "### Save for future use"
   ]
  },
  {
   "cell_type": "code",
   "execution_count": 100,
   "id": "7256717f",
   "metadata": {},
   "outputs": [
    {
     "data": {
      "text/html": [
       "<div>\n",
       "<style scoped>\n",
       "    .dataframe tbody tr th:only-of-type {\n",
       "        vertical-align: middle;\n",
       "    }\n",
       "\n",
       "    .dataframe tbody tr th {\n",
       "        vertical-align: top;\n",
       "    }\n",
       "\n",
       "    .dataframe thead th {\n",
       "        text-align: right;\n",
       "    }\n",
       "</style>\n",
       "<table border=\"1\" class=\"dataframe\">\n",
       "  <thead>\n",
       "    <tr style=\"text-align: right;\">\n",
       "      <th></th>\n",
       "      <th>city</th>\n",
       "      <th>National Park?</th>\n",
       "      <th>Memorial or Monument?</th>\n",
       "      <th>Lake or River?</th>\n",
       "      <th>Castles or other Historical Sites?</th>\n",
       "      <th>Theatres or Museums?</th>\n",
       "      <th>Parks or Gardens?</th>\n",
       "    </tr>\n",
       "  </thead>\n",
       "  <tbody>\n",
       "    <tr>\n",
       "      <th>0</th>\n",
       "      <td>Brasília, Brazil</td>\n",
       "      <td>1</td>\n",
       "      <td>1</td>\n",
       "      <td>1</td>\n",
       "      <td>0</td>\n",
       "      <td>1</td>\n",
       "      <td>1</td>\n",
       "    </tr>\n",
       "    <tr>\n",
       "      <th>1</th>\n",
       "      <td>Quito, Ecuador</td>\n",
       "      <td>0</td>\n",
       "      <td>1</td>\n",
       "      <td>0</td>\n",
       "      <td>1</td>\n",
       "      <td>1</td>\n",
       "      <td>1</td>\n",
       "    </tr>\n",
       "    <tr>\n",
       "      <th>2</th>\n",
       "      <td>San Jose, Costa Rica</td>\n",
       "      <td>1</td>\n",
       "      <td>1</td>\n",
       "      <td>0</td>\n",
       "      <td>1</td>\n",
       "      <td>1</td>\n",
       "      <td>1</td>\n",
       "    </tr>\n",
       "    <tr>\n",
       "      <th>3</th>\n",
       "      <td>La Paz, Bolivia</td>\n",
       "      <td>0</td>\n",
       "      <td>1</td>\n",
       "      <td>0</td>\n",
       "      <td>0</td>\n",
       "      <td>1</td>\n",
       "      <td>1</td>\n",
       "    </tr>\n",
       "    <tr>\n",
       "      <th>4</th>\n",
       "      <td>Asuncion, Paraguay</td>\n",
       "      <td>0</td>\n",
       "      <td>1</td>\n",
       "      <td>0</td>\n",
       "      <td>1</td>\n",
       "      <td>1</td>\n",
       "      <td>1</td>\n",
       "    </tr>\n",
       "  </tbody>\n",
       "</table>\n",
       "</div>"
      ],
      "text/plain": [
       "                   city  National Park?  Memorial or Monument?   \n",
       "0      Brasília, Brazil               1                      1  \\\n",
       "1        Quito, Ecuador               0                      1   \n",
       "2  San Jose, Costa Rica               1                      1   \n",
       "3       La Paz, Bolivia               0                      1   \n",
       "4    Asuncion, Paraguay               0                      1   \n",
       "\n",
       "   Lake or River?  Castles or other Historical Sites?  Theatres or Museums?   \n",
       "0               1                                   0                     1  \\\n",
       "1               0                                   1                     1   \n",
       "2               0                                   1                     1   \n",
       "3               0                                   0                     1   \n",
       "4               0                                   1                     1   \n",
       "\n",
       "   Parks or Gardens?  \n",
       "0                  1  \n",
       "1                  1  \n",
       "2                  1  \n",
       "3                  1  \n",
       "4                  1  "
      ]
     },
     "execution_count": 100,
     "metadata": {},
     "output_type": "execute_result"
    }
   ],
   "source": [
    "city_q_and_a = {city : {} for city in all_candidates}\n",
    "\n",
    "for question in answers:\n",
    "    short_q = ' '.join(question.split()[5:])\n",
    "    for answer in answers[question]:\n",
    "        for city in answers[question][answer]:\n",
    "            city_q_and_a[city][short_q] = int('Yes' in answer)\n",
    "\n",
    "q_and_a_tuples = []\n",
    "\n",
    "for city in city_q_and_a:\n",
    "    q_and_a_tuple = {'city' : city}\n",
    "    for short_q in city_q_and_a[city]:\n",
    "        q_and_a_tuple[short_q] = city_q_and_a[city][short_q]\n",
    "    q_and_a_tuples.append(q_and_a_tuple)\n",
    "\n",
    "df_q_and_a = pd.DataFrame(q_and_a_tuples)\n",
    "df_q_and_a.head()"
   ]
  },
  {
   "cell_type": "code",
   "execution_count": 101,
   "id": "7155a103",
   "metadata": {},
   "outputs": [],
   "source": [
    "df_q_and_a.to_csv('q_and_a_example.csv')"
   ]
  },
  {
   "cell_type": "code",
   "execution_count": 102,
   "id": "479f137b",
   "metadata": {},
   "outputs": [
    {
     "name": "stdout",
     "output_type": "stream",
     "text": [
      "-rw-r--r--  1 vbursztyn  staff    32K May  3 23:28 candidates.csv\r\n",
      "-rw-r--r--  1 vbursztyn  staff   908B May  4 19:25 q_and_a_example.csv\r\n"
     ]
    }
   ],
   "source": [
    "! ls -lah *.csv"
   ]
  }
 ],
 "metadata": {
  "kernelspec": {
   "display_name": "Python 3 (ipykernel)",
   "language": "python",
   "name": "python3"
  },
  "language_info": {
   "codemirror_mode": {
    "name": "ipython",
    "version": 3
   },
   "file_extension": ".py",
   "mimetype": "text/x-python",
   "name": "python",
   "nbconvert_exporter": "python",
   "pygments_lexer": "ipython3",
   "version": "3.8.10"
  }
 },
 "nbformat": 4,
 "nbformat_minor": 5
}
